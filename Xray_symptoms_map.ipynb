{
  "nbformat": 4,
  "nbformat_minor": 0,
  "metadata": {
    "colab": {
      "name": "app_symptoms_Xray.ipynb",
      "provenance": [],
      "collapsed_sections": [],
      "authorship_tag": "ABX9TyPeJTcep7e7KCTQVYs6QGO4",
      "include_colab_link": true
    },
    "kernelspec": {
      "display_name": "Python 3",
      "name": "python3"
    },
    "language_info": {
      "name": "python"
    }
  },
  "cells": [
    {
      "cell_type": "markdown",
      "metadata": {
        "id": "view-in-github",
        "colab_type": "text"
      },
      "source": [
        "<a href=\"https://colab.research.google.com/github/Jackelyneg/covid-19-image-classification/blob/main/Xray_symptoms_map.ipynb\" target=\"_parent\"><img src=\"https://colab.research.google.com/assets/colab-badge.svg\" alt=\"Open In Colab\"/></a>"
      ]
    },
    {
      "cell_type": "code",
      "metadata": {
        "id": "kBgxvFUbBg1g",
        "colab": {
          "base_uri": "https://localhost:8080/"
        },
        "outputId": "94bd46fc-6c1c-4d94-edb7-85b42cdb3465"
      },
      "source": [
        "!pip install flask-ngrok\n",
        "!pip install flask-bootstrap"
      ],
      "execution_count": 27,
      "outputs": [
        {
          "output_type": "stream",
          "name": "stdout",
          "text": [
            "Requirement already satisfied: flask-ngrok in /usr/local/lib/python3.7/dist-packages (0.0.25)\n",
            "Requirement already satisfied: requests in /usr/local/lib/python3.7/dist-packages (from flask-ngrok) (2.23.0)\n",
            "Requirement already satisfied: Flask>=0.8 in /usr/local/lib/python3.7/dist-packages (from flask-ngrok) (1.1.4)\n",
            "Requirement already satisfied: Werkzeug<2.0,>=0.15 in /usr/local/lib/python3.7/dist-packages (from Flask>=0.8->flask-ngrok) (1.0.1)\n",
            "Requirement already satisfied: click<8.0,>=5.1 in /usr/local/lib/python3.7/dist-packages (from Flask>=0.8->flask-ngrok) (7.1.2)\n",
            "Requirement already satisfied: Jinja2<3.0,>=2.10.1 in /usr/local/lib/python3.7/dist-packages (from Flask>=0.8->flask-ngrok) (2.11.3)\n",
            "Requirement already satisfied: itsdangerous<2.0,>=0.24 in /usr/local/lib/python3.7/dist-packages (from Flask>=0.8->flask-ngrok) (1.1.0)\n",
            "Requirement already satisfied: MarkupSafe>=0.23 in /usr/local/lib/python3.7/dist-packages (from Jinja2<3.0,>=2.10.1->Flask>=0.8->flask-ngrok) (2.0.1)\n",
            "Requirement already satisfied: chardet<4,>=3.0.2 in /usr/local/lib/python3.7/dist-packages (from requests->flask-ngrok) (3.0.4)\n",
            "Requirement already satisfied: urllib3!=1.25.0,!=1.25.1,<1.26,>=1.21.1 in /usr/local/lib/python3.7/dist-packages (from requests->flask-ngrok) (1.24.3)\n",
            "Requirement already satisfied: certifi>=2017.4.17 in /usr/local/lib/python3.7/dist-packages (from requests->flask-ngrok) (2021.5.30)\n",
            "Requirement already satisfied: idna<3,>=2.5 in /usr/local/lib/python3.7/dist-packages (from requests->flask-ngrok) (2.10)\n",
            "Requirement already satisfied: flask-bootstrap in /usr/local/lib/python3.7/dist-packages (3.3.7.1)\n",
            "Requirement already satisfied: dominate in /usr/local/lib/python3.7/dist-packages (from flask-bootstrap) (2.6.0)\n",
            "Requirement already satisfied: Flask>=0.8 in /usr/local/lib/python3.7/dist-packages (from flask-bootstrap) (1.1.4)\n",
            "Requirement already satisfied: visitor in /usr/local/lib/python3.7/dist-packages (from flask-bootstrap) (0.1.3)\n",
            "Requirement already satisfied: Werkzeug<2.0,>=0.15 in /usr/local/lib/python3.7/dist-packages (from Flask>=0.8->flask-bootstrap) (1.0.1)\n",
            "Requirement already satisfied: Jinja2<3.0,>=2.10.1 in /usr/local/lib/python3.7/dist-packages (from Flask>=0.8->flask-bootstrap) (2.11.3)\n",
            "Requirement already satisfied: click<8.0,>=5.1 in /usr/local/lib/python3.7/dist-packages (from Flask>=0.8->flask-bootstrap) (7.1.2)\n",
            "Requirement already satisfied: itsdangerous<2.0,>=0.24 in /usr/local/lib/python3.7/dist-packages (from Flask>=0.8->flask-bootstrap) (1.1.0)\n",
            "Requirement already satisfied: MarkupSafe>=0.23 in /usr/local/lib/python3.7/dist-packages (from Jinja2<3.0,>=2.10.1->Flask>=0.8->flask-bootstrap) (2.0.1)\n"
          ]
        }
      ]
    },
    {
      "cell_type": "code",
      "metadata": {
        "id": "o2p5iVP-BjaK"
      },
      "source": [
        "from flask_ngrok import run_with_ngrok\n",
        "import numpy as np\n",
        "import tensorflow as tf\n",
        "from flask import Flask,jsonify,make_response,request,render_template,flash,redirect,url_for\n",
        "from werkzeug.utils import secure_filename\n",
        "from tensorflow.keras.models import load_model\n",
        "import pickle\n",
        "import os"
      ],
      "execution_count": 28,
      "outputs": []
    },
    {
      "cell_type": "code",
      "metadata": {
        "colab": {
          "base_uri": "https://localhost:8080/"
        },
        "id": "Oy_wOEzcBmYr",
        "outputId": "204c0960-5d2d-4e82-c5a4-0ca3bdeacea9"
      },
      "source": [
        "\n",
        "from google.colab import drive\n",
        "drive.mount('/content/drive')"
      ],
      "execution_count": 29,
      "outputs": [
        {
          "output_type": "stream",
          "name": "stdout",
          "text": [
            "Drive already mounted at /content/drive; to attempt to forcibly remount, call drive.mount(\"/content/drive\", force_remount=True).\n"
          ]
        }
      ]
    },
    {
      "cell_type": "code",
      "metadata": {
        "id": "buRBykI1-Ibo"
      },
      "source": [
        "UPLOAD_FOLDER = '/content/drive/MyDrive/Colab Notebooks/project4/static'\n",
        "ALLOWED_EXTENSIONS = {'jpg','jpeg'}\n"
      ],
      "execution_count": 30,
      "outputs": []
    },
    {
      "cell_type": "code",
      "metadata": {
        "colab": {
          "base_uri": "https://localhost:8080/"
        },
        "id": "OkpMaEASBpab",
        "outputId": "b95eb4e2-cabc-4ca9-b0a9-949f0f89585e"
      },
      "source": [
        "\n",
        "\n",
        "\n",
        "from flask import Flask, request, jsonify, render_template,url_for\n",
        "import pickle\n",
        "import folium\n",
        "from math import cos, asin, sqrt, pi\n",
        "import pandas as pd\n",
        "import folium.plugins\n",
        "folium.plugins.MarkerCluster()\n",
        "\n",
        "from flask_ngrok import run_with_ngrok\n",
        "app = Flask(__name__, template_folder=\"/content/drive/MyDrive/Colab Notebooks/project4/templates\",static_folder=\"/content/drive/MyDrive/Colab Notebooks/project4/static\" )\n",
        "app.config['SESSION_TYPE'] = 'memcached'\n",
        "app.config['SECRET_KEY'] = 'super secret key'\n",
        "\n",
        "run_with_ngrok(app)\n",
        "# @app.route(\"/\")\n",
        "# def home():\n",
        "#   return render_template('index.html')\n",
        "\n",
        "\n",
        "app.config['UPLOAD_FOLDER'] = UPLOAD_FOLDER\n",
        "def allowed_file(filename):\n",
        "    print('.' in filename and \\\n",
        "           filename.rsplit('.', 1)[1].lower() in ALLOWED_EXTENSIONS)\n",
        "    return '.' in filename and \\\n",
        "           filename.rsplit('.', 1)[1].lower() in ALLOWED_EXTENSIONS\n",
        "@app.route(\"/\")\n",
        "def home():\n",
        "  return render_template('index.html')\n",
        "\n",
        "@app.route('/page2', methods=['GET', 'POST'])\n",
        "def upload_file():\n",
        "\n",
        "    if request.method == 'POST':\n",
        "        # check if the post request has the file part\n",
        "        if 'file' not in request.files:\n",
        "            flash('No file part')\n",
        "            return redirect(request.url)\n",
        "        file = request.files['file']\n",
        "        # If the user does not select a file, the browser submits an\n",
        "        # empty file without a filename.\n",
        "        if file.filename == '':\n",
        "            flash('No selected file')\n",
        "            return redirect(request.url)\n",
        "        if file and allowed_file(file.filename):\n",
        "            filename = secure_filename(file.filename)\n",
        "            file.save(os.path.join(app.config['UPLOAD_FOLDER'], filename))\n",
        "            predictions=download_file(name=filename)\n",
        "            \n",
        "\n",
        "            full_filename=url_for('static',filename = filename)\n",
        "\n",
        "            print(full_filename)\n",
        "            return render_template(\"xray.html\",predictions_text=predictions,filename=full_filename) \n",
        "            #return redirect(url_for('download_file', name=filename))\n",
        "    return render_template(\"xray.html\")       \n",
        "       \n",
        "\n",
        "\n",
        "from flask import send_from_directory\n",
        "\n",
        "@app.route('/uploads/<name>')\n",
        "def download_file(name):\n",
        "      \n",
        "     return xraypred(name)\n",
        "#@app.route(\"/getxraypredictions\")\n",
        "def xraypred(fileName):\n",
        "\n",
        "  model = load_model(\"/content/drive/MyDrive/project4data/mymodel.h5\")\n",
        "  from tensorflow.keras.preprocessing import image\n",
        "  filepath=\"/content/drive/MyDrive/Colab Notebooks/project4/static\"+\"/\"+fileName\n",
        "  print(filepath)\n",
        " \n",
        "  image_size = (256, 256,1)\n",
        "  im = image.load_img(filepath, target_size=image_size, color_mode=\"grayscale\")\n",
        "  \n",
        "  from tensorflow.keras.preprocessing.image import img_to_array\n",
        "\n",
        "  image = img_to_array(im)\n",
        "  img = image.flatten().reshape( -1,256, 256,1)\n",
        "  #plt.imshow(img.reshape(256, 256))\n",
        "  img = 1 - img\n",
        "  #plt.imshow(img.reshape(256, 256), cmap=plt.cm.Greys)\n",
        "  predictions = model.predict(img)\n",
        "  predicted= np.argmax(predictions,axis=1)\n",
        "  if predicted ==0:\n",
        "    predicted_string=\"The person has Covid\"\n",
        "  if predicted ==1:\n",
        "    predicted_string=\"the person does not have Covid\"\n",
        "  #print(predicted_string)\n",
        "  #predictions_string=np.array_str(predicted)\n",
        "  \n",
        "    \n",
        "  return (predicted_string)\n",
        "  \n",
        "\n",
        "model = pickle.load(open(\"/content/drive/MyDrive/Colab Notebooks/project4/model2.pkl\", 'rb'))  # file path may be different\n",
        "\n",
        "@app.route('/symptoms')\n",
        "def symptoms():\n",
        "    return render_template('symptoms1.html')\n",
        "@app.route('/predict', methods=['POST'])\n",
        "def predict():\n",
        "    int_features = [int(x) for x in request.form.values()]\n",
        "    final_features=[np.array(int_features)]\n",
        "    prediction=model.predict(final_features)\n",
        "    output=round(prediction[0],2)\n",
        "    if prediction == 1:\n",
        "        pred = \"Your symptoms show Covid detection, please consult a Doctor.\"\n",
        "    elif prediction == 0:\n",
        "        pred = \"You don't have Covid.\"\n",
        "    output = pred\n",
        "    return render_template('symptoms1.html', prediction_text='COVID Results {}'.format(output))\n",
        "\n",
        "\n",
        "@app.route('/map',methods=['GET','POST'])\n",
        "def drawmap():\n",
        "  zipcode=request.form.get('zipcode')\n",
        "  \n",
        "  data=pd.read_csv(\"/content/drive/MyDrive/data.csv\")\n",
        "  hosp_df=pd.read_csv('/content/drive/MyDrive/Colab Notebooks/testMap/hospital_zip.csv')\n",
        "  hosp_df=(hosp_df[[\"hospital_name\", \"address\", \"city\", \"state\", \"zip\", \"LAT\", \"LNG\"]])\n",
        "  hosp_df['zip'] = hosp_df['zip'].apply(lambda x: '{0:0>5}'.format(x))\n",
        "  \n",
        "  for i, row in hosp_df.iterrows():\n",
        "   \n",
        "    if zipcode == row['zip']:\n",
        "        lat2=row['LAT']\n",
        "        long2=row['LNG']\n",
        "      \n",
        "  # p=pi/180\n",
        "  # results=[]\n",
        "  # zips = []\n",
        "  # lats = []\n",
        "  # longs = []\n",
        "  # for i, row in data.iterrows():\n",
        "  #   #hospital=hosp_df['hospital_name'][i]\n",
        "  #   lat1=row['latitude']\n",
        "  #   long1=row['longitude']\n",
        "  #   zip_code=row['zip']\n",
        "  #   a = 0.5 - cos((lat2-lat1)*p)/2 + cos(lat1*p) * cos(lat2*p) * (1-cos((long2-long1)*p))/2\n",
        "  #   result=12742*asin(sqrt(a))\n",
        "  #   results.append(result)\n",
        "  #   zips.append(zip_code)\n",
        "  #   lats.append(lat1)\n",
        "  #   longs.append(long1)\n",
        "\n",
        "\n",
        "  p=pi/180\n",
        "  results=[]\n",
        "  zips = []\n",
        "  lats = []\n",
        "  longs = []\n",
        "  hospitals = []\n",
        "  addresses= []\n",
        "  cities = []\n",
        "  states = []\n",
        "\n",
        "  for i, row in hosp_df.iterrows():\n",
        "      lat1=row['LAT']\n",
        "      long1=row['LNG']\n",
        "      hospital=hosp_df['hospital_name'][i]\n",
        "      address=hosp_df['address'][i]\n",
        "      city=hosp_df['city'][i]\n",
        "      state=hosp_df['state'][i]\n",
        "      zip_code=row['zip']\n",
        "      a = 0.5 - cos((lat2-lat1)*p)/2 + cos(lat1*p) * cos(lat2*p) * (1-cos((long2-long1)*p))/2\n",
        "      result=12742*asin(sqrt(a))\n",
        "      results.append(result)\n",
        "      zips.append(zip_code)\n",
        "      lats.append(lat1)\n",
        "      longs.append(long1)\n",
        "      hospitals.append(hospital)\n",
        "      #print(hospitals)\n",
        "      addresses.append(address)\n",
        "      cities.append(city)\n",
        "      states.append(state)\n",
        "    \n",
        "  df = pd.DataFrame(list(zip(results, zips, lats, longs, hospitals, addresses, cities, states)),\n",
        "               columns =['distance', 'zip_codes', 'latitude', 'longitude', 'hospital', 'address', 'city', 'state'])\n",
        "  fifteen_miles = df[df['distance']<= 15]\n",
        "  import folium.plugins\n",
        "  \n",
        "\n",
        "  #Base Map\n",
        "  usa = [37.090240, -95.712891]\n",
        "  Map_object = folium.Map(location=usa, zoom_start=4)\n",
        "  print(Map_object)\n",
        "  \n",
        "  for i in range(0, len(fifteen_miles)):\n",
        "    folium.Marker([fifteen_miles.iloc[i][\"latitude\"], fifteen_miles.iloc[i][\"longitude\"]], popup=fifteen_miles.iloc[i][\"hospital\"]).add_to(Map_object)\n",
        "\n",
        "  folium.plugins.MarkerCluster()\n",
        "  folium.plugins.marker_cluster.MarkerCluster\n",
        "  \n",
        "  marker_cluster = MarkerCluster().add_to(Map_object)\n",
        "  #marker_cluster = folium.plugins.MarkerCluster()(\"hopitals\").add_to(Map)\n",
        "\n",
        "# # Load locally stored colchester public toilets data\n",
        "\n",
        "  for i in range(0, len(fifteen_miles)):\n",
        "    folium.Marker([fifteen_miles.iloc[i][\"latitude\"], fifteen_miles.iloc[i][\"longitude\"]], popup=fifteen_miles.iloc[i][\"zip_codes\"]).add_to(marker_cluster)\n",
        "  \n",
        "\n",
        "  print(Map_object._repr_html_())\n",
        "  return Map_object._repr_html_()\n",
        "\n",
        "\n",
        "\n",
        "\n",
        "\n",
        "    \n",
        "\n",
        "  \n",
        "app.run()\n"
      ],
      "execution_count": 35,
      "outputs": [
        {
          "output_type": "stream",
          "name": "stdout",
          "text": [
            " * Serving Flask app \"__main__\" (lazy loading)\n",
            " * Environment: production\n",
            "\u001b[31m   WARNING: This is a development server. Do not use it in a production deployment.\u001b[0m\n",
            "\u001b[2m   Use a production WSGI server instead.\u001b[0m\n",
            " * Debug mode: off\n"
          ]
        },
        {
          "output_type": "stream",
          "name": "stderr",
          "text": [
            "/usr/local/lib/python3.7/dist-packages/sklearn/base.py:318: UserWarning: Trying to unpickle estimator DecisionTreeClassifier from version 0.21.3 when using version 0.22.2.post1. This might lead to breaking code or invalid results. Use at your own risk.\n",
            "  UserWarning)\n",
            "/usr/local/lib/python3.7/dist-packages/sklearn/base.py:318: UserWarning: Trying to unpickle estimator RandomForestClassifier from version 0.21.3 when using version 0.22.2.post1. This might lead to breaking code or invalid results. Use at your own risk.\n",
            "  UserWarning)\n",
            " * Running on http://127.0.0.1:5000/ (Press CTRL+C to quit)\n"
          ]
        },
        {
          "output_type": "stream",
          "name": "stdout",
          "text": [
            " * Running on http://1e1d-34-125-140-37.ngrok.io\n",
            " * Traffic stats available on http://127.0.0.1:4040\n"
          ]
        },
        {
          "output_type": "stream",
          "name": "stderr",
          "text": [
            "127.0.0.1 - - [21/Sep/2021 21:22:46] \"\u001b[37mGET / HTTP/1.1\u001b[0m\" 200 -\n",
            "127.0.0.1 - - [21/Sep/2021 21:22:47] \"\u001b[33mGET /content/drive/MyDrive/Colab%20Notebooks/project4/assets/js/markerclusterer_compiled.js HTTP/1.1\u001b[0m\" 404 -\n",
            "127.0.0.1 - - [21/Sep/2021 21:22:47] \"\u001b[33mGET /content/drive/MyDrive/Colab%20Notebooks/project4/assets/js/markerclusterer_compiled.js HTTP/1.1\u001b[0m\" 404 -\n",
            "127.0.0.1 - - [21/Sep/2021 21:22:47] \"\u001b[33mGET /favicon.ico HTTP/1.1\u001b[0m\" 404 -\n",
            "127.0.0.1 - - [21/Sep/2021 21:22:49] \"\u001b[37mGET /symptoms HTTP/1.1\u001b[0m\" 200 -\n",
            "127.0.0.1 - - [21/Sep/2021 21:22:49] \"\u001b[33mGET /static/css/style.css HTTP/1.1\u001b[0m\" 404 -\n",
            "[2021-09-21 21:23:08,219] ERROR in app: Exception on /map [POST]\n",
            "Traceback (most recent call last):\n",
            "  File \"/usr/local/lib/python3.7/dist-packages/flask/app.py\", line 2447, in wsgi_app\n",
            "    response = self.full_dispatch_request()\n",
            "  File \"/usr/local/lib/python3.7/dist-packages/flask/app.py\", line 1952, in full_dispatch_request\n",
            "    rv = self.handle_user_exception(e)\n",
            "  File \"/usr/local/lib/python3.7/dist-packages/flask/app.py\", line 1821, in handle_user_exception\n",
            "    reraise(exc_type, exc_value, tb)\n",
            "  File \"/usr/local/lib/python3.7/dist-packages/flask/_compat.py\", line 39, in reraise\n",
            "    raise value\n",
            "  File \"/usr/local/lib/python3.7/dist-packages/flask/app.py\", line 1950, in full_dispatch_request\n",
            "    rv = self.dispatch_request()\n",
            "  File \"/usr/local/lib/python3.7/dist-packages/flask/app.py\", line 1936, in dispatch_request\n",
            "    return self.view_functions[rule.endpoint](**req.view_args)\n",
            "  File \"<ipython-input-35-df19e08d09c3>\", line 196, in drawmap\n",
            "    marker_cluster = MarkerCluster().add_to(Map_object)\n",
            "NameError: name 'MarkerCluster' is not defined\n",
            "127.0.0.1 - - [21/Sep/2021 21:23:08] \"\u001b[35m\u001b[1mPOST /map HTTP/1.1\u001b[0m\" 500 -\n"
          ]
        },
        {
          "output_type": "stream",
          "name": "stdout",
          "text": [
            "<folium.folium.Map object at 0x7facc3a72bd0>\n"
          ]
        }
      ]
    }
  ]
}