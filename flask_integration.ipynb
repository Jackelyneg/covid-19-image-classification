{
  "nbformat": 4,
  "nbformat_minor": 0,
  "metadata": {
    "colab": {
      "name": "flask_integration.ipynb",
      "provenance": [],
      "collapsed_sections": [],
      "authorship_tag": "ABX9TyPi4WlzGun+y7EGqfczrlBY",
      "include_colab_link": true
    },
    "kernelspec": {
      "name": "python3",
      "display_name": "Python 3"
    },
    "language_info": {
      "name": "python"
    }
  },
  "cells": [
    {
      "cell_type": "markdown",
      "metadata": {
        "id": "view-in-github",
        "colab_type": "text"
      },
      "source": [
        "<a href=\"https://colab.research.google.com/github/Jackelyneg/covid-19-image-classification/blob/main/flask_integration.ipynb\" target=\"_parent\"><img src=\"https://colab.research.google.com/assets/colab-badge.svg\" alt=\"Open In Colab\"/></a>"
      ]
    },
    {
      "cell_type": "code",
      "metadata": {
        "colab": {
          "base_uri": "https://localhost:8080/"
        },
        "id": "0EbOuntV98iZ",
        "outputId": "944837d9-012b-45ec-b220-bdfb81995dcc"
      },
      "source": [
        "!pip install flask-ngrok"
      ],
      "execution_count": 2,
      "outputs": [
        {
          "output_type": "stream",
          "name": "stdout",
          "text": [
            "Collecting flask-ngrok\n",
            "  Downloading flask_ngrok-0.0.25-py3-none-any.whl (3.1 kB)\n",
            "Requirement already satisfied: Flask>=0.8 in /usr/local/lib/python3.7/dist-packages (from flask-ngrok) (1.1.4)\n",
            "Requirement already satisfied: requests in /usr/local/lib/python3.7/dist-packages (from flask-ngrok) (2.23.0)\n",
            "Requirement already satisfied: itsdangerous<2.0,>=0.24 in /usr/local/lib/python3.7/dist-packages (from Flask>=0.8->flask-ngrok) (1.1.0)\n",
            "Requirement already satisfied: click<8.0,>=5.1 in /usr/local/lib/python3.7/dist-packages (from Flask>=0.8->flask-ngrok) (7.1.2)\n",
            "Requirement already satisfied: Werkzeug<2.0,>=0.15 in /usr/local/lib/python3.7/dist-packages (from Flask>=0.8->flask-ngrok) (1.0.1)\n",
            "Requirement already satisfied: Jinja2<3.0,>=2.10.1 in /usr/local/lib/python3.7/dist-packages (from Flask>=0.8->flask-ngrok) (2.11.3)\n",
            "Requirement already satisfied: MarkupSafe>=0.23 in /usr/local/lib/python3.7/dist-packages (from Jinja2<3.0,>=2.10.1->Flask>=0.8->flask-ngrok) (2.0.1)\n",
            "Requirement already satisfied: chardet<4,>=3.0.2 in /usr/local/lib/python3.7/dist-packages (from requests->flask-ngrok) (3.0.4)\n",
            "Requirement already satisfied: idna<3,>=2.5 in /usr/local/lib/python3.7/dist-packages (from requests->flask-ngrok) (2.10)\n",
            "Requirement already satisfied: certifi>=2017.4.17 in /usr/local/lib/python3.7/dist-packages (from requests->flask-ngrok) (2021.5.30)\n",
            "Requirement already satisfied: urllib3!=1.25.0,!=1.25.1,<1.26,>=1.21.1 in /usr/local/lib/python3.7/dist-packages (from requests->flask-ngrok) (1.24.3)\n",
            "Installing collected packages: flask-ngrok\n",
            "Successfully installed flask-ngrok-0.0.25\n"
          ]
        }
      ]
    },
    {
      "cell_type": "code",
      "metadata": {
        "id": "bbtcJfSr9_dc"
      },
      "source": [
        "from flask_ngrok import run_with_ngrok\n",
        "import numpy as np\n",
        "import tensorflow as tf\n",
        "from flask import Flask,jsonify,make_response,request,render_template\n",
        "from tensorflow.keras.models import load_model\n"
      ],
      "execution_count": 8,
      "outputs": []
    },
    {
      "cell_type": "code",
      "metadata": {
        "colab": {
          "base_uri": "https://localhost:8080/"
        },
        "id": "oWS2k2CWCRjb",
        "outputId": "6be31c7c-b24e-4865-c3bf-36b3483ae4db"
      },
      "source": [
        "\n",
        "from google.colab import drive\n",
        "drive.mount('/content/drive')"
      ],
      "execution_count": 13,
      "outputs": [
        {
          "output_type": "stream",
          "name": "stdout",
          "text": [
            "Mounted at /content/drive\n"
          ]
        }
      ]
    },
    {
      "cell_type": "code",
      "metadata": {
        "colab": {
          "base_uri": "https://localhost:8080/"
        },
        "id": "g7p2logN-dv8",
        "outputId": "bea261b7-6684-45fa-fa8f-01d2486f0c19"
      },
      "source": [
        "from flask import Flask\n",
        "\n",
        "app = Flask(__name__)\n",
        "run_with_ngrok(app)\n",
        "@app.route(\"/\")\n",
        "def index():\n",
        "  return \"<h1>the covid xray for technicians</h1>\"\n",
        "@app.route(\"/getxraypredictions\")\n",
        "def xraypred():\n",
        "\n",
        "  model = load_model(\"/content/drive/MyDrive/project4data/mymodel.h5\")\n",
        "  print(\"hello world\")\n",
        "\n",
        "  from tensorflow.keras.preprocessing import image\n",
        "  filepathClear=\"/content/drive/MyDrive/Colab Notebooks/normal.jpeg\"\n",
        "  filepathCovid=\"/content/drive/MyDrive/covidimage.jpeg\"\n",
        "  image_size = (256, 256,1)\n",
        "  im = image.load_img(filepathCovid, target_size=image_size, color_mode=\"grayscale\")\n",
        "  print(\"hello world2\")\n",
        "  from tensorflow.keras.preprocessing.image import img_to_array\n",
        "\n",
        "  image = img_to_array(im)\n",
        "  img = image.flatten().reshape( -1,256, 256,1)\n",
        "  #plt.imshow(img.reshape(256, 256))\n",
        "  img = 1 - img\n",
        "  #plt.imshow(img.reshape(256, 256), cmap=plt.cm.Greys)\n",
        "\n",
        "  predictions = model.predict(img)\n",
        "\n",
        "  print(type(predictions))\n",
        " \n",
        "  predictions_string=np.array_str(predictions)\n",
        "  \n",
        "  #print (f\"Predicted class: {np.argmax(predictions,axis=1)}\")\n",
        "  return (predictions_string)\n",
        "app.run()\n",
        "\n"
      ],
      "execution_count": 24,
      "outputs": [
        {
          "output_type": "stream",
          "name": "stdout",
          "text": [
            " * Serving Flask app \"__main__\" (lazy loading)\n",
            " * Environment: production\n",
            "\u001b[31m   WARNING: This is a development server. Do not use it in a production deployment.\u001b[0m\n",
            "\u001b[2m   Use a production WSGI server instead.\u001b[0m\n",
            " * Debug mode: off\n"
          ]
        },
        {
          "output_type": "stream",
          "name": "stderr",
          "text": [
            " * Running on http://127.0.0.1:5000/ (Press CTRL+C to quit)\n"
          ]
        },
        {
          "output_type": "stream",
          "name": "stdout",
          "text": [
            " * Running on http://e0f0-35-237-183-88.ngrok.io\n",
            " * Traffic stats available on http://127.0.0.1:4040\n"
          ]
        },
        {
          "output_type": "stream",
          "name": "stderr",
          "text": [
            "127.0.0.1 - - [15/Sep/2021 22:34:01] \"\u001b[37mGET / HTTP/1.1\u001b[0m\" 200 -\n",
            "127.0.0.1 - - [15/Sep/2021 22:34:02] \"\u001b[33mGET /favicon.ico HTTP/1.1\u001b[0m\" 404 -\n",
            "127.0.0.1 - - [15/Sep/2021 22:34:10] \"\u001b[33mGET /getpredictions HTTP/1.1\u001b[0m\" 404 -\n",
            "127.0.0.1 - - [15/Sep/2021 22:34:10] \"\u001b[33mGET /favicon.ico HTTP/1.1\u001b[0m\" 404 -\n",
            "127.0.0.1 - - [15/Sep/2021 22:34:18] \"\u001b[37mGET /getxraypredictions HTTP/1.1\u001b[0m\" 200 -\n"
          ]
        },
        {
          "output_type": "stream",
          "name": "stdout",
          "text": [
            "hello world\n",
            "hello world2\n",
            "<class 'numpy.ndarray'>\n"
          ]
        }
      ]
    },
    {
      "cell_type": "code",
      "metadata": {
        "id": "eegVOgbnAsML"
      },
      "source": [
        ""
      ],
      "execution_count": null,
      "outputs": []
    }
  ]
}