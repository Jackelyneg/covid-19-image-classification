{
 "cells": [
  {
   "cell_type": "code",
   "execution_count": 1,
   "metadata": {},
   "outputs": [],
   "source": [
    "import pandas as pd\n",
    "from sklearn.decomposition import PCA\n",
    "from sklearn.ensemble import RandomForestClassifier\n",
    "from sklearn.model_selection import cross_val_score\n",
    "from sklearn.metrics import confusion_matrix\n",
    "from sklearn.model_selection import GridSearchCV\n",
    "from sklearn.linear_model import LogisticRegression\n",
    "from sklearn.tree import DecisionTreeClassifier\n",
    "from sklearn.model_selection import train_test_split\n",
    "import matplotlib.pyplot as plt\n",
    "import seaborn as sns\n",
    "from sklearn.feature_selection import SelectFromModel\n",
    "import numpy as np"
   ]
  },
  {
   "cell_type": "code",
   "execution_count": 2,
   "metadata": {},
   "outputs": [],
   "source": [
    "symptoms = pd.read_csv('covid_symptoms.csv')"
   ]
  },
  {
   "cell_type": "code",
   "execution_count": 4,
   "metadata": {},
   "outputs": [
    {
     "data": {
      "text/plain": [
       "Index(['Fever', 'Tiredness', 'Dry-Cough', 'Difficulty-in-Breathing',\n",
       "       'Sore-Throat', 'None_Sympton', 'Pains', 'Nasal-Congestion',\n",
       "       'Runny-Nose', 'Diarrhea', 'None_Experiencing', 'Age_0-9', 'Age_10-19',\n",
       "       'Age_20-24', 'Age_25-59', 'Age_60+', 'Gender_Female', 'Gender_Male',\n",
       "       'Gender_Transgender', 'Severity_Mild', 'Severity_Moderate',\n",
       "       'Severity_None', 'Severity_Severe', 'Contact_Dont-Know', 'Contact_No',\n",
       "       'Contact_Yes', 'Country'],\n",
       "      dtype='object')"
      ]
     },
     "execution_count": 4,
     "metadata": {},
     "output_type": "execute_result"
    }
   ],
   "source": [
    "symptoms.columns"
   ]
  },
  {
   "cell_type": "code",
   "execution_count": 11,
   "metadata": {},
   "outputs": [
    {
     "data": {
      "text/plain": [
       "(316800, 16)"
      ]
     },
     "execution_count": 11,
     "metadata": {},
     "output_type": "execute_result"
    }
   ],
   "source": [
    "symptoms.shape"
   ]
  },
  {
   "cell_type": "markdown",
   "metadata": {},
   "source": [
    " # Deleting unecessary columns"
   ]
  },
  {
   "cell_type": "code",
   "execution_count": 3,
   "metadata": {},
   "outputs": [],
   "source": [
    "symptoms.drop(['Country','Contact_Dont-Know','Contact_No','Contact_Yes',\n",
    "               'None_Sympton','Severity_Severe','Severity_Moderate',\n",
    "               'Severity_Mild','Gender_Female','Gender_Male',\n",
    "               'Gender_Transgender'], axis=1, inplace=True)"
   ]
  },
  {
   "cell_type": "markdown",
   "metadata": {},
   "source": [
    "# setting target and indicators for modeling"
   ]
  },
  {
   "cell_type": "code",
   "execution_count": 4,
   "metadata": {},
   "outputs": [],
   "source": [
    "#Creating a new column with no data\n",
    "symptoms['covid_y_n']=None"
   ]
  },
  {
   "cell_type": "code",
   "execution_count": 5,
   "metadata": {},
   "outputs": [],
   "source": [
    "def get_opposite(x):\n",
    "    if x == 0:\n",
    "        return 1\n",
    "    else:\n",
    "        return 0"
   ]
  },
  {
   "cell_type": "code",
   "execution_count": 6,
   "metadata": {},
   "outputs": [],
   "source": [
    "#applying function to get the inverse of Severity_None values to the new column created\n",
    "symptoms['covid_y_n']=symptoms['Severity_None'].apply(get_opposite)"
   ]
  },
  {
   "cell_type": "code",
   "execution_count": 7,
   "metadata": {},
   "outputs": [],
   "source": [
    "#Deleting Severity_None column since it is no longer needed \n",
    "del symptoms['Severity_None']"
   ]
  },
  {
   "cell_type": "code",
   "execution_count": 13,
   "metadata": {},
   "outputs": [],
   "source": [
    "#setting the target variable\n",
    "indicators = symptoms['covid_y_n']"
   ]
  },
  {
   "cell_type": "code",
   "execution_count": 9,
   "metadata": {},
   "outputs": [],
   "source": [
    "#setting the indicators variable, every column but the target column\n",
    "target = symptoms.drop('covid_y_n', axis=1)"
   ]
  },
  {
   "cell_type": "markdown",
   "metadata": {},
   "source": [
    "# Models"
   ]
  },
  {
   "cell_type": "code",
   "execution_count": 10,
   "metadata": {},
   "outputs": [
    {
     "data": {
      "image/png": "[encoded data removed]",
      "text/plain": [
       "<Figure size 864x432 with 1 Axes>"
      ]
     },
     "metadata": {
      "needs_background": "light"
     },
     "output_type": "display_data"
    }
   ],
   "source": [
    "pca = PCA().fit(symptoms)\n",
    "\n",
    "plt.rcParams[\"figure.figsize\"] = (12,6)\n",
    "\n",
    "fig, ax = plt.subplots()\n",
    "xi = np.arange(0, 16, step=1)\n",
    "y = np.cumsum(pca.explained_variance_ratio_)\n",
    "\n",
    "plt.ylim(0.0,1.1)\n",
    "plt.plot(xi, y, marker='o', linestyle='--', color='b')\n",
    "\n",
    "plt.xlabel('Number of Components')\n",
    "plt.xticks(np.arange(0, 20, step=1)) #change from 0-based array index to 1-based human-readable label\n",
    "plt.ylabel('Cumulative variance (%)')\n",
    "plt.title('The number of components needed to explain variance')\n",
    "\n",
    "plt.axhline(y=0.95, color='r', linestyle='-')\n",
    "plt.text(0.5, 0.85, '95% cut-off threshold', color = 'red', fontsize=16)\n",
    "\n",
    "ax.grid(axis='x')\n",
    "plt.show()"
   ]
  },
  {
   "cell_type": "code",
   "execution_count": 16,
   "metadata": {},
   "outputs": [],
   "source": [
    " x = PCA(n_components = 12).fit_transform(indicators)"
   ]
  },
  {
   "cell_type": "code",
   "execution_count": 17,
   "metadata": {},
   "outputs": [],
   "source": [
    "X_train, X_test, y_train, y_test = train_test_split(x, target, random_state=42)"
   ]
  },
  {
   "cell_type": "code",
   "execution_count": 18,
   "metadata": {
    "scrolled": true
   },
   "outputs": [
    {
     "name": "stderr",
     "output_type": "stream",
     "text": [
      "C:\\Users\\jacke\\Downloads\\Anaconda\\lib\\site-packages\\sklearn\\ensemble\\forest.py:245: FutureWarning: The default value of n_estimators will change from 10 in version 0.20 to 100 in 0.22.\n",
      "  \"10 in version 0.20 to 100 in 0.22.\", FutureWarning)\n"
     ]
    },
    {
     "name": "stdout",
     "output_type": "stream",
     "text": [
      "Random Forest Training Score: 0.7497979797979798\n",
      "Random Forest Testing Score: 0.7506060606060606\n",
      "\n"
     ]
    },
    {
     "name": "stderr",
     "output_type": "stream",
     "text": [
      "C:\\Users\\jacke\\Downloads\\Anaconda\\lib\\site-packages\\sklearn\\linear_model\\logistic.py:432: FutureWarning: Default solver will be changed to 'lbfgs' in 0.22. Specify a solver to silence this warning.\n",
      "  FutureWarning)\n"
     ]
    },
    {
     "name": "stdout",
     "output_type": "stream",
     "text": [
      "Logistic Regresion Training Score: 0.7497979797979798\n",
      "Logistic Regression Testing Score: 0.7506060606060606\n",
      "\n",
      "Decision Tree Testing Score: 0.7497979797979798\n",
      "Decision Tree Testing Score: 0.7506060606060606\n"
     ]
    }
   ],
   "source": [
    "#Random Forest Classifier\n",
    "rfc = RandomForestClassifier().fit(X_train, y_train)\n",
    "print(f'Random Forest Training Score: {rfc.score(X_train, y_train)}')\n",
    "print(f'Random Forest Testing Score: {rfc.score(X_test, y_test)}')\n",
    "\n",
    "print('')\n",
    "#Logistic Regression\n",
    "lr = LogisticRegression().fit(X_train, y_train)\n",
    "print(f'Logistic Regresion Training Score: {lr.score(X_train, y_train)}')\n",
    "print(f'Logistic Regression Testing Score: {lr.score(X_test, y_test)}')\n",
    "\n",
    "print('')\n",
    "#Decison Tree \n",
    "DT = DecisionTreeClassifier().fit(X_train, y_train)\n",
    "print(f'Decision Tree Testing Score: {DT.score(X_train, y_train)}')\n",
    "print(f'Decision Tree Testing Score: {DT.score(X_test, y_test)}')\n",
    "\n"
   ]
  },
  {
   "cell_type": "markdown",
   "metadata": {},
   "source": [
    " # parameter tuning"
   ]
  },
  {
   "cell_type": "code",
   "execution_count": 19,
   "metadata": {},
   "outputs": [
    {
     "name": "stdout",
     "output_type": "stream",
     "text": [
      "Training Score: 0.7497979797979798\n",
      "Testing Score: 0.7506060606060606\n",
      "\n",
      "Decision Tree Testing Score: 0.7497979797979798\n",
      "Decision Tree Testing Score: 0.7506060606060606\n"
     ]
    },
    {
     "name": "stderr",
     "output_type": "stream",
     "text": [
      "C:\\Users\\jacke\\Downloads\\Anaconda\\lib\\site-packages\\sklearn\\linear_model\\logistic.py:432: FutureWarning: Default solver will be changed to 'lbfgs' in 0.22. Specify a solver to silence this warning.\n",
      "  FutureWarning)\n"
     ]
    },
    {
     "name": "stdout",
     "output_type": "stream",
     "text": [
      "Logistic Regression Training Score: 0.7497979797979798\n",
      "Logistic Regression Testing Score: 0.7506060606060606\n"
     ]
    }
   ],
   "source": [
    "#Random Forest\n",
    "rf1 = RandomForestClassifier(random_state=1, n_estimators=500).fit(X_train, y_train)\n",
    "print(f'Training Score: {rf1.score(X_train, y_train)}')\n",
    "print(f'Testing Score: {rf1.score(X_test, y_test)}')\n",
    "\n",
    "print('')\n",
    "\n",
    "#Decison Tree\n",
    "DT1 = DecisionTreeClassifier(min_samples_leaf=20, random_state=42, criterion=\"entropy\").fit(X_train, y_train)\n",
    "print(f'Decision Tree Testing Score: {DT1.score(X_train, y_train)}')\n",
    "print(f'Decision Tree Testing Score: {DT1.score(X_test, y_test)}')\n",
    "\n",
    "#Logistic Regression\n",
    "LR1 = LogisticRegression().fit(X_train, y_train)\n",
    "print(f'Logistic Regression Training Score: {LR1.score(X_train, y_train)}')\n",
    "print(f'Logistic Regression Testing Score: {LR1.score(X_test, y_test)}')"
   ]
  },
  {
   "cell_type": "markdown",
   "metadata": {},
   "source": [
    "Using selected Features"
   ]
  },
  {
   "cell_type": "code",
   "execution_count": 20,
   "metadata": {},
   "outputs": [
    {
     "data": {
      "text/plain": [
       "SelectFromModel(estimator=RandomForestClassifier(bootstrap=True,\n",
       "                                                 class_weight=None,\n",
       "                                                 criterion='gini',\n",
       "                                                 max_depth=None,\n",
       "                                                 max_features='auto',\n",
       "                                                 max_leaf_nodes=None,\n",
       "                                                 min_impurity_decrease=0.0,\n",
       "                                                 min_impurity_split=None,\n",
       "                                                 min_samples_leaf=1,\n",
       "                                                 min_samples_split=2,\n",
       "                                                 min_weight_fraction_leaf=0.0,\n",
       "                                                 n_estimators=10, n_jobs=None,\n",
       "                                                 oob_score=False,\n",
       "                                                 random_state=None, verbose=0,\n",
       "                                                 warm_start=False),\n",
       "                max_features=None, norm_order=1, prefit=False, threshold=None)"
      ]
     },
     "execution_count": 20,
     "metadata": {},
     "output_type": "execute_result"
    }
   ],
   "source": [
    "# create selection object by passing in the model fitted above\n",
    "# Note, the original model MUST be one that has a feature_importances_ or coef_\n",
    "sel = SelectFromModel(rfc)\n",
    "\n",
    "# Fit selection object to the training set\n",
    "sel.fit(X_train, y_train)"
   ]
  },
  {
   "cell_type": "code",
   "execution_count": 21,
   "metadata": {},
   "outputs": [
    {
     "name": "stderr",
     "output_type": "stream",
     "text": [
      "C:\\Users\\jacke\\Downloads\\Anaconda\\lib\\site-packages\\sklearn\\linear_model\\logistic.py:432: FutureWarning: Default solver will be changed to 'lbfgs' in 0.22. Specify a solver to silence this warning.\n",
      "  FutureWarning)\n"
     ]
    },
    {
     "name": "stdout",
     "output_type": "stream",
     "text": [
      "Logistic Regression Training Score: 0.7497979797979798\n",
      "Logistic Regression Testing Score: 0.7506060606060606\n",
      "\n",
      "Random Forest Training Score: 0.7497979797979798\n",
      "Random Forest Testing Score: 0.7506060606060606\n",
      "\n",
      "Decision Tree Testing Score: 0.7497979797979798\n",
      "Decision Tree Testing Score: 0.7506060606060606\n"
     ]
    }
   ],
   "source": [
    "#Logistic Regression\n",
    "clf = LogisticRegression().fit(X_train, y_train)\n",
    "print(f'Logistic Regression Training Score: {clf.score(X_train, y_train)}')\n",
    "print(f'Logistic Regression Testing Score: {clf.score(X_test, y_test)}')\n",
    "\n",
    "print('')\n",
    "\n",
    "rfc2 = RandomForestClassifier(random_state=1, n_estimators=500).fit(X_train, y_train)\n",
    "print(f'Random Forest Training Score: {rfc2.score(X_train, y_train)}')\n",
    "print(f'Random Forest Testing Score: {rfc2.score(X_test, y_test)}')\n",
    "\n",
    "print('')\n",
    "\n",
    "DT2 = DecisionTreeClassifier().fit(X_train, y_train)\n",
    "print(f'Decision Tree Testing Score: {DT2.score(X_train, y_train)}')\n",
    "print(f'Decision Tree Testing Score: {DT2.score(X_test, y_test)}')"
   ]
  },
  {
   "cell_type": "markdown",
   "metadata": {},
   "source": [
    "Even after hyperparameter tuning and using selected features the model score remains the same"
   ]
  }
 ],
 "metadata": {
  "kernelspec": {
   "display_name": "Python 3",
   "language": "python",
   "name": "python3"
  },
  "language_info": {
   "codemirror_mode": {
    "name": "ipython",
    "version": 3
   },
   "file_extension": ".py",
   "mimetype": "text/x-python",
   "name": "python",
   "nbconvert_exporter": "python",
   "pygments_lexer": "ipython3",
   "version": "3.7.4"
  }
 },
 "nbformat": 4,
 "nbformat_minor": 2
}
