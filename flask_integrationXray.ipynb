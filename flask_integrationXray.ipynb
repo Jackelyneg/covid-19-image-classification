{
  "nbformat": 4,
  "nbformat_minor": 0,
  "metadata": {
    "colab": {
      "name": "flask_integrationXray.ipynb",
      "provenance": [],
      "collapsed_sections": [],
      "authorship_tag": "ABX9TyPm50XSSDyF5RAY8oDqQ0Vj",
      "include_colab_link": true
    },
    "kernelspec": {
      "display_name": "Python 3",
      "name": "python3"
    },
    "language_info": {
      "name": "python"
    }
  },
  "cells": [
    {
      "cell_type": "markdown",
      "metadata": {
        "id": "view-in-github",
        "colab_type": "text"
      },
      "source": [
        "<a href=\"https://colab.research.google.com/github/Jackelyneg/covid-19-image-classification/blob/main/flask_integrationXray.ipynb\" target=\"_parent\"><img src=\"https://colab.research.google.com/assets/colab-badge.svg\" alt=\"Open In Colab\"/></a>"
      ]
    },
    {
      "cell_type": "code",
      "metadata": {
        "colab": {
          "base_uri": "https://localhost:8080/"
        },
        "id": "kBgxvFUbBg1g",
        "outputId": "ba5fd406-1339-4faa-e971-0a7c0cb10163"
      },
      "source": [
        "!pip install flask-ngrok\n",
        "!pip install flask-bootstrap"
      ],
      "execution_count": 14,
      "outputs": [
        {
          "output_type": "stream",
          "name": "stdout",
          "text": [
            "Requirement already satisfied: flask-ngrok in /usr/local/lib/python3.7/dist-packages (0.0.25)\n",
            "Requirement already satisfied: requests in /usr/local/lib/python3.7/dist-packages (from flask-ngrok) (2.23.0)\n",
            "Requirement already satisfied: Flask>=0.8 in /usr/local/lib/python3.7/dist-packages (from flask-ngrok) (1.1.4)\n",
            "Requirement already satisfied: click<8.0,>=5.1 in /usr/local/lib/python3.7/dist-packages (from Flask>=0.8->flask-ngrok) (7.1.2)\n",
            "Requirement already satisfied: Werkzeug<2.0,>=0.15 in /usr/local/lib/python3.7/dist-packages (from Flask>=0.8->flask-ngrok) (1.0.1)\n",
            "Requirement already satisfied: Jinja2<3.0,>=2.10.1 in /usr/local/lib/python3.7/dist-packages (from Flask>=0.8->flask-ngrok) (2.11.3)\n",
            "Requirement already satisfied: itsdangerous<2.0,>=0.24 in /usr/local/lib/python3.7/dist-packages (from Flask>=0.8->flask-ngrok) (1.1.0)\n",
            "Requirement already satisfied: MarkupSafe>=0.23 in /usr/local/lib/python3.7/dist-packages (from Jinja2<3.0,>=2.10.1->Flask>=0.8->flask-ngrok) (2.0.1)\n",
            "Requirement already satisfied: urllib3!=1.25.0,!=1.25.1,<1.26,>=1.21.1 in /usr/local/lib/python3.7/dist-packages (from requests->flask-ngrok) (1.24.3)\n",
            "Requirement already satisfied: idna<3,>=2.5 in /usr/local/lib/python3.7/dist-packages (from requests->flask-ngrok) (2.10)\n",
            "Requirement already satisfied: certifi>=2017.4.17 in /usr/local/lib/python3.7/dist-packages (from requests->flask-ngrok) (2021.5.30)\n",
            "Requirement already satisfied: chardet<4,>=3.0.2 in /usr/local/lib/python3.7/dist-packages (from requests->flask-ngrok) (3.0.4)\n",
            "Requirement already satisfied: flask-bootstrap in /usr/local/lib/python3.7/dist-packages (3.3.7.1)\n",
            "Requirement already satisfied: visitor in /usr/local/lib/python3.7/dist-packages (from flask-bootstrap) (0.1.3)\n",
            "Requirement already satisfied: Flask>=0.8 in /usr/local/lib/python3.7/dist-packages (from flask-bootstrap) (1.1.4)\n",
            "Requirement already satisfied: dominate in /usr/local/lib/python3.7/dist-packages (from flask-bootstrap) (2.6.0)\n",
            "Requirement already satisfied: itsdangerous<2.0,>=0.24 in /usr/local/lib/python3.7/dist-packages (from Flask>=0.8->flask-bootstrap) (1.1.0)\n",
            "Requirement already satisfied: click<8.0,>=5.1 in /usr/local/lib/python3.7/dist-packages (from Flask>=0.8->flask-bootstrap) (7.1.2)\n",
            "Requirement already satisfied: Werkzeug<2.0,>=0.15 in /usr/local/lib/python3.7/dist-packages (from Flask>=0.8->flask-bootstrap) (1.0.1)\n",
            "Requirement already satisfied: Jinja2<3.0,>=2.10.1 in /usr/local/lib/python3.7/dist-packages (from Flask>=0.8->flask-bootstrap) (2.11.3)\n",
            "Requirement already satisfied: MarkupSafe>=0.23 in /usr/local/lib/python3.7/dist-packages (from Jinja2<3.0,>=2.10.1->Flask>=0.8->flask-bootstrap) (2.0.1)\n"
          ]
        }
      ]
    },
    {
      "cell_type": "code",
      "metadata": {
        "id": "o2p5iVP-BjaK"
      },
      "source": [
        "from flask_ngrok import run_with_ngrok\n",
        "import numpy as np\n",
        "import tensorflow as tf\n",
        "from flask import Flask,jsonify,make_response,request,render_template,flash,redirect,url_for\n",
        "from werkzeug.utils import secure_filename\n",
        "from tensorflow.keras.models import load_model\n",
        "import pickle\n",
        "import os"
      ],
      "execution_count": 15,
      "outputs": []
    },
    {
      "cell_type": "code",
      "metadata": {
        "colab": {
          "base_uri": "https://localhost:8080/"
        },
        "id": "Oy_wOEzcBmYr",
        "outputId": "65f5b4f9-db1e-46fd-b6bf-199b4c11ded9"
      },
      "source": [
        "\n",
        "from google.colab import drive\n",
        "drive.mount('/content/drive')"
      ],
      "execution_count": 16,
      "outputs": [
        {
          "output_type": "stream",
          "name": "stdout",
          "text": [
            "Drive already mounted at /content/drive; to attempt to forcibly remount, call drive.mount(\"/content/drive\", force_remount=True).\n"
          ]
        }
      ]
    },
    {
      "cell_type": "code",
      "metadata": {
        "id": "buRBykI1-Ibo"
      },
      "source": [
        "UPLOAD_FOLDER = '/content/drive/MyDrive/Colab Notebooks/project4/static'\n",
        "ALLOWED_EXTENSIONS = {'jpg','jpeg'}\n"
      ],
      "execution_count": 17,
      "outputs": []
    },
    {
      "cell_type": "code",
      "metadata": {
        "colab": {
          "base_uri": "https://localhost:8080/"
        },
        "id": "OkpMaEASBpab",
        "outputId": "c0ba1030-1bd1-439c-931b-2371a281c46c"
      },
      "source": [
        "\n",
        "\n",
        "\n",
        "from flask import Flask, request, jsonify, render_template,url_for\n",
        "import pickle\n",
        "\n",
        "from flask_ngrok import run_with_ngrok\n",
        "app = Flask(__name__, template_folder=\"/content/drive/MyDrive/Colab Notebooks/project4/templates\",static_folder=\"/content/drive/MyDrive/Colab Notebooks/project4/static\" )\n",
        "app.config['SESSION_TYPE'] = 'memcached'\n",
        "app.config['SECRET_KEY'] = 'super secret key'\n",
        "\n",
        "run_with_ngrok(app)\n",
        "# @app.route(\"/\")\n",
        "# def home():\n",
        "#   return render_template('index.html')\n",
        "\n",
        "\n",
        "app.config['UPLOAD_FOLDER'] = UPLOAD_FOLDER\n",
        "def allowed_file(filename):\n",
        "    print('.' in filename and \\\n",
        "           filename.rsplit('.', 1)[1].lower() in ALLOWED_EXTENSIONS)\n",
        "    return '.' in filename and \\\n",
        "           filename.rsplit('.', 1)[1].lower() in ALLOWED_EXTENSIONS\n",
        "@app.route(\"/\")\n",
        "def home():\n",
        "  return render_template('index.html')\n",
        "\n",
        "@app.route('/page2', methods=['GET', 'POST'])\n",
        "def upload_file():\n",
        "\n",
        "    if request.method == 'POST':\n",
        "        # check if the post request has the file part\n",
        "        if 'file' not in request.files:\n",
        "            flash('No file part')\n",
        "            return redirect(request.url)\n",
        "        file = request.files['file']\n",
        "        # If the user does not select a file, the browser submits an\n",
        "        # empty file without a filename.\n",
        "        if file.filename == '':\n",
        "            flash('No selected file')\n",
        "            return redirect(request.url)\n",
        "        if file and allowed_file(file.filename):\n",
        "            filename = secure_filename(file.filename)\n",
        "            file.save(os.path.join(app.config['UPLOAD_FOLDER'], filename))\n",
        "            predictions=download_file(name=filename)\n",
        "            \n",
        "\n",
        "            full_filename=url_for('static',filename = filename)\n",
        "\n",
        "            print(full_filename)\n",
        "            return render_template(\"xray.html\",predictions_text=predictions,filename=full_filename) \n",
        "            #return redirect(url_for('download_file', name=filename))\n",
        "    return render_template(\"xray.html\")       \n",
        "       \n",
        "\n",
        "\n",
        "from flask import send_from_directory\n",
        "\n",
        "@app.route('/uploads/<name>')\n",
        "def download_file(name):\n",
        "      \n",
        "     return xraypred(name)\n",
        "#@app.route(\"/getxraypredictions\")\n",
        "def xraypred(fileName):\n",
        "\n",
        "  model = load_model(\"/content/drive/MyDrive/project4data/mymodel.h5\")\n",
        "  from tensorflow.keras.preprocessing import image\n",
        "  filepath=\"/content/drive/MyDrive/Colab Notebooks/project4/static\"+\"/\"+fileName\n",
        "  print(filepath)\n",
        " \n",
        "  image_size = (256, 256,1)\n",
        "  im = image.load_img(filepath, target_size=image_size, color_mode=\"grayscale\")\n",
        "  \n",
        "  from tensorflow.keras.preprocessing.image import img_to_array\n",
        "\n",
        "  image = img_to_array(im)\n",
        "  img = image.flatten().reshape( -1,256, 256,1)\n",
        "  #plt.imshow(img.reshape(256, 256))\n",
        "  img = 1 - img\n",
        "  #plt.imshow(img.reshape(256, 256), cmap=plt.cm.Greys)\n",
        "  predictions = model.predict(img)\n",
        "  predicted= np.argmax(predictions,axis=1)\n",
        "  if predicted ==0:\n",
        "    predicted_string=\"The person has Covid\"\n",
        "  if predicted ==1:\n",
        "    predicted_string=\"the person does not have Covid\"\n",
        "  #print(predicted_string)\n",
        "  #predictions_string=np.array_str(predicted)\n",
        "  \n",
        "    \n",
        "  return (predicted_string)\n",
        "# @app.route('/display/<filename>')\n",
        "# def display_image(filename):\n",
        "# \t#print('display_image filename: ' + filename)\n",
        "# \treturn redirect(url_for('static', filename=filename), code=301)   \n",
        "\n",
        "\n",
        "\n",
        "\n",
        "\n",
        "\n",
        "\n",
        "\n",
        "\n",
        "\n",
        "\n",
        "\n",
        "    \n",
        "\n",
        "  \n",
        "app.run()\n"
      ],
      "execution_count": 22,
      "outputs": [
        {
          "output_type": "stream",
          "name": "stdout",
          "text": [
            " * Serving Flask app \"__main__\" (lazy loading)\n",
            " * Environment: production\n",
            "\u001b[31m   WARNING: This is a development server. Do not use it in a production deployment.\u001b[0m\n",
            "\u001b[2m   Use a production WSGI server instead.\u001b[0m\n",
            " * Debug mode: off\n"
          ]
        },
        {
          "output_type": "stream",
          "name": "stderr",
          "text": [
            "/usr/local/lib/python3.7/dist-packages/sklearn/base.py:318: UserWarning: Trying to unpickle estimator DecisionTreeClassifier from version 0.21.3 when using version 0.22.2.post1. This might lead to breaking code or invalid results. Use at your own risk.\n",
            "  UserWarning)\n",
            "/usr/local/lib/python3.7/dist-packages/sklearn/base.py:318: UserWarning: Trying to unpickle estimator RandomForestClassifier from version 0.21.3 when using version 0.22.2.post1. This might lead to breaking code or invalid results. Use at your own risk.\n",
            "  UserWarning)\n",
            " * Running on http://127.0.0.1:5000/ (Press CTRL+C to quit)\n"
          ]
        },
        {
          "output_type": "stream",
          "name": "stdout",
          "text": [
            " * Running on http://a7d2-34-125-207-85.ngrok.io\n",
            " * Traffic stats available on http://127.0.0.1:4040\n"
          ]
        },
        {
          "output_type": "stream",
          "name": "stderr",
          "text": [
            "127.0.0.1 - - [20/Sep/2021 23:56:35] \"\u001b[37mGET / HTTP/1.1\u001b[0m\" 200 -\n",
            "127.0.0.1 - - [20/Sep/2021 23:56:36] \"\u001b[33mGET /favicon.ico HTTP/1.1\u001b[0m\" 404 -\n",
            "127.0.0.1 - - [20/Sep/2021 23:56:38] \"\u001b[37mGET /symptoms HTTP/1.1\u001b[0m\" 200 -\n",
            "127.0.0.1 - - [20/Sep/2021 23:56:38] \"\u001b[33mGET /static/css/style.css HTTP/1.1\u001b[0m\" 404 -\n",
            "127.0.0.1 - - [20/Sep/2021 23:56:47] \"\u001b[37mPOST /predict HTTP/1.1\u001b[0m\" 200 -\n",
            "127.0.0.1 - - [20/Sep/2021 23:56:47] \"\u001b[33mGET /static/css/style.css HTTP/1.1\u001b[0m\" 404 -\n"
          ]
        }
      ]
    }
  ]
}