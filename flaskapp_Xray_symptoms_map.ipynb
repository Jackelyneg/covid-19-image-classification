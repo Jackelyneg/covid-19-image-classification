{
  "nbformat": 4,
  "nbformat_minor": 2,
  "metadata": {
    "colab": {
      "name": "app_symptoms_Xray.ipynb",
      "provenance": [],
      "collapsed_sections": [],
      "authorship_tag": "ABX9TyMkYDWGSIRXea2eUcrnYCbA",
      "include_colab_link": true
    },
    "kernelspec": {
      "display_name": "Python 3",
      "name": "python3"
    },
    "language_info": {
      "name": "python"
    }
  },
  "cells": [
    {
      "cell_type": "markdown",
      "source": [
        "<a href=\"https://colab.research.google.com/github/Jackelyneg/covid-19-image-classification/blob/main/flaskapp_Xray_symptoms_map.ipynb\" target=\"_parent\"><img src=\"https://colab.research.google.com/assets/colab-badge.svg\" alt=\"Open In Colab\"/></a>"
      ],
      "metadata": {
        "id": "view-in-github",
        "colab_type": "text"
      }
    },
    {
      "cell_type": "code",
      "execution_count": 1,
      "source": [
        "!pip install flask-ngrok\r\n",
        "!pip install flask-bootstrap\r\n",
        "!pip install Flask-Caching\r\n"
      ],
      "outputs": [
        {
          "output_type": "stream",
          "name": "stdout",
          "text": [
            "Collecting flask-ngrok\n",
            "  Downloading flask_ngrok-0.0.25-py3-none-any.whl (3.1 kB)\n",
            "Requirement already satisfied: Flask>=0.8 in /usr/local/lib/python3.7/dist-packages (from flask-ngrok) (1.1.4)\n",
            "Requirement already satisfied: requests in /usr/local/lib/python3.7/dist-packages (from flask-ngrok) (2.23.0)\n",
            "Requirement already satisfied: Werkzeug<2.0,>=0.15 in /usr/local/lib/python3.7/dist-packages (from Flask>=0.8->flask-ngrok) (1.0.1)\n",
            "Requirement already satisfied: click<8.0,>=5.1 in /usr/local/lib/python3.7/dist-packages (from Flask>=0.8->flask-ngrok) (7.1.2)\n",
            "Requirement already satisfied: itsdangerous<2.0,>=0.24 in /usr/local/lib/python3.7/dist-packages (from Flask>=0.8->flask-ngrok) (1.1.0)\n",
            "Requirement already satisfied: Jinja2<3.0,>=2.10.1 in /usr/local/lib/python3.7/dist-packages (from Flask>=0.8->flask-ngrok) (2.11.3)\n",
            "Requirement already satisfied: MarkupSafe>=0.23 in /usr/local/lib/python3.7/dist-packages (from Jinja2<3.0,>=2.10.1->Flask>=0.8->flask-ngrok) (2.0.1)\n",
            "Requirement already satisfied: certifi>=2017.4.17 in /usr/local/lib/python3.7/dist-packages (from requests->flask-ngrok) (2021.5.30)\n",
            "Requirement already satisfied: idna<3,>=2.5 in /usr/local/lib/python3.7/dist-packages (from requests->flask-ngrok) (2.10)\n",
            "Requirement already satisfied: urllib3!=1.25.0,!=1.25.1,<1.26,>=1.21.1 in /usr/local/lib/python3.7/dist-packages (from requests->flask-ngrok) (1.24.3)\n",
            "Requirement already satisfied: chardet<4,>=3.0.2 in /usr/local/lib/python3.7/dist-packages (from requests->flask-ngrok) (3.0.4)\n",
            "Installing collected packages: flask-ngrok\n",
            "Successfully installed flask-ngrok-0.0.25\n",
            "Collecting flask-bootstrap\n",
            "  Downloading Flask-Bootstrap-3.3.7.1.tar.gz (456 kB)\n",
            "\u001b[K     |████████████████████████████████| 456 kB 5.0 MB/s \n",
            "\u001b[?25hRequirement already satisfied: Flask>=0.8 in /usr/local/lib/python3.7/dist-packages (from flask-bootstrap) (1.1.4)\n",
            "Collecting dominate\n",
            "  Downloading dominate-2.6.0-py2.py3-none-any.whl (29 kB)\n",
            "Collecting visitor\n",
            "  Downloading visitor-0.1.3.tar.gz (3.3 kB)\n",
            "Requirement already satisfied: itsdangerous<2.0,>=0.24 in /usr/local/lib/python3.7/dist-packages (from Flask>=0.8->flask-bootstrap) (1.1.0)\n",
            "Requirement already satisfied: Jinja2<3.0,>=2.10.1 in /usr/local/lib/python3.7/dist-packages (from Flask>=0.8->flask-bootstrap) (2.11.3)\n",
            "Requirement already satisfied: Werkzeug<2.0,>=0.15 in /usr/local/lib/python3.7/dist-packages (from Flask>=0.8->flask-bootstrap) (1.0.1)\n",
            "Requirement already satisfied: click<8.0,>=5.1 in /usr/local/lib/python3.7/dist-packages (from Flask>=0.8->flask-bootstrap) (7.1.2)\n",
            "Requirement already satisfied: MarkupSafe>=0.23 in /usr/local/lib/python3.7/dist-packages (from Jinja2<3.0,>=2.10.1->Flask>=0.8->flask-bootstrap) (2.0.1)\n",
            "Building wheels for collected packages: flask-bootstrap, visitor\n",
            "  Building wheel for flask-bootstrap (setup.py) ... \u001b[?25l\u001b[?25hdone\n",
            "  Created wheel for flask-bootstrap: filename=Flask_Bootstrap-3.3.7.1-py3-none-any.whl size=460124 sha256=194a488b3ac13c90e626837f02343659e0b02bf774501b151f98c6558df985dc\n",
            "  Stored in directory: /root/.cache/pip/wheels/67/a2/d6/50d039c9b59b4caca6d7b53839c8100354a52ab7553d2456eb\n",
            "  Building wheel for visitor (setup.py) ... \u001b[?25l\u001b[?25hdone\n",
            "  Created wheel for visitor: filename=visitor-0.1.3-py3-none-any.whl size=3943 sha256=174c8e78a23edceb9ff40f98f449bf72adcd4bef687aeb2a1907b90dac5c60f0\n",
            "  Stored in directory: /root/.cache/pip/wheels/64/34/11/053f47218984c9a31a00f911ed98dda036b867481dcc527a12\n",
            "Successfully built flask-bootstrap visitor\n",
            "Installing collected packages: visitor, dominate, flask-bootstrap\n",
            "Successfully installed dominate-2.6.0 flask-bootstrap-3.3.7.1 visitor-0.1.3\n",
            "Collecting Flask-Caching\n",
            "  Downloading Flask_Caching-1.10.1-py3-none-any.whl (34 kB)\n",
            "Requirement already satisfied: Flask in /usr/local/lib/python3.7/dist-packages (from Flask-Caching) (1.1.4)\n",
            "Requirement already satisfied: Werkzeug<2.0,>=0.15 in /usr/local/lib/python3.7/dist-packages (from Flask->Flask-Caching) (1.0.1)\n",
            "Requirement already satisfied: Jinja2<3.0,>=2.10.1 in /usr/local/lib/python3.7/dist-packages (from Flask->Flask-Caching) (2.11.3)\n",
            "Requirement already satisfied: click<8.0,>=5.1 in /usr/local/lib/python3.7/dist-packages (from Flask->Flask-Caching) (7.1.2)\n",
            "Requirement already satisfied: itsdangerous<2.0,>=0.24 in /usr/local/lib/python3.7/dist-packages (from Flask->Flask-Caching) (1.1.0)\n",
            "Requirement already satisfied: MarkupSafe>=0.23 in /usr/local/lib/python3.7/dist-packages (from Jinja2<3.0,>=2.10.1->Flask->Flask-Caching) (2.0.1)\n",
            "Installing collected packages: Flask-Caching\n",
            "Successfully installed Flask-Caching-1.10.1\n"
          ]
        }
      ],
      "metadata": {
        "colab": {
          "base_uri": "https://localhost:8080/"
        },
        "id": "kBgxvFUbBg1g",
        "outputId": "7d37bb49-b84d-42fa-8f31-11d0dc036e65"
      }
    },
    {
      "cell_type": "code",
      "execution_count": 2,
      "source": [
        "from flask_ngrok import run_with_ngrok\r\n",
        "import numpy as np\r\n",
        "import tensorflow as tf\r\n",
        "from flask import Flask,jsonify,make_response,request,render_template,flash,redirect,url_for\r\n",
        "from werkzeug.utils import secure_filename\r\n",
        "from tensorflow.keras.models import load_model\r\n",
        "import pickle\r\n",
        "from flask import Flask\r\n",
        "from flask_caching import Cache\r\n",
        "import os\r\n",
        "cache = Cache(config={'CACHE_TYPE': 'SimpleCache'})\r\n",
        "\r\n"
      ],
      "outputs": [],
      "metadata": {
        "id": "o2p5iVP-BjaK"
      }
    },
    {
      "cell_type": "code",
      "execution_count": 3,
      "source": [
        "\r\n",
        "from google.colab import drive\r\n",
        "drive.mount('/content/drive')"
      ],
      "outputs": [
        {
          "output_type": "stream",
          "name": "stdout",
          "text": [
            "Mounted at /content/drive\n"
          ]
        }
      ],
      "metadata": {
        "colab": {
          "base_uri": "https://localhost:8080/"
        },
        "id": "Oy_wOEzcBmYr",
        "outputId": "a4e5f3b3-5261-4cae-e9d5-9d5292f3ddd0"
      }
    },
    {
      "cell_type": "code",
      "execution_count": 5,
      "source": [
        "UPLOAD_FOLDER = '/content/drive/MyDrive/Colab Notebooks/project4/static'\r\n",
        "ALLOWED_EXTENSIONS = {'jpg','jpeg'}\r\n"
      ],
      "outputs": [],
      "metadata": {
        "id": "buRBykI1-Ibo"
      }
    },
    {
      "cell_type": "code",
      "execution_count": 11,
      "source": [
        "from flask import Flask, request, jsonify, render_template,url_for\r\n",
        "import pickle\r\n",
        "import folium\r\n",
        "from math import cos, asin, sqrt, pi\r\n",
        "import pandas as pd\r\n",
        "import folium.plugins\r\n",
        "folium.plugins.MarkerCluster()\r\n",
        "\r\n",
        "from flask_ngrok import run_with_ngrok\r\n",
        "app = Flask(__name__, template_folder=\"/content/drive/MyDrive/Colab Notebooks/project4/templates\",static_folder=\"/content/drive/MyDrive/Colab Notebooks/project4/static\" )\r\n",
        "# app.config['SESSION_TYPE'] = 'memcached'\r\n",
        "app.config['SECRET_KEY'] = 'super secret key'\r\n",
        "\r\n",
        "cache.init_app(app)\r\n",
        "\r\n",
        "run_with_ngrok(app)\r\n",
        "# @app.route(\"/\")\r\n",
        "# def home():\r\n",
        "#   return render_template('index.html')\r\n",
        "\r\n",
        "\r\n",
        "app.config['UPLOAD_FOLDER'] = UPLOAD_FOLDER\r\n",
        "def allowed_file(filename):\r\n",
        "    print('.' in filename and \\\r\n",
        "           filename.rsplit('.', 1)[1].lower() in ALLOWED_EXTENSIONS)\r\n",
        "    return '.' in filename and \\\r\n",
        "           filename.rsplit('.', 1)[1].lower() in ALLOWED_EXTENSIONS\r\n",
        "@app.route(\"/\")\r\n",
        "def home():\r\n",
        "  return render_template('index.html')\r\n",
        "\r\n",
        "@app.route('/page2', methods=['GET', 'POST'])\r\n",
        "def upload_file():\r\n",
        "\r\n",
        "    if request.method == 'POST':\r\n",
        "        # check if the post request has the file part\r\n",
        "        if 'file' not in request.files:\r\n",
        "            flash('No file part')\r\n",
        "            return redirect(request.url)\r\n",
        "        file = request.files['file']\r\n",
        "        # If the user does not select a file, the browser submits an\r\n",
        "        # empty file without a filename.\r\n",
        "        if file.filename == '':\r\n",
        "            flash('No selected file')\r\n",
        "            return redirect(request.url)\r\n",
        "        if file and allowed_file(file.filename):\r\n",
        "            filename = secure_filename(file.filename)\r\n",
        "            file.save(os.path.join(app.config['UPLOAD_FOLDER'], filename))\r\n",
        "            predictions=download_file(name=filename)\r\n",
        "            \r\n",
        "\r\n",
        "            full_filename=url_for('static',filename = filename)\r\n",
        "\r\n",
        "            print(full_filename)\r\n",
        "            return render_template(\"xray.html\",predictions_text=predictions,filename=full_filename) \r\n",
        "            #return redirect(url_for('download_file', name=filename))\r\n",
        "    return render_template(\"xray.html\")       \r\n",
        "       \r\n",
        "\r\n",
        "\r\n",
        "from flask import send_from_directory\r\n",
        "\r\n",
        "#@app.route('/uploads/<name>')\r\n",
        "cache.init_app(app)\r\n",
        "def download_file(name):\r\n",
        "      \r\n",
        "     return xraypred(name)\r\n",
        "#@app.route(\"/getxraypredictions\")\r\n",
        "def xraypred(fileName):\r\n",
        "\r\n",
        "  \r\n",
        "  from tensorflow.keras.preprocessing import image\r\n",
        "  filepath=\"/content/drive/MyDrive/Colab Notebooks/project4/static\"+\"/\"+fileName\r\n",
        "  print(filepath)\r\n",
        "\r\n",
        " \r\n",
        "  image_size = (256, 256,1)\r\n",
        "  im = image.load_img(filepath, target_size=image_size, color_mode=\"grayscale\")\r\n",
        "  \r\n",
        "  from tensorflow.keras.preprocessing.image import img_to_array\r\n",
        "  model = load_model(\"/content/drive/MyDrive/project4data/mymodel.h5\")\r\n",
        "  image = img_to_array(im)\r\n",
        "  img = image.flatten().reshape( -1,256, 256,1)\r\n",
        "  #plt.imshow(img.reshape(256, 256))\r\n",
        "  #img = 1 - img\r\n",
        "  #plt.imshow(img.reshape(256, 256), cmap=plt.cm.Greys)\r\n",
        "  #predictions=[[]]\r\n",
        "  predictions = model.predict(img)\r\n",
        "  print(predictions)\r\n",
        "  \r\n",
        "  \r\n",
        "  # output=predictions[0]   \r\n",
        "  # print(output) \r\n",
        "  # if predictions == 1:        \r\n",
        "  #   pred = \"Your symptoms show Covid detection, please consult a Doctor.\"    \r\n",
        "  # elif predictions == 0:        \r\n",
        "  #     pred = \"You don't have Covid.\"    \r\n",
        "  # output = pred\r\n",
        " \r\n",
        "  \r\n",
        "  predicted= np.argmax(predictions,axis=1)\r\n",
        "  #np.argmax(predictions,axis=1\r\n",
        "  print(predicted)\r\n",
        "\r\n",
        "  if predicted == 1:\r\n",
        "    predicted_string = \"Your X-ray show Covid detection.\"\r\n",
        "  else: #predicted == 0:\r\n",
        "      predicted_string = \"You don't have Covid.\"\r\n",
        "  predict=predicted_string\r\n",
        "  \r\n",
        "    \r\n",
        "  return (predict)\r\n",
        "  \r\n",
        "\r\n",
        "model = pickle.load(open(\"/content/drive/MyDrive/Colab Notebooks/project4/model2.pkl\", 'rb'))  # file path may be different\r\n",
        "\r\n",
        "@app.route('/symptoms')\r\n",
        "def symptoms():\r\n",
        "    return render_template('symptoms1.html')\r\n",
        "@app.route('/predict', methods=['POST'])\r\n",
        "def predict():\r\n",
        "    int_features = [int(x) for x in request.form.values()]\r\n",
        "    final_features=[np.array(int_features)]\r\n",
        "    prediction=model.predict(final_features)\r\n",
        "    print(prediction)\r\n",
        "    print(prediction)\r\n",
        "    output=round(prediction[0],2)\r\n",
        "   \r\n",
        "    if prediction == 1:\r\n",
        "        pred = \"Your symptoms show Covid detection, please consult a Doctor.\"\r\n",
        "    else: #prediction == \"0:\r\n",
        "        pred = \"You don't have Covid.\"\r\n",
        "    output = pred\r\n",
        "    return render_template('symptoms1.html', prediction_text='COVID Results {}'.format(output))\r\n",
        "\r\n",
        "\r\n",
        "@app.route('/map',methods=['GET','POST'])\r\n",
        "def drawmap():\r\n",
        "  zipcode=request.form.get('zipcode')\r\n",
        "  \r\n",
        "  data=pd.read_csv(\"/content/drive/MyDrive/Colab Notebooks/Map/usps_zips.csv\")\r\n",
        "  data['zip'] = data['zip'].apply(lambda x: '{0:0>5}'.format(x))\r\n",
        "  hosp_df=pd.read_csv('/content/drive/MyDrive/Colab Notebooks/Map/hospital_zip.csv')\r\n",
        "  hosp_df=(hosp_df[[\"hospital_name\", \"address\", \"city\", \"state\", \"zip\", \"LAT\", \"LNG\"]])\r\n",
        "  hosp_df['zip'] = hosp_df['zip'].apply(lambda x: '{0:0>5}'.format(x))\r\n",
        "  \r\n",
        "  global lat2, long2\r\n",
        "\r\n",
        "  for i, row in data.iterrows():\r\n",
        "   \r\n",
        "    if zipcode == row['zip']:\r\n",
        "        lat2=row['latitude']\r\n",
        "        long2=row['longitude']\r\n",
        "      \r\n",
        "\r\n",
        "\r\n",
        "\r\n",
        "  p=pi/180\r\n",
        "  results=[]\r\n",
        "  zips = []\r\n",
        "  lats = []\r\n",
        "  longs = []\r\n",
        "  hospitals = []\r\n",
        "  addresses= []\r\n",
        "  cities = []\r\n",
        "  states = []\r\n",
        "\r\n",
        "  for i, row in hosp_df.iterrows():\r\n",
        "      lat1=row['LAT']\r\n",
        "      long1=row['LNG']\r\n",
        "      hospital=hosp_df['hospital_name'][i]\r\n",
        "      address=hosp_df['address'][i]\r\n",
        "      city=hosp_df['city'][i]\r\n",
        "      state=hosp_df['state'][i]\r\n",
        "      zip_code=row['zip']\r\n",
        "      a = 0.5 - cos((lat2-lat1)*p)/2 + cos(lat1*p) * cos(lat2*p) * (1-cos((long2-long1)*p))/2\r\n",
        "      result=12742*asin(sqrt(a))\r\n",
        "      results.append(result)\r\n",
        "      zips.append(zip_code)\r\n",
        "      lats.append(lat1)\r\n",
        "      longs.append(long1)\r\n",
        "      hospitals.append(hospital)\r\n",
        "      #print(hospitals)\r\n",
        "      addresses.append(address)\r\n",
        "      cities.append(city)\r\n",
        "      states.append(state)\r\n",
        "    \r\n",
        "  df = pd.DataFrame(list(zip(results, zips, lats, longs, hospitals, addresses, cities, states)),\r\n",
        "               columns =['distance', 'zip_codes', 'latitude', 'longitude', 'hospital', 'address', 'city', 'state'])\r\n",
        "  fifteen_miles = df[df['distance']<= 15]\r\n",
        "  import folium.plugins\r\n",
        "  \r\n",
        "\r\n",
        "  #Base Map\r\n",
        "  usa = [37.090240, -95.712891]\r\n",
        "  Map_object = folium.Map(location=usa, zoom_start=4)\r\n",
        "  print(Map_object)\r\n",
        "  \r\n",
        "  for i in range(0, len(fifteen_miles)):\r\n",
        "    folium.Marker([fifteen_miles.iloc[i][\"latitude\"], fifteen_miles.iloc[i][\"longitude\"]], popup=fifteen_miles.iloc[i][\"hospital\"]).add_to(Map_object)\r\n",
        "\r\n",
        "  #folium.plugins.MarkerCluster()\r\n",
        "  folium.plugins.marker_cluster.MarkerCluster\r\n",
        "  from folium.plugins import MarkerCluster\r\n",
        "\r\n",
        "\r\n",
        "  \r\n",
        "  marker_cluster = MarkerCluster().add_to(Map_object)\r\n",
        "  #marker_cluster = folium.plugins.MarkerCluster()(\"hopitals\").add_to(Map)\r\n",
        "\r\n",
        "# # Load locally stored colchester public toilets data\r\n",
        "\r\n",
        "  for i in range(0, len(fifteen_miles)):\r\n",
        "    folium.Marker([fifteen_miles.iloc[i][\"latitude\"], fifteen_miles.iloc[i][\"longitude\"]], popup=fifteen_miles.iloc[i][\"hospital\"]).add_to(marker_cluster)\r\n",
        "  \r\n",
        "\r\n",
        "  print(Map_object._repr_html_())\r\n",
        "  return Map_object._repr_html_()\r\n",
        "\r\n",
        "\r\n",
        "app.run()\r\n"
      ],
      "outputs": [
        {
          "output_type": "stream",
          "name": "stdout",
          "text": [
            " * Serving Flask app \"__main__\" (lazy loading)\n",
            " * Environment: production\n",
            "\u001b[31m   WARNING: This is a development server. Do not use it in a production deployment.\u001b[0m\n",
            "\u001b[2m   Use a production WSGI server instead.\u001b[0m\n",
            " * Debug mode: off\n"
          ]
        },
        {
          "output_type": "stream",
          "name": "stderr",
          "text": [
            "/usr/local/lib/python3.7/dist-packages/sklearn/base.py:318: UserWarning: Trying to unpickle estimator DecisionTreeClassifier from version 0.21.3 when using version 0.22.2.post1. This might lead to breaking code or invalid results. Use at your own risk.\n",
            "  UserWarning)\n",
            "/usr/local/lib/python3.7/dist-packages/sklearn/base.py:318: UserWarning: Trying to unpickle estimator RandomForestClassifier from version 0.21.3 when using version 0.22.2.post1. This might lead to breaking code or invalid results. Use at your own risk.\n",
            "  UserWarning)\n",
            " * Running on http://127.0.0.1:5000/ (Press CTRL+C to quit)\n"
          ]
        },
        {
          "output_type": "stream",
          "name": "stdout",
          "text": [
            " * Running on http://b880-34-75-240-159.ngrok.io\n",
            " * Traffic stats available on http://127.0.0.1:4040\n"
          ]
        },
        {
          "output_type": "stream",
          "name": "stderr",
          "text": [
            "127.0.0.1 - - [28/Sep/2021 16:10:34] \"\u001b[37mGET / HTTP/1.1\u001b[0m\" 200 -\n",
            "127.0.0.1 - - [28/Sep/2021 16:10:34] \"\u001b[33mGET /content/drive/MyDrive/Colab%20Notebooks/project4/assets/js/markerclusterer_compiled.js HTTP/1.1\u001b[0m\" 404 -\n",
            "127.0.0.1 - - [28/Sep/2021 16:10:34] \"\u001b[33mGET /content/drive/MyDrive/Colab%20Notebooks/project4/assets/js/markerclusterer_compiled.js HTTP/1.1\u001b[0m\" 404 -\n",
            "127.0.0.1 - - [28/Sep/2021 16:10:34] \"\u001b[33mGET /favicon.ico HTTP/1.1\u001b[0m\" 404 -\n",
            "127.0.0.1 - - [28/Sep/2021 16:10:36] \"\u001b[37mGET /symptoms HTTP/1.1\u001b[0m\" 200 -\n",
            "127.0.0.1 - - [28/Sep/2021 16:10:36] \"\u001b[33mGET /static/css/style.css HTTP/1.1\u001b[0m\" 404 -\n",
            "127.0.0.1 - - [28/Sep/2021 16:10:45] \"\u001b[37mPOST /predict HTTP/1.1\u001b[0m\" 200 -\n",
            "127.0.0.1 - - [28/Sep/2021 16:10:45] \"\u001b[33mGET /static/css/style.css HTTP/1.1\u001b[0m\" 404 -\n"
          ]
        },
        {
          "output_type": "stream",
          "name": "stdout",
          "text": [
            "[1]\n",
            "[1]\n"
          ]
        },
        {
          "output_type": "stream",
          "name": "stderr",
          "text": [
            "127.0.0.1 - - [28/Sep/2021 16:10:53] \"\u001b[37mPOST /map HTTP/1.1\u001b[0m\" 200 -\n"
          ]
        },
        {
          "output_type": "stream",
          "name": "stdout",
          "text": [
            "<folium.folium.Map object at 0x7f8bda8ba790>\n",
            "<div style=\"width:100%;\"><div style=\"position:relative;width:100%;height:0;padding-bottom:60%;\"><span style=\"color:#565656\">Make this Notebook Trusted to load map: File -> Trust Notebook</span><iframe src=\"about:blank\" style=\"position:absolute;width:100%;height:100%;left:0;top:0;border:none !important;\" data-html=%3C%21DOCTYPE%20html%3E%0A%3Chead%3E%20%20%20%20%0A%20%20%20%20%3Cmeta%20http-equiv%3D%22content-type%22%20content%3D%22text/html%3B%20charset%3DUTF-8%22%20/%3E%0A%20%20%20%20%3Cscript%3EL_PREFER_CANVAS%3Dfalse%3B%20L_NO_TOUCH%3Dfalse%3B%20L_DISABLE_3D%3Dfalse%3B%3C/script%3E%0A%20%20%20%20%3Cscript%20src%3D%22https%3A//cdn.jsdelivr.net/npm/leaflet%401.4.0/dist/leaflet.js%22%3E%3C/script%3E%0A%20%20%20%20%3Cscript%20src%3D%22https%3A//code.jquery.com/jquery-1.12.4.min.js%22%3E%3C/script%3E%0A%20%20%20%20%3Cscript%20src%3D%22https%3A//maxcdn.bootstrapcdn.com/bootstrap/3.2.0/js/bootstrap.min.js%22%3E%3C/script%3E%0A%20%20%20%20%3Cscript%20src%3D%22https%3A//cdnjs.cloudflare.com/ajax/libs/Leaflet.awesome-markers/2.0.2/leaflet.awesome-markers.js%22%3E%3C/script%3E%0A%20%20%20%20%3Clink%20rel%3D%22stylesheet%22%20href%3D%22https%3A//cdn.jsdelivr.net/npm/leaflet%401.4.0/dist/leaflet.css%22/%3E%0A%20%20%20%20%3Clink%20rel%3D%22stylesheet%22%20href%3D%22https%3A//maxcdn.bootstrapcdn.com/bootstrap/3.2.0/css/bootstrap.min.css%22/%3E%0A%20%20%20%20%3Clink%20rel%3D%22stylesheet%22%20href%3D%22https%3A//maxcdn.bootstrapcdn.com/bootstrap/3.2.0/css/bootstrap-theme.min.css%22/%3E%0A%20%20%20%20%3Clink%20rel%3D%22stylesheet%22%20href%3D%22https%3A//maxcdn.bootstrapcdn.com/font-awesome/4.6.3/css/font-awesome.min.css%22/%3E%0A%20%20%20%20%3Clink%20rel%3D%22stylesheet%22%20href%3D%22https%3A//cdnjs.cloudflare.com/ajax/libs/Leaflet.awesome-markers/2.0.2/leaflet.awesome-markers.css%22/%3E%0A%20%20%20%20%3Clink%20rel%3D%22stylesheet%22%20href%3D%22https%3A//rawcdn.githack.com/python-visualization/folium/master/folium/templates/leaflet.awesome.rotate.css%22/%3E%0A%20%20%20%20%3Cstyle%3Ehtml%2C%20body%20%7Bwidth%3A%20100%25%3Bheight%3A%20100%25%3Bmargin%3A%200%3Bpadding%3A%200%3B%7D%3C/style%3E%0A%20%20%20%20%3Cstyle%3E%23map%20%7Bposition%3Aabsolute%3Btop%3A0%3Bbottom%3A0%3Bright%3A0%3Bleft%3A0%3B%7D%3C/style%3E%0A%20%20%20%20%0A%20%20%20%20%3Cmeta%20name%3D%22viewport%22%20content%3D%22width%3Ddevice-width%2C%0A%20%20%20%20%20%20%20%20initial-scale%3D1.0%2C%20maximum-scale%3D1.0%2C%20user-scalable%3Dno%22%20/%3E%0A%20%20%20%20%3Cstyle%3E%23map_874b2bee8a364f7e8352c058521fd279%20%7B%0A%20%20%20%20%20%20%20%20position%3A%20relative%3B%0A%20%20%20%20%20%20%20%20width%3A%20100.0%25%3B%0A%20%20%20%20%20%20%20%20height%3A%20100.0%25%3B%0A%20%20%20%20%20%20%20%20left%3A%200.0%25%3B%0A%20%20%20%20%20%20%20%20top%3A%200.0%25%3B%0A%20%20%20%20%20%20%20%20%7D%0A%20%20%20%20%3C/style%3E%0A%20%20%20%20%3Cscript%20src%3D%22https%3A//cdnjs.cloudflare.com/ajax/libs/leaflet.markercluster/1.1.0/leaflet.markercluster.js%22%3E%3C/script%3E%0A%20%20%20%20%3Clink%20rel%3D%22stylesheet%22%20href%3D%22https%3A//cdnjs.cloudflare.com/ajax/libs/leaflet.markercluster/1.1.0/MarkerCluster.css%22/%3E%0A%20%20%20%20%3Clink%20rel%3D%22stylesheet%22%20href%3D%22https%3A//cdnjs.cloudflare.com/ajax/libs/leaflet.markercluster/1.1.0/MarkerCluster.Default.css%22/%3E%0A%3C/head%3E%0A%3Cbody%3E%20%20%20%20%0A%20%20%20%20%0A%20%20%20%20%3Cdiv%20class%3D%22folium-map%22%20id%3D%22map_874b2bee8a364f7e8352c058521fd279%22%20%3E%3C/div%3E%0A%3C/body%3E%0A%3Cscript%3E%20%20%20%20%0A%20%20%20%20%0A%20%20%20%20%0A%20%20%20%20%20%20%20%20var%20bounds%20%3D%20null%3B%0A%20%20%20%20%0A%0A%20%20%20%20var%20map_874b2bee8a364f7e8352c058521fd279%20%3D%20L.map%28%0A%20%20%20%20%20%20%20%20%27map_874b2bee8a364f7e8352c058521fd279%27%2C%20%7B%0A%20%20%20%20%20%20%20%20center%3A%20%5B37.09024%2C%20-95.712891%5D%2C%0A%20%20%20%20%20%20%20%20zoom%3A%204%2C%0A%20%20%20%20%20%20%20%20maxBounds%3A%20bounds%2C%0A%20%20%20%20%20%20%20%20layers%3A%20%5B%5D%2C%0A%20%20%20%20%20%20%20%20worldCopyJump%3A%20false%2C%0A%20%20%20%20%20%20%20%20crs%3A%20L.CRS.EPSG3857%2C%0A%20%20%20%20%20%20%20%20zoomControl%3A%20true%2C%0A%20%20%20%20%20%20%20%20%7D%29%3B%0A%0A%0A%20%20%20%20%0A%20%20%20%20var%20tile_layer_ed53482c703044eb940125147dff0a39%20%3D%20L.tileLayer%28%0A%20%20%20%20%20%20%20%20%27https%3A//%7Bs%7D.tile.openstreetmap.org/%7Bz%7D/%7Bx%7D/%7By%7D.png%27%2C%0A%20%20%20%20%20%20%20%20%7B%0A%20%20%20%20%20%20%20%20%22attribution%22%3A%20null%2C%0A%20%20%20%20%20%20%20%20%22detectRetina%22%3A%20false%2C%0A%20%20%20%20%20%20%20%20%22maxNativeZoom%22%3A%2018%2C%0A%20%20%20%20%20%20%20%20%22maxZoom%22%3A%2018%2C%0A%20%20%20%20%20%20%20%20%22minZoom%22%3A%200%2C%0A%20%20%20%20%20%20%20%20%22noWrap%22%3A%20false%2C%0A%20%20%20%20%20%20%20%20%22opacity%22%3A%201%2C%0A%20%20%20%20%20%20%20%20%22subdomains%22%3A%20%22abc%22%2C%0A%20%20%20%20%20%20%20%20%22tms%22%3A%20false%0A%7D%29.addTo%28map_874b2bee8a364f7e8352c058521fd279%29%3B%0A%20%20%20%20%0A%20%20%20%20%20%20%20%20var%20marker_d433689051c54a7d97e36e4962d6c5ac%20%3D%20L.marker%28%0A%20%20%20%20%20%20%20%20%20%20%20%20%5B40.632647999999996%2C%20-74.116148%5D%2C%0A%20%20%20%20%20%20%20%20%20%20%20%20%7B%0A%20%20%20%20%20%20%20%20%20%20%20%20%20%20%20%20icon%3A%20new%20L.Icon.Default%28%29%2C%0A%20%20%20%20%20%20%20%20%20%20%20%20%20%20%20%20%7D%0A%20%20%20%20%20%20%20%20%20%20%20%20%29.addTo%28map_874b2bee8a364f7e8352c058521fd279%29%3B%0A%20%20%20%20%20%20%20%20%0A%20%20%20%20%0A%20%20%20%20%20%20%20%20%20%20%20%20var%20popup_7c1d593c052e432794106b94d3a330b8%20%3D%20L.popup%28%7BmaxWidth%3A%20%27100%25%27%0A%20%20%20%20%20%20%20%20%20%20%20%20%0A%20%20%20%20%20%20%20%20%20%20%20%20%7D%29%3B%0A%0A%20%20%20%20%20%20%20%20%20%20%20%20%0A%20%20%20%20%20%20%20%20%20%20%20%20%20%20%20%20var%20html_167cbb71bba7451a8c143d54c93e6634%20%3D%20%24%28%60%3Cdiv%20id%3D%22html_167cbb71bba7451a8c143d54c93e6634%22%20style%3D%22width%3A%20100.0%25%3B%20height%3A%20100.0%25%3B%22%3ERICHMOND%20UNIVERSITY%20MEDICAL%20CENTER%3C/div%3E%60%29%5B0%5D%3B%0A%20%20%20%20%20%20%20%20%20%20%20%20%20%20%20%20popup_7c1d593c052e432794106b94d3a330b8.setContent%28html_167cbb71bba7451a8c143d54c93e6634%29%3B%0A%20%20%20%20%20%20%20%20%20%20%20%20%0A%0A%20%20%20%20%20%20%20%20%20%20%20%20marker_d433689051c54a7d97e36e4962d6c5ac.bindPopup%28popup_7c1d593c052e432794106b94d3a330b8%29%0A%20%20%20%20%20%20%20%20%20%20%20%20%3B%0A%0A%20%20%20%20%20%20%20%20%20%20%20%20%0A%20%20%20%20%20%20%20%20%0A%20%20%20%20%0A%20%20%20%20%20%20%20%20var%20marker_f5ac99b4c8c745c8a21b345cd95b338a%20%3D%20L.marker%28%0A%20%20%20%20%20%20%20%20%20%20%20%20%5B40.662688%2C%20-73.98674%5D%2C%0A%20%20%20%20%20%20%20%20%20%20%20%20%7B%0A%20%20%20%20%20%20%20%20%20%20%20%20%20%20%20%20icon%3A%20new%20L.Icon.Default%28%29%2C%0A%20%20%20%20%20%20%20%20%20%20%20%20%20%20%20%20%7D%0A%20%20%20%20%20%20%20%20%20%20%20%20%29.addTo%28map_874b2bee8a364f7e8352c058521fd279%29%3B%0A%20%20%20%20%20%20%20%20%0A%20%20%20%20%0A%20%20%20%20%20%20%20%20%20%20%20%20var%20popup_a6dfebd129a249118b280d03cbb94137%20%3D%20L.popup%28%7BmaxWidth%3A%20%27100%25%27%0A%20%20%20%20%20%20%20%20%20%20%20%20%0A%20%20%20%20%20%20%20%20%20%20%20%20%7D%29%3B%0A%0A%20%20%20%20%20%20%20%20%20%20%20%20%0A%20%20%20%20%20%20%20%20%20%20%20%20%20%20%20%20var%20html_442b1a81ee0c45488e4908870caa80e2%20%3D%20%24%28%60%3Cdiv%20id%3D%22html_442b1a81ee0c45488e4908870caa80e2%22%20style%3D%22width%3A%20100.0%25%3B%20height%3A%20100.0%25%3B%22%3ENEW%20YORK-PRESBYTERIAN%20BROOKLYN%20METHODIST%20HOSPITAL%3C/div%3E%60%29%5B0%5D%3B%0A%20%20%20%20%20%20%20%20%20%20%20%20%20%20%20%20popup_a6dfebd129a249118b280d03cbb94137.setContent%28html_442b1a81ee0c45488e4908870caa80e2%29%3B%0A%20%20%20%20%20%20%20%20%20%20%20%20%0A%0A%20%20%20%20%20%20%20%20%20%20%20%20marker_f5ac99b4c8c745c8a21b345cd95b338a.bindPopup%28popup_a6dfebd129a249118b280d03cbb94137%29%0A%20%20%20%20%20%20%20%20%20%20%20%20%3B%0A%0A%20%20%20%20%20%20%20%20%20%20%20%20%0A%20%20%20%20%20%20%20%20%0A%20%20%20%20%0A%20%20%20%20%20%20%20%20var%20marker_7808cb4bc79c4d3db59e8f055c3a3d63%20%3D%20L.marker%28%0A%20%20%20%20%20%20%20%20%20%20%20%20%5B40.734924%2C%20-74.071875%5D%2C%0A%20%20%20%20%20%20%20%20%20%20%20%20%7B%0A%20%20%20%20%20%20%20%20%20%20%20%20%20%20%20%20icon%3A%20new%20L.Icon.Default%28%29%2C%0A%20%20%20%20%20%20%20%20%20%20%20%20%20%20%20%20%7D%0A%20%20%20%20%20%20%20%20%20%20%20%20%29.addTo%28map_874b2bee8a364f7e8352c058521fd279%29%3B%0A%20%20%20%20%20%20%20%20%0A%20%20%20%20%0A%20%20%20%20%20%20%20%20%20%20%20%20var%20popup_8f314236b402461b9bf46218c2fe54fc%20%3D%20L.popup%28%7BmaxWidth%3A%20%27100%25%27%0A%20%20%20%20%20%20%20%20%20%20%20%20%0A%20%20%20%20%20%20%20%20%20%20%20%20%7D%29%3B%0A%0A%20%20%20%20%20%20%20%20%20%20%20%20%0A%20%20%20%20%20%20%20%20%20%20%20%20%20%20%20%20var%20html_fe72fd134f964476b6539ad324428d61%20%3D%20%24%28%60%3Cdiv%20id%3D%22html_fe72fd134f964476b6539ad324428d61%22%20style%3D%22width%3A%20100.0%25%3B%20height%3A%20100.0%25%3B%22%3ECAREPOINT%20HEALTH-CHRIST%20HOSPITAL%3C/div%3E%60%29%5B0%5D%3B%0A%20%20%20%20%20%20%20%20%20%20%20%20%20%20%20%20popup_8f314236b402461b9bf46218c2fe54fc.setContent%28html_fe72fd134f964476b6539ad324428d61%29%3B%0A%20%20%20%20%20%20%20%20%20%20%20%20%0A%0A%20%20%20%20%20%20%20%20%20%20%20%20marker_7808cb4bc79c4d3db59e8f055c3a3d63.bindPopup%28popup_8f314236b402461b9bf46218c2fe54fc%29%0A%20%20%20%20%20%20%20%20%20%20%20%20%3B%0A%0A%20%20%20%20%20%20%20%20%20%20%20%20%0A%20%20%20%20%20%20%20%20%0A%20%20%20%20%0A%20%20%20%20%20%20%20%20var%20marker_0e4ed8b72461412a831442edaff2bc9c%20%3D%20L.marker%28%0A%20%20%20%20%20%20%20%20%20%20%20%20%5B40.769258%2C%20-73.958751%5D%2C%0A%20%20%20%20%20%20%20%20%20%20%20%20%7B%0A%20%20%20%20%20%20%20%20%20%20%20%20%20%20%20%20icon%3A%20new%20L.Icon.Default%28%29%2C%0A%20%20%20%20%20%20%20%20%20%20%20%20%20%20%20%20%7D%0A%20%20%20%20%20%20%20%20%20%20%20%20%29.addTo%28map_874b2bee8a364f7e8352c058521fd279%29%3B%0A%20%20%20%20%20%20%20%20%0A%20%20%20%20%0A%20%20%20%20%20%20%20%20%20%20%20%20var%20popup_58314dc751a34660bd8841cd2c672c52%20%3D%20L.popup%28%7BmaxWidth%3A%20%27100%25%27%0A%20%20%20%20%20%20%20%20%20%20%20%20%0A%20%20%20%20%20%20%20%20%20%20%20%20%7D%29%3B%0A%0A%20%20%20%20%20%20%20%20%20%20%20%20%0A%20%20%20%20%20%20%20%20%20%20%20%20%20%20%20%20var%20html_76a7735bb2c64d058363c72d7c746117%20%3D%20%24%28%60%3Cdiv%20id%3D%22html_76a7735bb2c64d058363c72d7c746117%22%20style%3D%22width%3A%20100.0%25%3B%20height%3A%20100.0%25%3B%22%3ELENOX%20HILL%20HOSPITAL%3C/div%3E%60%29%5B0%5D%3B%0A%20%20%20%20%20%20%20%20%20%20%20%20%20%20%20%20popup_58314dc751a34660bd8841cd2c672c52.setContent%28html_76a7735bb2c64d058363c72d7c746117%29%3B%0A%20%20%20%20%20%20%20%20%20%20%20%20%0A%0A%20%20%20%20%20%20%20%20%20%20%20%20marker_0e4ed8b72461412a831442edaff2bc9c.bindPopup%28popup_58314dc751a34660bd8841cd2c672c52%29%0A%20%20%20%20%20%20%20%20%20%20%20%20%3B%0A%0A%20%20%20%20%20%20%20%20%20%20%20%20%0A%20%20%20%20%20%20%20%20%0A%20%20%20%20%0A%20%20%20%20%20%20%20%20var%20marker_eeeb60b7eb1c423483352c071696d4c4%20%3D%20L.marker%28%0A%20%20%20%20%20%20%20%20%20%20%20%20%5B40.745224%2C%20-73.978297%5D%2C%0A%20%20%20%20%20%20%20%20%20%20%20%20%7B%0A%20%20%20%20%20%20%20%20%20%20%20%20%20%20%20%20icon%3A%20new%20L.Icon.Default%28%29%2C%0A%20%20%20%20%20%20%20%20%20%20%20%20%20%20%20%20%7D%0A%20%20%20%20%20%20%20%20%20%20%20%20%29.addTo%28map_874b2bee8a364f7e8352c058521fd279%29%3B%0A%20%20%20%20%20%20%20%20%0A%20%20%20%20%0A%20%20%20%20%20%20%20%20%20%20%20%20var%20popup_825309a319364a76bbbefc227befc3e6%20%3D%20L.popup%28%7BmaxWidth%3A%20%27100%25%27%0A%20%20%20%20%20%20%20%20%20%20%20%20%0A%20%20%20%20%20%20%20%20%20%20%20%20%7D%29%3B%0A%0A%20%20%20%20%20%20%20%20%20%20%20%20%0A%20%20%20%20%20%20%20%20%20%20%20%20%20%20%20%20var%20html_5e919a5c4944451994f415a97154ab27%20%3D%20%24%28%60%3Cdiv%20id%3D%22html_5e919a5c4944451994f415a97154ab27%22%20style%3D%22width%3A%20100.0%25%3B%20height%3A%20100.0%25%3B%22%3EBELLEVUE%20HOSPITAL%20CENTER%3C/div%3E%60%29%5B0%5D%3B%0A%20%20%20%20%20%20%20%20%20%20%20%20%20%20%20%20popup_825309a319364a76bbbefc227befc3e6.setContent%28html_5e919a5c4944451994f415a97154ab27%29%3B%0A%20%20%20%20%20%20%20%20%20%20%20%20%0A%0A%20%20%20%20%20%20%20%20%20%20%20%20marker_eeeb60b7eb1c423483352c071696d4c4.bindPopup%28popup_825309a319364a76bbbefc227befc3e6%29%0A%20%20%20%20%20%20%20%20%20%20%20%20%3B%0A%0A%20%20%20%20%20%20%20%20%20%20%20%20%0A%20%20%20%20%20%20%20%20%0A%20%20%20%20%0A%20%20%20%20%20%20%20%20var%20marker_c860eb44f37348e0afd4afed51891488%20%3D%20L.marker%28%0A%20%20%20%20%20%20%20%20%20%20%20%20%5B40.709361%2C%20-74.209662%5D%2C%0A%20%20%20%20%20%20%20%20%20%20%20%20%7B%0A%20%20%20%20%20%20%20%20%20%20%20%20%20%20%20%20icon%3A%20new%20L.Icon.Default%28%29%2C%0A%20%20%20%20%20%20%20%20%20%20%20%20%20%20%20%20%7D%0A%20%20%20%20%20%20%20%20%20%20%20%20%29.addTo%28map_874b2bee8a364f7e8352c058521fd279%29%3B%0A%20%20%20%20%20%20%20%20%0A%20%20%20%20%0A%20%20%20%20%20%20%20%20%20%20%20%20var%20popup_12dd36b90f6f483eafb8dd1c91261601%20%3D%20L.popup%28%7BmaxWidth%3A%20%27100%25%27%0A%20%20%20%20%20%20%20%20%20%20%20%20%0A%20%20%20%20%20%20%20%20%20%20%20%20%7D%29%3B%0A%0A%20%20%20%20%20%20%20%20%20%20%20%20%0A%20%20%20%20%20%20%20%20%20%20%20%20%20%20%20%20var%20html_9678cbe403fe4a35aee7a93177870223%20%3D%20%24%28%60%3Cdiv%20id%3D%22html_9678cbe403fe4a35aee7a93177870223%22%20style%3D%22width%3A%20100.0%25%3B%20height%3A%20100.0%25%3B%22%3ENEWARK%20BETH%20ISRAEL%20MEDICAL%20CENTER%3C/div%3E%60%29%5B0%5D%3B%0A%20%20%20%20%20%20%20%20%20%20%20%20%20%20%20%20popup_12dd36b90f6f483eafb8dd1c91261601.setContent%28html_9678cbe403fe4a35aee7a93177870223%29%3B%0A%20%20%20%20%20%20%20%20%20%20%20%20%0A%0A%20%20%20%20%20%20%20%20%20%20%20%20marker_c860eb44f37348e0afd4afed51891488.bindPopup%28popup_12dd36b90f6f483eafb8dd1c91261601%29%0A%20%20%20%20%20%20%20%20%20%20%20%20%3B%0A%0A%20%20%20%20%20%20%20%20%20%20%20%20%0A%20%20%20%20%20%20%20%20%0A%20%20%20%20%0A%20%20%20%20%20%20%20%20var%20marker_dd9239af6ca24cfb8328ea0023ca8271%20%3D%20L.marker%28%0A%20%20%20%20%20%20%20%20%20%20%20%20%5B40.704159999999995%2C%20-73.921139%5D%2C%0A%20%20%20%20%20%20%20%20%20%20%20%20%7B%0A%20%20%20%20%20%20%20%20%20%20%20%20%20%20%20%20icon%3A%20new%20L.Icon.Default%28%29%2C%0A%20%20%20%20%20%20%20%20%20%20%20%20%20%20%20%20%7D%0A%20%20%20%20%20%20%20%20%20%20%20%20%29.addTo%28map_874b2bee8a364f7e8352c058521fd279%29%3B%0A%20%20%20%20%20%20%20%20%0A%20%20%20%20%0A%20%20%20%20%20%20%20%20%20%20%20%20var%20popup_381c01d97f5342659cf90bdc78505e0a%20%3D%20L.popup%28%7BmaxWidth%3A%20%27100%25%27%0A%20%20%20%20%20%20%20%20%20%20%20%20%0A%20%20%20%20%20%20%20%20%20%20%20%20%7D%29%3B%0A%0A%20%20%20%20%20%20%20%20%20%20%20%20%0A%20%20%20%20%20%20%20%20%20%20%20%20%20%20%20%20var%20html_481f322f2bca44b68d7d5ad85e02ac56%20%3D%20%24%28%60%3Cdiv%20id%3D%22html_481f322f2bca44b68d7d5ad85e02ac56%22%20style%3D%22width%3A%20100.0%25%3B%20height%3A%20100.0%25%3B%22%3EWYCKOFF%20HEIGHTS%20MEDICAL%20CENTER%3C/div%3E%60%29%5B0%5D%3B%0A%20%20%20%20%20%20%20%20%20%20%20%20%20%20%20%20popup_381c01d97f5342659cf90bdc78505e0a.setContent%28html_481f322f2bca44b68d7d5ad85e02ac56%29%3B%0A%20%20%20%20%20%20%20%20%20%20%20%20%0A%0A%20%20%20%20%20%20%20%20%20%20%20%20marker_dd9239af6ca24cfb8328ea0023ca8271.bindPopup%28popup_381c01d97f5342659cf90bdc78505e0a%29%0A%20%20%20%20%20%20%20%20%20%20%20%20%3B%0A%0A%20%20%20%20%20%20%20%20%20%20%20%20%0A%20%20%20%20%20%20%20%20%0A%20%20%20%20%0A%20%20%20%20%20%20%20%20var%20marker_52d2dafb85db48dc98ba44dc23bb64f6%20%3D%20L.marker%28%0A%20%20%20%20%20%20%20%20%20%20%20%20%5B40.745224%2C%20-73.978297%5D%2C%0A%20%20%20%20%20%20%20%20%20%20%20%20%7B%0A%20%20%20%20%20%20%20%20%20%20%20%20%20%20%20%20icon%3A%20new%20L.Icon.Default%28%29%2C%0A%20%20%20%20%20%20%20%20%20%20%20%20%20%20%20%20%7D%0A%20%20%20%20%20%20%20%20%20%20%20%20%29.addTo%28map_874b2bee8a364f7e8352c058521fd279%29%3B%0A%20%20%20%20%20%20%20%20%0A%20%20%20%20%0A%20%20%20%20%20%20%20%20%20%20%20%20var%20popup_64bb34c853fc4161803df39076eed405%20%3D%20L.popup%28%7BmaxWidth%3A%20%27100%25%27%0A%20%20%20%20%20%20%20%20%20%20%20%20%0A%20%20%20%20%20%20%20%20%20%20%20%20%7D%29%3B%0A%0A%20%20%20%20%20%20%20%20%20%20%20%20%0A%20%20%20%20%20%20%20%20%20%20%20%20%20%20%20%20var%20html_b3b6019958354dd39234478b758871c6%20%3D%20%24%28%60%3Cdiv%20id%3D%22html_b3b6019958354dd39234478b758871c6%22%20style%3D%22width%3A%20100.0%25%3B%20height%3A%20100.0%25%3B%22%3ENYU%20LANGONE%20HOSPITALS%3C/div%3E%60%29%5B0%5D%3B%0A%20%20%20%20%20%20%20%20%20%20%20%20%20%20%20%20popup_64bb34c853fc4161803df39076eed405.setContent%28html_b3b6019958354dd39234478b758871c6%29%3B%0A%20%20%20%20%20%20%20%20%20%20%20%20%0A%0A%20%20%20%20%20%20%20%20%20%20%20%20marker_52d2dafb85db48dc98ba44dc23bb64f6.bindPopup%28popup_64bb34c853fc4161803df39076eed405%29%0A%20%20%20%20%20%20%20%20%20%20%20%20%3B%0A%0A%20%20%20%20%20%20%20%20%20%20%20%20%0A%20%20%20%20%20%20%20%20%0A%20%20%20%20%0A%20%20%20%20%20%20%20%20var%20marker_014410d8c51e4c7d84e5ac3196e07b4e%20%3D%20L.marker%28%0A%20%20%20%20%20%20%20%20%20%20%20%20%5B40.764612%2C%20-73.963122%5D%2C%0A%20%20%20%20%20%20%20%20%20%20%20%20%7B%0A%20%20%20%20%20%20%20%20%20%20%20%20%20%20%20%20icon%3A%20new%20L.Icon.Default%28%29%2C%0A%20%20%20%20%20%20%20%20%20%20%20%20%20%20%20%20%7D%0A%20%20%20%20%20%20%20%20%20%20%20%20%29.addTo%28map_874b2bee8a364f7e8352c058521fd279%29%3B%0A%20%20%20%20%20%20%20%20%0A%20%20%20%20%0A%20%20%20%20%20%20%20%20%20%20%20%20var%20popup_d1c75979a7f742cf80c32fe6370c5bdb%20%3D%20L.popup%28%7BmaxWidth%3A%20%27100%25%27%0A%20%20%20%20%20%20%20%20%20%20%20%20%0A%20%20%20%20%20%20%20%20%20%20%20%20%7D%29%3B%0A%0A%20%20%20%20%20%20%20%20%20%20%20%20%0A%20%20%20%20%20%20%20%20%20%20%20%20%20%20%20%20var%20html_76022c5af55d4b2c878c738230dab9f0%20%3D%20%24%28%60%3Cdiv%20id%3D%22html_76022c5af55d4b2c878c738230dab9f0%22%20style%3D%22width%3A%20100.0%25%3B%20height%3A%20100.0%25%3B%22%3ENEW%20YORK-PRESBYTERIAN%20HOSPITAL%3C/div%3E%60%29%5B0%5D%3B%0A%20%20%20%20%20%20%20%20%20%20%20%20%20%20%20%20popup_d1c75979a7f742cf80c32fe6370c5bdb.setContent%28html_76022c5af55d4b2c878c738230dab9f0%29%3B%0A%20%20%20%20%20%20%20%20%20%20%20%20%0A%0A%20%20%20%20%20%20%20%20%20%20%20%20marker_014410d8c51e4c7d84e5ac3196e07b4e.bindPopup%28popup_d1c75979a7f742cf80c32fe6370c5bdb%29%0A%20%20%20%20%20%20%20%20%20%20%20%20%3B%0A%0A%20%20%20%20%20%20%20%20%20%20%20%20%0A%20%20%20%20%20%20%20%20%0A%20%20%20%20%0A%20%20%20%20%20%20%20%20var%20marker_d186e583024342ac840e118ca0054dbd%20%3D%20L.marker%28%0A%20%20%20%20%20%20%20%20%20%20%20%20%5B40.812957%2C%20-73.937376%5D%2C%0A%20%20%20%20%20%20%20%20%20%20%20%20%7B%0A%20%20%20%20%20%20%20%20%20%20%20%20%20%20%20%20icon%3A%20new%20L.Icon.Default%28%29%2C%0A%20%20%20%20%20%20%20%20%20%20%20%20%20%20%20%20%7D%0A%20%20%20%20%20%20%20%20%20%20%20%20%29.addTo%28map_874b2bee8a364f7e8352c058521fd279%29%3B%0A%20%20%20%20%20%20%20%20%0A%20%20%20%20%0A%20%20%20%20%20%20%20%20%20%20%20%20var%20popup_fe3f756d3053414ca0a98505d422b2dc%20%3D%20L.popup%28%7BmaxWidth%3A%20%27100%25%27%0A%20%20%20%20%20%20%20%20%20%20%20%20%0A%20%20%20%20%20%20%20%20%20%20%20%20%7D%29%3B%0A%0A%20%20%20%20%20%20%20%20%20%20%20%20%0A%20%20%20%20%20%20%20%20%20%20%20%20%20%20%20%20var%20html_a62616a9673a444c9472c3122dab7069%20%3D%20%24%28%60%3Cdiv%20id%3D%22html_a62616a9673a444c9472c3122dab7069%22%20style%3D%22width%3A%20100.0%25%3B%20height%3A%20100.0%25%3B%22%3EHARLEM%20HOSPITAL%20CENTER%3C/div%3E%60%29%5B0%5D%3B%0A%20%20%20%20%20%20%20%20%20%20%20%20%20%20%20%20popup_fe3f756d3053414ca0a98505d422b2dc.setContent%28html_a62616a9673a444c9472c3122dab7069%29%3B%0A%20%20%20%20%20%20%20%20%20%20%20%20%0A%0A%20%20%20%20%20%20%20%20%20%20%20%20marker_d186e583024342ac840e118ca0054dbd.bindPopup%28popup_fe3f756d3053414ca0a98505d422b2dc%29%0A%20%20%20%20%20%20%20%20%20%20%20%20%3B%0A%0A%20%20%20%20%20%20%20%20%20%20%20%20%0A%20%20%20%20%20%20%20%20%0A%20%20%20%20%0A%20%20%20%20%20%20%20%20var%20marker_01446c9e81e3430b86fdcf5369113bc3%20%3D%20L.marker%28%0A%20%20%20%20%20%20%20%20%20%20%20%20%5B40.649591%2C%20-73.934371%5D%2C%0A%20%20%20%20%20%20%20%20%20%20%20%20%7B%0A%20%20%20%20%20%20%20%20%20%20%20%20%20%20%20%20icon%3A%20new%20L.Icon.Default%28%29%2C%0A%20%20%20%20%20%20%20%20%20%20%20%20%20%20%20%20%7D%0A%20%20%20%20%20%20%20%20%20%20%20%20%29.addTo%28map_874b2bee8a364f7e8352c058521fd279%29%3B%0A%20%20%20%20%20%20%20%20%0A%20%20%20%20%0A%20%20%20%20%20%20%20%20%20%20%20%20var%20popup_e7403d8f9a984e7bbd90f3b98ba8a6fa%20%3D%20L.popup%28%7BmaxWidth%3A%20%27100%25%27%0A%20%20%20%20%20%20%20%20%20%20%20%20%0A%20%20%20%20%20%20%20%20%20%20%20%20%7D%29%3B%0A%0A%20%20%20%20%20%20%20%20%20%20%20%20%0A%20%20%20%20%20%20%20%20%20%20%20%20%20%20%20%20var%20html_834c172f9bc04efdaa1f079d97961e8a%20%3D%20%24%28%60%3Cdiv%20id%3D%22html_834c172f9bc04efdaa1f079d97961e8a%22%20style%3D%22width%3A%20100.0%25%3B%20height%3A%20100.0%25%3B%22%3EKINGS%20COUNTY%20HOSPITAL%20CENTER%3C/div%3E%60%29%5B0%5D%3B%0A%20%20%20%20%20%20%20%20%20%20%20%20%20%20%20%20popup_e7403d8f9a984e7bbd90f3b98ba8a6fa.setContent%28html_834c172f9bc04efdaa1f079d97961e8a%29%3B%0A%20%20%20%20%20%20%20%20%20%20%20%20%0A%0A%20%20%20%20%20%20%20%20%20%20%20%20marker_01446c9e81e3430b86fdcf5369113bc3.bindPopup%28popup_e7403d8f9a984e7bbd90f3b98ba8a6fa%29%0A%20%20%20%20%20%20%20%20%20%20%20%20%3B%0A%0A%20%20%20%20%20%20%20%20%20%20%20%20%0A%20%20%20%20%20%20%20%20%0A%20%20%20%20%0A%20%20%20%20%20%20%20%20var%20marker_ba5ebe7bf3654aefb847bb4feb3d8208%20%3D%20L.marker%28%0A%20%20%20%20%20%20%20%20%20%20%20%20%5B40.719389%2C%20-74.04646899999999%5D%2C%0A%20%20%20%20%20%20%20%20%20%20%20%20%7B%0A%20%20%20%20%20%20%20%20%20%20%20%20%20%20%20%20icon%3A%20new%20L.Icon.Default%28%29%2C%0A%20%20%20%20%20%20%20%20%20%20%20%20%20%20%20%20%7D%0A%20%20%20%20%20%20%20%20%20%20%20%20%29.addTo%28map_874b2bee8a364f7e8352c058521fd279%29%3B%0A%20%20%20%20%20%20%20%20%0A%20%20%20%20%0A%20%20%20%20%20%20%20%20%20%20%20%20var%20popup_1c178104f8f14f48bd5a93e019b3fdfe%20%3D%20L.popup%28%7BmaxWidth%3A%20%27100%25%27%0A%20%20%20%20%20%20%20%20%20%20%20%20%0A%20%20%20%20%20%20%20%20%20%20%20%20%7D%29%3B%0A%0A%20%20%20%20%20%20%20%20%20%20%20%20%0A%20%20%20%20%20%20%20%20%20%20%20%20%20%20%20%20var%20html_ba75145817c3467b94ba37b3eda32fa5%20%3D%20%24%28%60%3Cdiv%20id%3D%22html_ba75145817c3467b94ba37b3eda32fa5%22%20style%3D%22width%3A%20100.0%25%3B%20height%3A%20100.0%25%3B%22%3EJERSEY%20CITY%20MEDICAL%20CENTER%3C/div%3E%60%29%5B0%5D%3B%0A%20%20%20%20%20%20%20%20%20%20%20%20%20%20%20%20popup_1c178104f8f14f48bd5a93e019b3fdfe.setContent%28html_ba75145817c3467b94ba37b3eda32fa5%29%3B%0A%20%20%20%20%20%20%20%20%20%20%20%20%0A%0A%20%20%20%20%20%20%20%20%20%20%20%20marker_ba5ebe7bf3654aefb847bb4feb3d8208.bindPopup%28popup_1c178104f8f14f48bd5a93e019b3fdfe%29%0A%20%20%20%20%20%20%20%20%20%20%20%20%3B%0A%0A%20%20%20%20%20%20%20%20%20%20%20%20%0A%20%20%20%20%20%20%20%20%0A%20%20%20%20%0A%20%20%20%20%20%20%20%20%20%20%20%20var%20marker_cluster_4bd36429ef184999af0646581bd73679%20%3D%20L.markerClusterGroup%28%7B%7D%29%3B%0A%20%20%20%20%20%20%20%20%20%20%20%20map_874b2bee8a364f7e8352c058521fd279.addLayer%28marker_cluster_4bd36429ef184999af0646581bd73679%29%3B%0A%20%20%20%20%20%20%20%20%20%20%20%20%0A%20%20%20%20%0A%20%20%20%20%20%20%20%20var%20marker_f4dc38d078df4937a482216cb57760b3%20%3D%20L.marker%28%0A%20%20%20%20%20%20%20%20%20%20%20%20%5B40.632647999999996%2C%20-74.116148%5D%2C%0A%20%20%20%20%20%20%20%20%20%20%20%20%7B%0A%20%20%20%20%20%20%20%20%20%20%20%20%20%20%20%20icon%3A%20new%20L.Icon.Default%28%29%2C%0A%20%20%20%20%20%20%20%20%20%20%20%20%20%20%20%20%7D%0A%20%20%20%20%20%20%20%20%20%20%20%20%29.addTo%28marker_cluster_4bd36429ef184999af0646581bd73679%29%3B%0A%20%20%20%20%20%20%20%20%0A%20%20%20%20%0A%20%20%20%20%20%20%20%20%20%20%20%20var%20popup_43d027a06139459bb5d8c005755f70ca%20%3D%20L.popup%28%7BmaxWidth%3A%20%27100%25%27%0A%20%20%20%20%20%20%20%20%20%20%20%20%0A%20%20%20%20%20%20%20%20%20%20%20%20%7D%29%3B%0A%0A%20%20%20%20%20%20%20%20%20%20%20%20%0A%20%20%20%20%20%20%20%20%20%20%20%20%20%20%20%20var%20html_6de419934ca34f3a9a9d81a0a7e697ef%20%3D%20%24%28%60%3Cdiv%20id%3D%22html_6de419934ca34f3a9a9d81a0a7e697ef%22%20style%3D%22width%3A%20100.0%25%3B%20height%3A%20100.0%25%3B%22%3ERICHMOND%20UNIVERSITY%20MEDICAL%20CENTER%3C/div%3E%60%29%5B0%5D%3B%0A%20%20%20%20%20%20%20%20%20%20%20%20%20%20%20%20popup_43d027a06139459bb5d8c005755f70ca.setContent%28html_6de419934ca34f3a9a9d81a0a7e697ef%29%3B%0A%20%20%20%20%20%20%20%20%20%20%20%20%0A%0A%20%20%20%20%20%20%20%20%20%20%20%20marker_f4dc38d078df4937a482216cb57760b3.bindPopup%28popup_43d027a06139459bb5d8c005755f70ca%29%0A%20%20%20%20%20%20%20%20%20%20%20%20%3B%0A%0A%20%20%20%20%20%20%20%20%20%20%20%20%0A%20%20%20%20%20%20%20%20%0A%20%20%20%20%0A%20%20%20%20%20%20%20%20var%20marker_ce3caa4b61b84f9c9a6191f6841d0f2b%20%3D%20L.marker%28%0A%20%20%20%20%20%20%20%20%20%20%20%20%5B40.662688%2C%20-73.98674%5D%2C%0A%20%20%20%20%20%20%20%20%20%20%20%20%7B%0A%20%20%20%20%20%20%20%20%20%20%20%20%20%20%20%20icon%3A%20new%20L.Icon.Default%28%29%2C%0A%20%20%20%20%20%20%20%20%20%20%20%20%20%20%20%20%7D%0A%20%20%20%20%20%20%20%20%20%20%20%20%29.addTo%28marker_cluster_4bd36429ef184999af0646581bd73679%29%3B%0A%20%20%20%20%20%20%20%20%0A%20%20%20%20%0A%20%20%20%20%20%20%20%20%20%20%20%20var%20popup_506789c4e2354daf8af99276a3638fc5%20%3D%20L.popup%28%7BmaxWidth%3A%20%27100%25%27%0A%20%20%20%20%20%20%20%20%20%20%20%20%0A%20%20%20%20%20%20%20%20%20%20%20%20%7D%29%3B%0A%0A%20%20%20%20%20%20%20%20%20%20%20%20%0A%20%20%20%20%20%20%20%20%20%20%20%20%20%20%20%20var%20html_27b2add3ed8443788c54b96015c51f65%20%3D%20%24%28%60%3Cdiv%20id%3D%22html_27b2add3ed8443788c54b96015c51f65%22%20style%3D%22width%3A%20100.0%25%3B%20height%3A%20100.0%25%3B%22%3ENEW%20YORK-PRESBYTERIAN%20BROOKLYN%20METHODIST%20HOSPITAL%3C/div%3E%60%29%5B0%5D%3B%0A%20%20%20%20%20%20%20%20%20%20%20%20%20%20%20%20popup_506789c4e2354daf8af99276a3638fc5.setContent%28html_27b2add3ed8443788c54b96015c51f65%29%3B%0A%20%20%20%20%20%20%20%20%20%20%20%20%0A%0A%20%20%20%20%20%20%20%20%20%20%20%20marker_ce3caa4b61b84f9c9a6191f6841d0f2b.bindPopup%28popup_506789c4e2354daf8af99276a3638fc5%29%0A%20%20%20%20%20%20%20%20%20%20%20%20%3B%0A%0A%20%20%20%20%20%20%20%20%20%20%20%20%0A%20%20%20%20%20%20%20%20%0A%20%20%20%20%0A%20%20%20%20%20%20%20%20var%20marker_c86bf6cd8c1b465d886df21f4b0523ed%20%3D%20L.marker%28%0A%20%20%20%20%20%20%20%20%20%20%20%20%5B40.734924%2C%20-74.071875%5D%2C%0A%20%20%20%20%20%20%20%20%20%20%20%20%7B%0A%20%20%20%20%20%20%20%20%20%20%20%20%20%20%20%20icon%3A%20new%20L.Icon.Default%28%29%2C%0A%20%20%20%20%20%20%20%20%20%20%20%20%20%20%20%20%7D%0A%20%20%20%20%20%20%20%20%20%20%20%20%29.addTo%28marker_cluster_4bd36429ef184999af0646581bd73679%29%3B%0A%20%20%20%20%20%20%20%20%0A%20%20%20%20%0A%20%20%20%20%20%20%20%20%20%20%20%20var%20popup_63bb9527b1fb4871896eee7837ab7e25%20%3D%20L.popup%28%7BmaxWidth%3A%20%27100%25%27%0A%20%20%20%20%20%20%20%20%20%20%20%20%0A%20%20%20%20%20%20%20%20%20%20%20%20%7D%29%3B%0A%0A%20%20%20%20%20%20%20%20%20%20%20%20%0A%20%20%20%20%20%20%20%20%20%20%20%20%20%20%20%20var%20html_4993a8f461ab482b93e24c935e899300%20%3D%20%24%28%60%3Cdiv%20id%3D%22html_4993a8f461ab482b93e24c935e899300%22%20style%3D%22width%3A%20100.0%25%3B%20height%3A%20100.0%25%3B%22%3ECAREPOINT%20HEALTH-CHRIST%20HOSPITAL%3C/div%3E%60%29%5B0%5D%3B%0A%20%20%20%20%20%20%20%20%20%20%20%20%20%20%20%20popup_63bb9527b1fb4871896eee7837ab7e25.setContent%28html_4993a8f461ab482b93e24c935e899300%29%3B%0A%20%20%20%20%20%20%20%20%20%20%20%20%0A%0A%20%20%20%20%20%20%20%20%20%20%20%20marker_c86bf6cd8c1b465d886df21f4b0523ed.bindPopup%28popup_63bb9527b1fb4871896eee7837ab7e25%29%0A%20%20%20%20%20%20%20%20%20%20%20%20%3B%0A%0A%20%20%20%20%20%20%20%20%20%20%20%20%0A%20%20%20%20%20%20%20%20%0A%20%20%20%20%0A%20%20%20%20%20%20%20%20var%20marker_884bf33522b4423f96e87b3607cc001a%20%3D%20L.marker%28%0A%20%20%20%20%20%20%20%20%20%20%20%20%5B40.769258%2C%20-73.958751%5D%2C%0A%20%20%20%20%20%20%20%20%20%20%20%20%7B%0A%20%20%20%20%20%20%20%20%20%20%20%20%20%20%20%20icon%3A%20new%20L.Icon.Default%28%29%2C%0A%20%20%20%20%20%20%20%20%20%20%20%20%20%20%20%20%7D%0A%20%20%20%20%20%20%20%20%20%20%20%20%29.addTo%28marker_cluster_4bd36429ef184999af0646581bd73679%29%3B%0A%20%20%20%20%20%20%20%20%0A%20%20%20%20%0A%20%20%20%20%20%20%20%20%20%20%20%20var%20popup_d3959c761e1e42a2aa74089b6e98112b%20%3D%20L.popup%28%7BmaxWidth%3A%20%27100%25%27%0A%20%20%20%20%20%20%20%20%20%20%20%20%0A%20%20%20%20%20%20%20%20%20%20%20%20%7D%29%3B%0A%0A%20%20%20%20%20%20%20%20%20%20%20%20%0A%20%20%20%20%20%20%20%20%20%20%20%20%20%20%20%20var%20html_fe598c7bec924a50a458a672fb7cab25%20%3D%20%24%28%60%3Cdiv%20id%3D%22html_fe598c7bec924a50a458a672fb7cab25%22%20style%3D%22width%3A%20100.0%25%3B%20height%3A%20100.0%25%3B%22%3ELENOX%20HILL%20HOSPITAL%3C/div%3E%60%29%5B0%5D%3B%0A%20%20%20%20%20%20%20%20%20%20%20%20%20%20%20%20popup_d3959c761e1e42a2aa74089b6e98112b.setContent%28html_fe598c7bec924a50a458a672fb7cab25%29%3B%0A%20%20%20%20%20%20%20%20%20%20%20%20%0A%0A%20%20%20%20%20%20%20%20%20%20%20%20marker_884bf33522b4423f96e87b3607cc001a.bindPopup%28popup_d3959c761e1e42a2aa74089b6e98112b%29%0A%20%20%20%20%20%20%20%20%20%20%20%20%3B%0A%0A%20%20%20%20%20%20%20%20%20%20%20%20%0A%20%20%20%20%20%20%20%20%0A%20%20%20%20%0A%20%20%20%20%20%20%20%20var%20marker_c20f82f63f7948c696af3201c640acc7%20%3D%20L.marker%28%0A%20%20%20%20%20%20%20%20%20%20%20%20%5B40.745224%2C%20-73.978297%5D%2C%0A%20%20%20%20%20%20%20%20%20%20%20%20%7B%0A%20%20%20%20%20%20%20%20%20%20%20%20%20%20%20%20icon%3A%20new%20L.Icon.Default%28%29%2C%0A%20%20%20%20%20%20%20%20%20%20%20%20%20%20%20%20%7D%0A%20%20%20%20%20%20%20%20%20%20%20%20%29.addTo%28marker_cluster_4bd36429ef184999af0646581bd73679%29%3B%0A%20%20%20%20%20%20%20%20%0A%20%20%20%20%0A%20%20%20%20%20%20%20%20%20%20%20%20var%20popup_bf6570630c52418c90ddbfd581e6829d%20%3D%20L.popup%28%7BmaxWidth%3A%20%27100%25%27%0A%20%20%20%20%20%20%20%20%20%20%20%20%0A%20%20%20%20%20%20%20%20%20%20%20%20%7D%29%3B%0A%0A%20%20%20%20%20%20%20%20%20%20%20%20%0A%20%20%20%20%20%20%20%20%20%20%20%20%20%20%20%20var%20html_652645255e8e46319d7c263bee34ee1d%20%3D%20%24%28%60%3Cdiv%20id%3D%22html_652645255e8e46319d7c263bee34ee1d%22%20style%3D%22width%3A%20100.0%25%3B%20height%3A%20100.0%25%3B%22%3EBELLEVUE%20HOSPITAL%20CENTER%3C/div%3E%60%29%5B0%5D%3B%0A%20%20%20%20%20%20%20%20%20%20%20%20%20%20%20%20popup_bf6570630c52418c90ddbfd581e6829d.setContent%28html_652645255e8e46319d7c263bee34ee1d%29%3B%0A%20%20%20%20%20%20%20%20%20%20%20%20%0A%0A%20%20%20%20%20%20%20%20%20%20%20%20marker_c20f82f63f7948c696af3201c640acc7.bindPopup%28popup_bf6570630c52418c90ddbfd581e6829d%29%0A%20%20%20%20%20%20%20%20%20%20%20%20%3B%0A%0A%20%20%20%20%20%20%20%20%20%20%20%20%0A%20%20%20%20%20%20%20%20%0A%20%20%20%20%0A%20%20%20%20%20%20%20%20var%20marker_853c6ef06f574793ba6cec6033e6db00%20%3D%20L.marker%28%0A%20%20%20%20%20%20%20%20%20%20%20%20%5B40.709361%2C%20-74.209662%5D%2C%0A%20%20%20%20%20%20%20%20%20%20%20%20%7B%0A%20%20%20%20%20%20%20%20%20%20%20%20%20%20%20%20icon%3A%20new%20L.Icon.Default%28%29%2C%0A%20%20%20%20%20%20%20%20%20%20%20%20%20%20%20%20%7D%0A%20%20%20%20%20%20%20%20%20%20%20%20%29.addTo%28marker_cluster_4bd36429ef184999af0646581bd73679%29%3B%0A%20%20%20%20%20%20%20%20%0A%20%20%20%20%0A%20%20%20%20%20%20%20%20%20%20%20%20var%20popup_b1094bc7253e44e6b5d66fb3f2bcfeab%20%3D%20L.popup%28%7BmaxWidth%3A%20%27100%25%27%0A%20%20%20%20%20%20%20%20%20%20%20%20%0A%20%20%20%20%20%20%20%20%20%20%20%20%7D%29%3B%0A%0A%20%20%20%20%20%20%20%20%20%20%20%20%0A%20%20%20%20%20%20%20%20%20%20%20%20%20%20%20%20var%20html_c9bceeb380d8474e80a0f08585ef81fe%20%3D%20%24%28%60%3Cdiv%20id%3D%22html_c9bceeb380d8474e80a0f08585ef81fe%22%20style%3D%22width%3A%20100.0%25%3B%20height%3A%20100.0%25%3B%22%3ENEWARK%20BETH%20ISRAEL%20MEDICAL%20CENTER%3C/div%3E%60%29%5B0%5D%3B%0A%20%20%20%20%20%20%20%20%20%20%20%20%20%20%20%20popup_b1094bc7253e44e6b5d66fb3f2bcfeab.setContent%28html_c9bceeb380d8474e80a0f08585ef81fe%29%3B%0A%20%20%20%20%20%20%20%20%20%20%20%20%0A%0A%20%20%20%20%20%20%20%20%20%20%20%20marker_853c6ef06f574793ba6cec6033e6db00.bindPopup%28popup_b1094bc7253e44e6b5d66fb3f2bcfeab%29%0A%20%20%20%20%20%20%20%20%20%20%20%20%3B%0A%0A%20%20%20%20%20%20%20%20%20%20%20%20%0A%20%20%20%20%20%20%20%20%0A%20%20%20%20%0A%20%20%20%20%20%20%20%20var%20marker_6ba4a71f4bd24e44aa0fb27ba0811554%20%3D%20L.marker%28%0A%20%20%20%20%20%20%20%20%20%20%20%20%5B40.704159999999995%2C%20-73.921139%5D%2C%0A%20%20%20%20%20%20%20%20%20%20%20%20%7B%0A%20%20%20%20%20%20%20%20%20%20%20%20%20%20%20%20icon%3A%20new%20L.Icon.Default%28%29%2C%0A%20%20%20%20%20%20%20%20%20%20%20%20%20%20%20%20%7D%0A%20%20%20%20%20%20%20%20%20%20%20%20%29.addTo%28marker_cluster_4bd36429ef184999af0646581bd73679%29%3B%0A%20%20%20%20%20%20%20%20%0A%20%20%20%20%0A%20%20%20%20%20%20%20%20%20%20%20%20var%20popup_7abf16dce69043ba96e408bc03fc4d0b%20%3D%20L.popup%28%7BmaxWidth%3A%20%27100%25%27%0A%20%20%20%20%20%20%20%20%20%20%20%20%0A%20%20%20%20%20%20%20%20%20%20%20%20%7D%29%3B%0A%0A%20%20%20%20%20%20%20%20%20%20%20%20%0A%20%20%20%20%20%20%20%20%20%20%20%20%20%20%20%20var%20html_a5c328d718934fafbf8b3063ee7f3471%20%3D%20%24%28%60%3Cdiv%20id%3D%22html_a5c328d718934fafbf8b3063ee7f3471%22%20style%3D%22width%3A%20100.0%25%3B%20height%3A%20100.0%25%3B%22%3EWYCKOFF%20HEIGHTS%20MEDICAL%20CENTER%3C/div%3E%60%29%5B0%5D%3B%0A%20%20%20%20%20%20%20%20%20%20%20%20%20%20%20%20popup_7abf16dce69043ba96e408bc03fc4d0b.setContent%28html_a5c328d718934fafbf8b3063ee7f3471%29%3B%0A%20%20%20%20%20%20%20%20%20%20%20%20%0A%0A%20%20%20%20%20%20%20%20%20%20%20%20marker_6ba4a71f4bd24e44aa0fb27ba0811554.bindPopup%28popup_7abf16dce69043ba96e408bc03fc4d0b%29%0A%20%20%20%20%20%20%20%20%20%20%20%20%3B%0A%0A%20%20%20%20%20%20%20%20%20%20%20%20%0A%20%20%20%20%20%20%20%20%0A%20%20%20%20%0A%20%20%20%20%20%20%20%20var%20marker_fc2d067c056f4e9485844cd67c76b508%20%3D%20L.marker%28%0A%20%20%20%20%20%20%20%20%20%20%20%20%5B40.745224%2C%20-73.978297%5D%2C%0A%20%20%20%20%20%20%20%20%20%20%20%20%7B%0A%20%20%20%20%20%20%20%20%20%20%20%20%20%20%20%20icon%3A%20new%20L.Icon.Default%28%29%2C%0A%20%20%20%20%20%20%20%20%20%20%20%20%20%20%20%20%7D%0A%20%20%20%20%20%20%20%20%20%20%20%20%29.addTo%28marker_cluster_4bd36429ef184999af0646581bd73679%29%3B%0A%20%20%20%20%20%20%20%20%0A%20%20%20%20%0A%20%20%20%20%20%20%20%20%20%20%20%20var%20popup_f79e59bf602048aab375dc3731864b2f%20%3D%20L.popup%28%7BmaxWidth%3A%20%27100%25%27%0A%20%20%20%20%20%20%20%20%20%20%20%20%0A%20%20%20%20%20%20%20%20%20%20%20%20%7D%29%3B%0A%0A%20%20%20%20%20%20%20%20%20%20%20%20%0A%20%20%20%20%20%20%20%20%20%20%20%20%20%20%20%20var%20html_28093ff20fe24c499b51de0427b5a859%20%3D%20%24%28%60%3Cdiv%20id%3D%22html_28093ff20fe24c499b51de0427b5a859%22%20style%3D%22width%3A%20100.0%25%3B%20height%3A%20100.0%25%3B%22%3ENYU%20LANGONE%20HOSPITALS%3C/div%3E%60%29%5B0%5D%3B%0A%20%20%20%20%20%20%20%20%20%20%20%20%20%20%20%20popup_f79e59bf602048aab375dc3731864b2f.setContent%28html_28093ff20fe24c499b51de0427b5a859%29%3B%0A%20%20%20%20%20%20%20%20%20%20%20%20%0A%0A%20%20%20%20%20%20%20%20%20%20%20%20marker_fc2d067c056f4e9485844cd67c76b508.bindPopup%28popup_f79e59bf602048aab375dc3731864b2f%29%0A%20%20%20%20%20%20%20%20%20%20%20%20%3B%0A%0A%20%20%20%20%20%20%20%20%20%20%20%20%0A%20%20%20%20%20%20%20%20%0A%20%20%20%20%0A%20%20%20%20%20%20%20%20var%20marker_7828eda0b9a54a43b866c560cb4f6c66%20%3D%20L.marker%28%0A%20%20%20%20%20%20%20%20%20%20%20%20%5B40.764612%2C%20-73.963122%5D%2C%0A%20%20%20%20%20%20%20%20%20%20%20%20%7B%0A%20%20%20%20%20%20%20%20%20%20%20%20%20%20%20%20icon%3A%20new%20L.Icon.Default%28%29%2C%0A%20%20%20%20%20%20%20%20%20%20%20%20%20%20%20%20%7D%0A%20%20%20%20%20%20%20%20%20%20%20%20%29.addTo%28marker_cluster_4bd36429ef184999af0646581bd73679%29%3B%0A%20%20%20%20%20%20%20%20%0A%20%20%20%20%0A%20%20%20%20%20%20%20%20%20%20%20%20var%20popup_17028582196e48878725736c8954d8d7%20%3D%20L.popup%28%7BmaxWidth%3A%20%27100%25%27%0A%20%20%20%20%20%20%20%20%20%20%20%20%0A%20%20%20%20%20%20%20%20%20%20%20%20%7D%29%3B%0A%0A%20%20%20%20%20%20%20%20%20%20%20%20%0A%20%20%20%20%20%20%20%20%20%20%20%20%20%20%20%20var%20html_4f85b1a190424e9a93ca0cbd80cb9350%20%3D%20%24%28%60%3Cdiv%20id%3D%22html_4f85b1a190424e9a93ca0cbd80cb9350%22%20style%3D%22width%3A%20100.0%25%3B%20height%3A%20100.0%25%3B%22%3ENEW%20YORK-PRESBYTERIAN%20HOSPITAL%3C/div%3E%60%29%5B0%5D%3B%0A%20%20%20%20%20%20%20%20%20%20%20%20%20%20%20%20popup_17028582196e48878725736c8954d8d7.setContent%28html_4f85b1a190424e9a93ca0cbd80cb9350%29%3B%0A%20%20%20%20%20%20%20%20%20%20%20%20%0A%0A%20%20%20%20%20%20%20%20%20%20%20%20marker_7828eda0b9a54a43b866c560cb4f6c66.bindPopup%28popup_17028582196e48878725736c8954d8d7%29%0A%20%20%20%20%20%20%20%20%20%20%20%20%3B%0A%0A%20%20%20%20%20%20%20%20%20%20%20%20%0A%20%20%20%20%20%20%20%20%0A%20%20%20%20%0A%20%20%20%20%20%20%20%20var%20marker_dab138b1377141b5987412076f3e3aab%20%3D%20L.marker%28%0A%20%20%20%20%20%20%20%20%20%20%20%20%5B40.812957%2C%20-73.937376%5D%2C%0A%20%20%20%20%20%20%20%20%20%20%20%20%7B%0A%20%20%20%20%20%20%20%20%20%20%20%20%20%20%20%20icon%3A%20new%20L.Icon.Default%28%29%2C%0A%20%20%20%20%20%20%20%20%20%20%20%20%20%20%20%20%7D%0A%20%20%20%20%20%20%20%20%20%20%20%20%29.addTo%28marker_cluster_4bd36429ef184999af0646581bd73679%29%3B%0A%20%20%20%20%20%20%20%20%0A%20%20%20%20%0A%20%20%20%20%20%20%20%20%20%20%20%20var%20popup_56afccac14f541049aeaab3eaf0a053e%20%3D%20L.popup%28%7BmaxWidth%3A%20%27100%25%27%0A%20%20%20%20%20%20%20%20%20%20%20%20%0A%20%20%20%20%20%20%20%20%20%20%20%20%7D%29%3B%0A%0A%20%20%20%20%20%20%20%20%20%20%20%20%0A%20%20%20%20%20%20%20%20%20%20%20%20%20%20%20%20var%20html_78a83c6ac3b74058b4244875b4cda337%20%3D%20%24%28%60%3Cdiv%20id%3D%22html_78a83c6ac3b74058b4244875b4cda337%22%20style%3D%22width%3A%20100.0%25%3B%20height%3A%20100.0%25%3B%22%3EHARLEM%20HOSPITAL%20CENTER%3C/div%3E%60%29%5B0%5D%3B%0A%20%20%20%20%20%20%20%20%20%20%20%20%20%20%20%20popup_56afccac14f541049aeaab3eaf0a053e.setContent%28html_78a83c6ac3b74058b4244875b4cda337%29%3B%0A%20%20%20%20%20%20%20%20%20%20%20%20%0A%0A%20%20%20%20%20%20%20%20%20%20%20%20marker_dab138b1377141b5987412076f3e3aab.bindPopup%28popup_56afccac14f541049aeaab3eaf0a053e%29%0A%20%20%20%20%20%20%20%20%20%20%20%20%3B%0A%0A%20%20%20%20%20%20%20%20%20%20%20%20%0A%20%20%20%20%20%20%20%20%0A%20%20%20%20%0A%20%20%20%20%20%20%20%20var%20marker_e83f40423bb4468e854fb8eaa19058e2%20%3D%20L.marker%28%0A%20%20%20%20%20%20%20%20%20%20%20%20%5B40.649591%2C%20-73.934371%5D%2C%0A%20%20%20%20%20%20%20%20%20%20%20%20%7B%0A%20%20%20%20%20%20%20%20%20%20%20%20%20%20%20%20icon%3A%20new%20L.Icon.Default%28%29%2C%0A%20%20%20%20%20%20%20%20%20%20%20%20%20%20%20%20%7D%0A%20%20%20%20%20%20%20%20%20%20%20%20%29.addTo%28marker_cluster_4bd36429ef184999af0646581bd73679%29%3B%0A%20%20%20%20%20%20%20%20%0A%20%20%20%20%0A%20%20%20%20%20%20%20%20%20%20%20%20var%20popup_61f28db6c91d469abf0d7972f626d9b5%20%3D%20L.popup%28%7BmaxWidth%3A%20%27100%25%27%0A%20%20%20%20%20%20%20%20%20%20%20%20%0A%20%20%20%20%20%20%20%20%20%20%20%20%7D%29%3B%0A%0A%20%20%20%20%20%20%20%20%20%20%20%20%0A%20%20%20%20%20%20%20%20%20%20%20%20%20%20%20%20var%20html_2cb15b48b21248a6a034a0ac74b72659%20%3D%20%24%28%60%3Cdiv%20id%3D%22html_2cb15b48b21248a6a034a0ac74b72659%22%20style%3D%22width%3A%20100.0%25%3B%20height%3A%20100.0%25%3B%22%3EKINGS%20COUNTY%20HOSPITAL%20CENTER%3C/div%3E%60%29%5B0%5D%3B%0A%20%20%20%20%20%20%20%20%20%20%20%20%20%20%20%20popup_61f28db6c91d469abf0d7972f626d9b5.setContent%28html_2cb15b48b21248a6a034a0ac74b72659%29%3B%0A%20%20%20%20%20%20%20%20%20%20%20%20%0A%0A%20%20%20%20%20%20%20%20%20%20%20%20marker_e83f40423bb4468e854fb8eaa19058e2.bindPopup%28popup_61f28db6c91d469abf0d7972f626d9b5%29%0A%20%20%20%20%20%20%20%20%20%20%20%20%3B%0A%0A%20%20%20%20%20%20%20%20%20%20%20%20%0A%20%20%20%20%20%20%20%20%0A%20%20%20%20%0A%20%20%20%20%20%20%20%20var%20marker_8df4106b9e654ef7b2c2c65e9c63e926%20%3D%20L.marker%28%0A%20%20%20%20%20%20%20%20%20%20%20%20%5B40.719389%2C%20-74.04646899999999%5D%2C%0A%20%20%20%20%20%20%20%20%20%20%20%20%7B%0A%20%20%20%20%20%20%20%20%20%20%20%20%20%20%20%20icon%3A%20new%20L.Icon.Default%28%29%2C%0A%20%20%20%20%20%20%20%20%20%20%20%20%20%20%20%20%7D%0A%20%20%20%20%20%20%20%20%20%20%20%20%29.addTo%28marker_cluster_4bd36429ef184999af0646581bd73679%29%3B%0A%20%20%20%20%20%20%20%20%0A%20%20%20%20%0A%20%20%20%20%20%20%20%20%20%20%20%20var%20popup_76f851cf0ad142d3903d534e549167f7%20%3D%20L.popup%28%7BmaxWidth%3A%20%27100%25%27%0A%20%20%20%20%20%20%20%20%20%20%20%20%0A%20%20%20%20%20%20%20%20%20%20%20%20%7D%29%3B%0A%0A%20%20%20%20%20%20%20%20%20%20%20%20%0A%20%20%20%20%20%20%20%20%20%20%20%20%20%20%20%20var%20html_7b7c510738984f25b0c15209f7852a71%20%3D%20%24%28%60%3Cdiv%20id%3D%22html_7b7c510738984f25b0c15209f7852a71%22%20style%3D%22width%3A%20100.0%25%3B%20height%3A%20100.0%25%3B%22%3EJERSEY%20CITY%20MEDICAL%20CENTER%3C/div%3E%60%29%5B0%5D%3B%0A%20%20%20%20%20%20%20%20%20%20%20%20%20%20%20%20popup_76f851cf0ad142d3903d534e549167f7.setContent%28html_7b7c510738984f25b0c15209f7852a71%29%3B%0A%20%20%20%20%20%20%20%20%20%20%20%20%0A%0A%20%20%20%20%20%20%20%20%20%20%20%20marker_8df4106b9e654ef7b2c2c65e9c63e926.bindPopup%28popup_76f851cf0ad142d3903d534e549167f7%29%0A%20%20%20%20%20%20%20%20%20%20%20%20%3B%0A%0A%20%20%20%20%20%20%20%20%20%20%20%20%0A%20%20%20%20%20%20%20%20%0A%3C/script%3E onload=\"this.contentDocument.open();this.contentDocument.write(    decodeURIComponent(this.getAttribute('data-html')));this.contentDocument.close();\" allowfullscreen webkitallowfullscreen mozallowfullscreen></iframe></div></div>\n"
          ]
        }
      ],
      "metadata": {
        "colab": {
          "base_uri": "https://localhost:8080/"
        },
        "id": "OkpMaEASBpab",
        "outputId": "87ac948f-4391-4b81-9eb3-271615945cfa"
      }
    }
  ]
}