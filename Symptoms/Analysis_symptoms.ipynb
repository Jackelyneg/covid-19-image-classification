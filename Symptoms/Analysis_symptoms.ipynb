{
 "cells": [
  {
   "cell_type": "code",
   "execution_count": 1,
   "metadata": {},
   "outputs": [
    {
     "name": "stderr",
     "output_type": "stream",
     "text": [
      "C:\\Users\\jacke\\Downloads\\Anaconda\\lib\\site-packages\\sklearn\\utils\\deprecation.py:144: FutureWarning: The sklearn.metrics.scorer module is  deprecated in version 0.22 and will be removed in version 0.24. The corresponding classes / functions should instead be imported from sklearn.metrics. Anything that cannot be imported from sklearn.metrics is now part of the private API.\n",
      "  warnings.warn(message, FutureWarning)\n",
      "C:\\Users\\jacke\\Downloads\\Anaconda\\lib\\site-packages\\sklearn\\utils\\deprecation.py:144: FutureWarning: The sklearn.feature_selection.base module is  deprecated in version 0.22 and will be removed in version 0.24. The corresponding classes / functions should instead be imported from sklearn.feature_selection. Anything that cannot be imported from sklearn.feature_selection is now part of the private API.\n",
      "  warnings.warn(message, FutureWarning)\n",
      "Using TensorFlow backend.\n"
     ]
    }
   ],
   "source": [
    "import matplotlib.pyplot as plt\n",
    "from sklearn.neighbors import KNeighborsClassifier\n",
    "from sklearn.ensemble import RandomForestClassifier\n",
    "from sklearn.linear_model import LogisticRegression\n",
    "from sklearn.tree import DecisionTreeClassifier\n",
    "from sklearn.model_selection import GridSearchCV\n",
    "from sklearn.feature_selection import SelectFromModel\n",
    "from sklearn.metrics import confusion_matrix, classification_report\n",
    "from sklearn.metrics import accuracy_score, auc, recall_score, precision_score, roc_curve\n",
    "from eli5.sklearn import PermutationImportance\n",
    "from sklearn.model_selection import cross_val_score\n",
    "from sklearn.model_selection import train_test_split\n",
    "from sklearn.metrics import roc_auc_score\n",
    "from sklearn.metrics import roc_auc_score\n",
    "from sklearn.metrics import roc_curve\n",
    "from sklearn.metrics import accuracy_score\n",
    "from sklearn import metrics\n",
    "import pandas as pd\n",
    "import numpy as np\n",
    "import seaborn as sns\n",
    "import eli5\n",
    "import os\n",
    "\n",
    "\n",
    "from sklearn.cluster import KMeans\n",
    "from pathlib import Path\n",
    "import matplotlib.pyplot as plt\n",
    "\n",
    "from sklearn.manifold import TSNE\n",
    "pd.set_option(\"display.max_rows\", None, \"display.max_columns\", None)"
   ]
  },
  {
   "cell_type": "code",
   "execution_count": 4,
   "metadata": {},
   "outputs": [],
   "source": [
    "df = pd.read_csv(os.path.join(\"Covid_Dataset.csv\"))"
   ]
  },
  {
   "cell_type": "code",
   "execution_count": 5,
   "metadata": {},
   "outputs": [],
   "source": [
    "covid_df=df.drop(['Abroad travel', 'Contact with COVID Patient', 'Attended Large Gathering', 'Visited Public Exposed Places', 'Family working in Public Exposed Places', 'Wearing Masks', 'Sanitization from Market'], axis=1)"
   ]
  },
  {
   "cell_type": "code",
   "execution_count": 6,
   "metadata": {},
   "outputs": [
    {
     "data": {
      "text/html": [
       "<div>\n",
       "<style scoped>\n",
       "    .dataframe tbody tr th:only-of-type {\n",
       "        vertical-align: middle;\n",
       "    }\n",
       "\n",
       "    .dataframe tbody tr th {\n",
       "        vertical-align: top;\n",
       "    }\n",
       "\n",
       "    .dataframe thead th {\n",
       "        text-align: right;\n",
       "    }\n",
       "</style>\n",
       "<table border=\"1\" class=\"dataframe\">\n",
       "  <thead>\n",
       "    <tr style=\"text-align: right;\">\n",
       "      <th></th>\n",
       "      <th>Breathing Problem</th>\n",
       "      <th>Fever</th>\n",
       "      <th>Dry Cough</th>\n",
       "      <th>Sore throat</th>\n",
       "      <th>Running Nose</th>\n",
       "      <th>Asthma</th>\n",
       "      <th>Chronic Lung Disease</th>\n",
       "      <th>Headache</th>\n",
       "      <th>Heart Disease</th>\n",
       "      <th>Diabetes</th>\n",
       "      <th>Hyper Tension</th>\n",
       "      <th>Fatigue</th>\n",
       "      <th>Gastrointestinal</th>\n",
       "      <th>COVID-19</th>\n",
       "    </tr>\n",
       "  </thead>\n",
       "  <tbody>\n",
       "    <tr>\n",
       "      <td>count</td>\n",
       "      <td>5434</td>\n",
       "      <td>5434</td>\n",
       "      <td>5434</td>\n",
       "      <td>5434</td>\n",
       "      <td>5434</td>\n",
       "      <td>5434</td>\n",
       "      <td>5434</td>\n",
       "      <td>5434</td>\n",
       "      <td>5434</td>\n",
       "      <td>5434</td>\n",
       "      <td>5434</td>\n",
       "      <td>5434</td>\n",
       "      <td>5434</td>\n",
       "      <td>5434</td>\n",
       "    </tr>\n",
       "    <tr>\n",
       "      <td>unique</td>\n",
       "      <td>2</td>\n",
       "      <td>2</td>\n",
       "      <td>2</td>\n",
       "      <td>2</td>\n",
       "      <td>2</td>\n",
       "      <td>2</td>\n",
       "      <td>2</td>\n",
       "      <td>2</td>\n",
       "      <td>2</td>\n",
       "      <td>2</td>\n",
       "      <td>2</td>\n",
       "      <td>2</td>\n",
       "      <td>2</td>\n",
       "      <td>2</td>\n",
       "    </tr>\n",
       "    <tr>\n",
       "      <td>top</td>\n",
       "      <td>Yes</td>\n",
       "      <td>Yes</td>\n",
       "      <td>Yes</td>\n",
       "      <td>Yes</td>\n",
       "      <td>Yes</td>\n",
       "      <td>No</td>\n",
       "      <td>No</td>\n",
       "      <td>Yes</td>\n",
       "      <td>No</td>\n",
       "      <td>No</td>\n",
       "      <td>No</td>\n",
       "      <td>Yes</td>\n",
       "      <td>No</td>\n",
       "      <td>Yes</td>\n",
       "    </tr>\n",
       "    <tr>\n",
       "      <td>freq</td>\n",
       "      <td>3620</td>\n",
       "      <td>4273</td>\n",
       "      <td>4307</td>\n",
       "      <td>3953</td>\n",
       "      <td>2952</td>\n",
       "      <td>2920</td>\n",
       "      <td>2869</td>\n",
       "      <td>2736</td>\n",
       "      <td>2911</td>\n",
       "      <td>2846</td>\n",
       "      <td>2771</td>\n",
       "      <td>2821</td>\n",
       "      <td>2883</td>\n",
       "      <td>4383</td>\n",
       "    </tr>\n",
       "  </tbody>\n",
       "</table>\n",
       "</div>"
      ],
      "text/plain": [
       "       Breathing Problem Fever Dry Cough Sore throat Running Nose Asthma  \\\n",
       "count               5434  5434      5434        5434         5434   5434   \n",
       "unique                 2     2         2           2            2      2   \n",
       "top                  Yes   Yes       Yes         Yes          Yes     No   \n",
       "freq                3620  4273      4307        3953         2952   2920   \n",
       "\n",
       "       Chronic Lung Disease Headache Heart Disease Diabetes Hyper Tension  \\\n",
       "count                  5434     5434          5434     5434          5434   \n",
       "unique                    2        2             2        2             2   \n",
       "top                      No      Yes            No       No            No   \n",
       "freq                   2869     2736          2911     2846          2771   \n",
       "\n",
       "       Fatigue  Gastrointestinal  COVID-19  \n",
       "count      5434              5434     5434  \n",
       "unique        2                 2        2  \n",
       "top         Yes                No      Yes  \n",
       "freq       2821              2883     4383  "
      ]
     },
     "execution_count": 6,
     "metadata": {},
     "output_type": "execute_result"
    }
   ],
   "source": [
    "covid_df.describe(include='all')"
   ]
  },
  {
   "cell_type": "code",
   "execution_count": 10,
   "metadata": {},
   "outputs": [
    {
     "data": {
      "text/plain": [
       "<AxesSubplot:xlabel='COVID-19', ylabel='count'>"
      ]
     },
     "execution_count": 10,
     "metadata": {},
     "output_type": "execute_result"
    },
    {
     "data": {
      "image/png": "[encoded data removed]",
      "text/plain": [
       "<Figure size 432x288 with 1 Axes>"
      ]
     },
     "metadata": {
      "needs_background": "light"
     },
     "output_type": "display_data"
    }
   ],
   "source": [
    "sns.countplot(x='COVID-19',data=covid_df)"
   ]
  },
  {
   "cell_type": "code",
   "execution_count": 11,
   "metadata": {},
   "outputs": [
    {
     "data": {
      "text/plain": [
       "Text(0.5, 1.0, 'number of cases')"
      ]
     },
     "execution_count": 11,
     "metadata": {},
     "output_type": "execute_result"
    },
    {
     "data": {
      "image/png": "[encoded data removed]",
      "text/plain": [
       "<Figure size 432x288 with 1 Axes>"
      ]
     },
     "metadata": {},
     "output_type": "display_data"
    }
   ],
   "source": [
    "covid_df[\"COVID-19\"].value_counts().plot.pie(explode=[0.1,0.1],autopct='%1.1f%%',shadow=True)\n",
    "plt.title('number of cases')"
   ]
  },
  {
   "cell_type": "code",
   "execution_count": 10,
   "metadata": {},
   "outputs": [],
   "source": [
    "covid_df.replace(('Yes', 'No'), (1, 0), inplace=True)"
   ]
  },
  {
   "cell_type": "code",
   "execution_count": 15,
   "metadata": {},
   "outputs": [
    {
     "data": {
      "text/plain": [
       "array([[<AxesSubplot:title={'center':'Breathing Problem'}>,\n",
       "        <AxesSubplot:title={'center':'Fever'}>,\n",
       "        <AxesSubplot:title={'center':'Dry Cough'}>,\n",
       "        <AxesSubplot:title={'center':'Sore throat'}>],\n",
       "       [<AxesSubplot:title={'center':'Running Nose'}>,\n",
       "        <AxesSubplot:title={'center':'Asthma'}>,\n",
       "        <AxesSubplot:title={'center':'Chronic Lung Disease'}>,\n",
       "        <AxesSubplot:title={'center':'Headache'}>],\n",
       "       [<AxesSubplot:title={'center':'Heart Disease'}>,\n",
       "        <AxesSubplot:title={'center':'Diabetes'}>,\n",
       "        <AxesSubplot:title={'center':'Hyper Tension'}>,\n",
       "        <AxesSubplot:title={'center':'Fatigue '}>],\n",
       "       [<AxesSubplot:title={'center':'Gastrointestinal '}>,\n",
       "        <AxesSubplot:title={'center':'COVID-19'}>, <AxesSubplot:>,\n",
       "        <AxesSubplot:>]], dtype=object)"
      ]
     },
     "execution_count": 15,
     "metadata": {},
     "output_type": "execute_result"
    },
    {
     "data": {
      "image/png": "[encoded data removed]",
      "text/plain": [
       "<Figure size 2160x2160 with 16 Axes>"
      ]
     },
     "metadata": {
      "needs_background": "light"
     },
     "output_type": "display_data"
    }
   ],
   "source": [
    "covid_df.hist(figsize=(30,30))"
   ]
  },
  {
   "cell_type": "code",
   "execution_count": 16,
   "metadata": {},
   "outputs": [
    {
     "data": {
      "text/html": [
       "<style  type=\"text/css\" >\n",
       "#T_4d8ef127_15cf_11ec_b595_548d5aef3c4brow0_col0,#T_4d8ef127_15cf_11ec_b595_548d5aef3c4brow1_col1,#T_4d8ef127_15cf_11ec_b595_548d5aef3c4brow2_col2,#T_4d8ef127_15cf_11ec_b595_548d5aef3c4brow3_col3,#T_4d8ef127_15cf_11ec_b595_548d5aef3c4brow4_col4,#T_4d8ef127_15cf_11ec_b595_548d5aef3c4brow5_col5,#T_4d8ef127_15cf_11ec_b595_548d5aef3c4brow6_col6,#T_4d8ef127_15cf_11ec_b595_548d5aef3c4brow7_col7,#T_4d8ef127_15cf_11ec_b595_548d5aef3c4brow8_col8,#T_4d8ef127_15cf_11ec_b595_548d5aef3c4brow9_col9,#T_4d8ef127_15cf_11ec_b595_548d5aef3c4brow10_col10,#T_4d8ef127_15cf_11ec_b595_548d5aef3c4brow11_col11,#T_4d8ef127_15cf_11ec_b595_548d5aef3c4brow12_col12,#T_4d8ef127_15cf_11ec_b595_548d5aef3c4brow13_col13{\n",
       "            background-color:  #b40426;\n",
       "            color:  #f1f1f1;\n",
       "        }#T_4d8ef127_15cf_11ec_b595_548d5aef3c4brow0_col1,#T_4d8ef127_15cf_11ec_b595_548d5aef3c4brow1_col0,#T_4d8ef127_15cf_11ec_b595_548d5aef3c4brow5_col13,#T_4d8ef127_15cf_11ec_b595_548d5aef3c4brow13_col5{\n",
       "            background-color:  #8caffe;\n",
       "            color:  #000000;\n",
       "        }#T_4d8ef127_15cf_11ec_b595_548d5aef3c4brow0_col2,#T_4d8ef127_15cf_11ec_b595_548d5aef3c4brow2_col0{\n",
       "            background-color:  #9fbfff;\n",
       "            color:  #000000;\n",
       "        }#T_4d8ef127_15cf_11ec_b595_548d5aef3c4brow0_col3,#T_4d8ef127_15cf_11ec_b595_548d5aef3c4brow3_col0{\n",
       "            background-color:  #c7d7f0;\n",
       "            color:  #000000;\n",
       "        }#T_4d8ef127_15cf_11ec_b595_548d5aef3c4brow0_col4,#T_4d8ef127_15cf_11ec_b595_548d5aef3c4brow0_col9,#T_4d8ef127_15cf_11ec_b595_548d5aef3c4brow4_col0,#T_4d8ef127_15cf_11ec_b595_548d5aef3c4brow7_col11,#T_4d8ef127_15cf_11ec_b595_548d5aef3c4brow9_col0,#T_4d8ef127_15cf_11ec_b595_548d5aef3c4brow11_col7{\n",
       "            background-color:  #81a4fb;\n",
       "            color:  #000000;\n",
       "        }#T_4d8ef127_15cf_11ec_b595_548d5aef3c4brow0_col5,#T_4d8ef127_15cf_11ec_b595_548d5aef3c4brow1_col5,#T_4d8ef127_15cf_11ec_b595_548d5aef3c4brow5_col0,#T_4d8ef127_15cf_11ec_b595_548d5aef3c4brow5_col1{\n",
       "            background-color:  #86a9fc;\n",
       "            color:  #000000;\n",
       "        }#T_4d8ef127_15cf_11ec_b595_548d5aef3c4brow0_col6,#T_4d8ef127_15cf_11ec_b595_548d5aef3c4brow6_col0{\n",
       "            background-color:  #5673e0;\n",
       "            color:  #000000;\n",
       "        }#T_4d8ef127_15cf_11ec_b595_548d5aef3c4brow0_col7,#T_4d8ef127_15cf_11ec_b595_548d5aef3c4brow7_col0{\n",
       "            background-color:  #5f7fe8;\n",
       "            color:  #000000;\n",
       "        }#T_4d8ef127_15cf_11ec_b595_548d5aef3c4brow0_col8,#T_4d8ef127_15cf_11ec_b595_548d5aef3c4brow0_col12,#T_4d8ef127_15cf_11ec_b595_548d5aef3c4brow8_col0,#T_4d8ef127_15cf_11ec_b595_548d5aef3c4brow12_col0{\n",
       "            background-color:  #5d7ce6;\n",
       "            color:  #000000;\n",
       "        }#T_4d8ef127_15cf_11ec_b595_548d5aef3c4brow0_col10,#T_4d8ef127_15cf_11ec_b595_548d5aef3c4brow3_col10,#T_4d8ef127_15cf_11ec_b595_548d5aef3c4brow4_col9,#T_4d8ef127_15cf_11ec_b595_548d5aef3c4brow6_col9,#T_4d8ef127_15cf_11ec_b595_548d5aef3c4brow9_col4,#T_4d8ef127_15cf_11ec_b595_548d5aef3c4brow9_col6,#T_4d8ef127_15cf_11ec_b595_548d5aef3c4brow9_col10,#T_4d8ef127_15cf_11ec_b595_548d5aef3c4brow10_col0,#T_4d8ef127_15cf_11ec_b595_548d5aef3c4brow10_col3,#T_4d8ef127_15cf_11ec_b595_548d5aef3c4brow10_col9{\n",
       "            background-color:  #7ea1fa;\n",
       "            color:  #000000;\n",
       "        }#T_4d8ef127_15cf_11ec_b595_548d5aef3c4brow0_col11,#T_4d8ef127_15cf_11ec_b595_548d5aef3c4brow3_col8,#T_4d8ef127_15cf_11ec_b595_548d5aef3c4brow3_col9,#T_4d8ef127_15cf_11ec_b595_548d5aef3c4brow8_col3,#T_4d8ef127_15cf_11ec_b595_548d5aef3c4brow8_col12,#T_4d8ef127_15cf_11ec_b595_548d5aef3c4brow9_col3,#T_4d8ef127_15cf_11ec_b595_548d5aef3c4brow11_col0,#T_4d8ef127_15cf_11ec_b595_548d5aef3c4brow12_col8{\n",
       "            background-color:  #7295f4;\n",
       "            color:  #000000;\n",
       "        }#T_4d8ef127_15cf_11ec_b595_548d5aef3c4brow0_col13,#T_4d8ef127_15cf_11ec_b595_548d5aef3c4brow13_col0{\n",
       "            background-color:  #e7d7ce;\n",
       "            color:  #000000;\n",
       "        }#T_4d8ef127_15cf_11ec_b595_548d5aef3c4brow1_col2,#T_4d8ef127_15cf_11ec_b595_548d5aef3c4brow2_col1{\n",
       "            background-color:  #97b8ff;\n",
       "            color:  #000000;\n",
       "        }#T_4d8ef127_15cf_11ec_b595_548d5aef3c4brow1_col3,#T_4d8ef127_15cf_11ec_b595_548d5aef3c4brow3_col1{\n",
       "            background-color:  #ccd9ed;\n",
       "            color:  #000000;\n",
       "        }#T_4d8ef127_15cf_11ec_b595_548d5aef3c4brow1_col4,#T_4d8ef127_15cf_11ec_b595_548d5aef3c4brow2_col10,#T_4d8ef127_15cf_11ec_b595_548d5aef3c4brow3_col5,#T_4d8ef127_15cf_11ec_b595_548d5aef3c4brow4_col1,#T_4d8ef127_15cf_11ec_b595_548d5aef3c4brow5_col3,#T_4d8ef127_15cf_11ec_b595_548d5aef3c4brow10_col2{\n",
       "            background-color:  #89acfd;\n",
       "            color:  #000000;\n",
       "        }#T_4d8ef127_15cf_11ec_b595_548d5aef3c4brow1_col6,#T_4d8ef127_15cf_11ec_b595_548d5aef3c4brow6_col1,#T_4d8ef127_15cf_11ec_b595_548d5aef3c4brow7_col13,#T_4d8ef127_15cf_11ec_b595_548d5aef3c4brow10_col11,#T_4d8ef127_15cf_11ec_b595_548d5aef3c4brow11_col10,#T_4d8ef127_15cf_11ec_b595_548d5aef3c4brow13_col7{\n",
       "            background-color:  #6a8bef;\n",
       "            color:  #000000;\n",
       "        }#T_4d8ef127_15cf_11ec_b595_548d5aef3c4brow1_col7,#T_4d8ef127_15cf_11ec_b595_548d5aef3c4brow2_col7,#T_4d8ef127_15cf_11ec_b595_548d5aef3c4brow5_col6,#T_4d8ef127_15cf_11ec_b595_548d5aef3c4brow6_col5,#T_4d8ef127_15cf_11ec_b595_548d5aef3c4brow7_col1,#T_4d8ef127_15cf_11ec_b595_548d5aef3c4brow7_col2{\n",
       "            background-color:  #6788ee;\n",
       "            color:  #000000;\n",
       "        }#T_4d8ef127_15cf_11ec_b595_548d5aef3c4brow1_col8,#T_4d8ef127_15cf_11ec_b595_548d5aef3c4brow2_col4,#T_4d8ef127_15cf_11ec_b595_548d5aef3c4brow4_col2,#T_4d8ef127_15cf_11ec_b595_548d5aef3c4brow8_col1,#T_4d8ef127_15cf_11ec_b595_548d5aef3c4brow8_col9,#T_4d8ef127_15cf_11ec_b595_548d5aef3c4brow9_col8{\n",
       "            background-color:  #688aef;\n",
       "            color:  #000000;\n",
       "        }#T_4d8ef127_15cf_11ec_b595_548d5aef3c4brow1_col9,#T_4d8ef127_15cf_11ec_b595_548d5aef3c4brow2_col8,#T_4d8ef127_15cf_11ec_b595_548d5aef3c4brow7_col8,#T_4d8ef127_15cf_11ec_b595_548d5aef3c4brow8_col2,#T_4d8ef127_15cf_11ec_b595_548d5aef3c4brow8_col7,#T_4d8ef127_15cf_11ec_b595_548d5aef3c4brow8_col10,#T_4d8ef127_15cf_11ec_b595_548d5aef3c4brow9_col1,#T_4d8ef127_15cf_11ec_b595_548d5aef3c4brow10_col8{\n",
       "            background-color:  #80a3fa;\n",
       "            color:  #000000;\n",
       "        }#T_4d8ef127_15cf_11ec_b595_548d5aef3c4brow1_col10,#T_4d8ef127_15cf_11ec_b595_548d5aef3c4brow5_col8,#T_4d8ef127_15cf_11ec_b595_548d5aef3c4brow8_col5,#T_4d8ef127_15cf_11ec_b595_548d5aef3c4brow10_col1{\n",
       "            background-color:  #88abfd;\n",
       "            color:  #000000;\n",
       "        }#T_4d8ef127_15cf_11ec_b595_548d5aef3c4brow1_col11,#T_4d8ef127_15cf_11ec_b595_548d5aef3c4brow4_col8,#T_4d8ef127_15cf_11ec_b595_548d5aef3c4brow6_col13,#T_4d8ef127_15cf_11ec_b595_548d5aef3c4brow8_col4,#T_4d8ef127_15cf_11ec_b595_548d5aef3c4brow8_col11,#T_4d8ef127_15cf_11ec_b595_548d5aef3c4brow11_col1,#T_4d8ef127_15cf_11ec_b595_548d5aef3c4brow11_col8,#T_4d8ef127_15cf_11ec_b595_548d5aef3c4brow13_col6{\n",
       "            background-color:  #6180e9;\n",
       "            color:  #000000;\n",
       "        }#T_4d8ef127_15cf_11ec_b595_548d5aef3c4brow1_col12,#T_4d8ef127_15cf_11ec_b595_548d5aef3c4brow2_col9,#T_4d8ef127_15cf_11ec_b595_548d5aef3c4brow4_col13,#T_4d8ef127_15cf_11ec_b595_548d5aef3c4brow9_col2,#T_4d8ef127_15cf_11ec_b595_548d5aef3c4brow12_col1,#T_4d8ef127_15cf_11ec_b595_548d5aef3c4brow13_col4{\n",
       "            background-color:  #6f92f3;\n",
       "            color:  #000000;\n",
       "        }#T_4d8ef127_15cf_11ec_b595_548d5aef3c4brow1_col13,#T_4d8ef127_15cf_11ec_b595_548d5aef3c4brow13_col1{\n",
       "            background-color:  #d3dbe7;\n",
       "            color:  #000000;\n",
       "        }#T_4d8ef127_15cf_11ec_b595_548d5aef3c4brow2_col3,#T_4d8ef127_15cf_11ec_b595_548d5aef3c4brow3_col2{\n",
       "            background-color:  #afcafc;\n",
       "            color:  #000000;\n",
       "        }#T_4d8ef127_15cf_11ec_b595_548d5aef3c4brow2_col5,#T_4d8ef127_15cf_11ec_b595_548d5aef3c4brow5_col2{\n",
       "            background-color:  #8badfd;\n",
       "            color:  #000000;\n",
       "        }#T_4d8ef127_15cf_11ec_b595_548d5aef3c4brow2_col6,#T_4d8ef127_15cf_11ec_b595_548d5aef3c4brow6_col2,#T_4d8ef127_15cf_11ec_b595_548d5aef3c4brow9_col11,#T_4d8ef127_15cf_11ec_b595_548d5aef3c4brow11_col9,#T_4d8ef127_15cf_11ec_b595_548d5aef3c4brow11_col13,#T_4d8ef127_15cf_11ec_b595_548d5aef3c4brow13_col11{\n",
       "            background-color:  #6485ec;\n",
       "            color:  #000000;\n",
       "        }#T_4d8ef127_15cf_11ec_b595_548d5aef3c4brow2_col11,#T_4d8ef127_15cf_11ec_b595_548d5aef3c4brow6_col8,#T_4d8ef127_15cf_11ec_b595_548d5aef3c4brow8_col6,#T_4d8ef127_15cf_11ec_b595_548d5aef3c4brow11_col2{\n",
       "            background-color:  #6687ed;\n",
       "            color:  #000000;\n",
       "        }#T_4d8ef127_15cf_11ec_b595_548d5aef3c4brow2_col12,#T_4d8ef127_15cf_11ec_b595_548d5aef3c4brow4_col11,#T_4d8ef127_15cf_11ec_b595_548d5aef3c4brow5_col11,#T_4d8ef127_15cf_11ec_b595_548d5aef3c4brow11_col4,#T_4d8ef127_15cf_11ec_b595_548d5aef3c4brow11_col5,#T_4d8ef127_15cf_11ec_b595_548d5aef3c4brow11_col12,#T_4d8ef127_15cf_11ec_b595_548d5aef3c4brow12_col2,#T_4d8ef127_15cf_11ec_b595_548d5aef3c4brow12_col11{\n",
       "            background-color:  #7396f5;\n",
       "            color:  #000000;\n",
       "        }#T_4d8ef127_15cf_11ec_b595_548d5aef3c4brow2_col13,#T_4d8ef127_15cf_11ec_b595_548d5aef3c4brow13_col2{\n",
       "            background-color:  #ead4c8;\n",
       "            color:  #000000;\n",
       "        }#T_4d8ef127_15cf_11ec_b595_548d5aef3c4brow3_col4,#T_4d8ef127_15cf_11ec_b595_548d5aef3c4brow4_col3,#T_4d8ef127_15cf_11ec_b595_548d5aef3c4brow9_col12,#T_4d8ef127_15cf_11ec_b595_548d5aef3c4brow9_col13,#T_4d8ef127_15cf_11ec_b595_548d5aef3c4brow12_col9,#T_4d8ef127_15cf_11ec_b595_548d5aef3c4brow13_col9{\n",
       "            background-color:  #7da0f9;\n",
       "            color:  #000000;\n",
       "        }#T_4d8ef127_15cf_11ec_b595_548d5aef3c4brow3_col6,#T_4d8ef127_15cf_11ec_b595_548d5aef3c4brow6_col3,#T_4d8ef127_15cf_11ec_b595_548d5aef3c4brow6_col7,#T_4d8ef127_15cf_11ec_b595_548d5aef3c4brow6_col11,#T_4d8ef127_15cf_11ec_b595_548d5aef3c4brow6_col12,#T_4d8ef127_15cf_11ec_b595_548d5aef3c4brow7_col6,#T_4d8ef127_15cf_11ec_b595_548d5aef3c4brow11_col6,#T_4d8ef127_15cf_11ec_b595_548d5aef3c4brow12_col6{\n",
       "            background-color:  #6384eb;\n",
       "            color:  #000000;\n",
       "        }#T_4d8ef127_15cf_11ec_b595_548d5aef3c4brow3_col7,#T_4d8ef127_15cf_11ec_b595_548d5aef3c4brow4_col6,#T_4d8ef127_15cf_11ec_b595_548d5aef3c4brow4_col12,#T_4d8ef127_15cf_11ec_b595_548d5aef3c4brow6_col4,#T_4d8ef127_15cf_11ec_b595_548d5aef3c4brow7_col3,#T_4d8ef127_15cf_11ec_b595_548d5aef3c4brow12_col4{\n",
       "            background-color:  #6c8ff1;\n",
       "            color:  #000000;\n",
       "        }#T_4d8ef127_15cf_11ec_b595_548d5aef3c4brow3_col11,#T_4d8ef127_15cf_11ec_b595_548d5aef3c4brow4_col5,#T_4d8ef127_15cf_11ec_b595_548d5aef3c4brow4_col10,#T_4d8ef127_15cf_11ec_b595_548d5aef3c4brow5_col4,#T_4d8ef127_15cf_11ec_b595_548d5aef3c4brow10_col4,#T_4d8ef127_15cf_11ec_b595_548d5aef3c4brow11_col3{\n",
       "            background-color:  #6b8df0;\n",
       "            color:  #000000;\n",
       "        }#T_4d8ef127_15cf_11ec_b595_548d5aef3c4brow3_col12,#T_4d8ef127_15cf_11ec_b595_548d5aef3c4brow8_col13,#T_4d8ef127_15cf_11ec_b595_548d5aef3c4brow12_col3,#T_4d8ef127_15cf_11ec_b595_548d5aef3c4brow13_col8{\n",
       "            background-color:  #799cf8;\n",
       "            color:  #000000;\n",
       "        }#T_4d8ef127_15cf_11ec_b595_548d5aef3c4brow3_col13,#T_4d8ef127_15cf_11ec_b595_548d5aef3c4brow13_col3{\n",
       "            background-color:  #f0cdbb;\n",
       "            color:  #000000;\n",
       "        }#T_4d8ef127_15cf_11ec_b595_548d5aef3c4brow4_col7,#T_4d8ef127_15cf_11ec_b595_548d5aef3c4brow7_col4{\n",
       "            background-color:  #85a8fc;\n",
       "            color:  #000000;\n",
       "        }#T_4d8ef127_15cf_11ec_b595_548d5aef3c4brow5_col7,#T_4d8ef127_15cf_11ec_b595_548d5aef3c4brow7_col5{\n",
       "            background-color:  #7b9ff9;\n",
       "            color:  #000000;\n",
       "        }#T_4d8ef127_15cf_11ec_b595_548d5aef3c4brow5_col9,#T_4d8ef127_15cf_11ec_b595_548d5aef3c4brow6_col10,#T_4d8ef127_15cf_11ec_b595_548d5aef3c4brow9_col5,#T_4d8ef127_15cf_11ec_b595_548d5aef3c4brow10_col6{\n",
       "            background-color:  #6e90f2;\n",
       "            color:  #000000;\n",
       "        }#T_4d8ef127_15cf_11ec_b595_548d5aef3c4brow5_col10,#T_4d8ef127_15cf_11ec_b595_548d5aef3c4brow10_col5{\n",
       "            background-color:  #7699f6;\n",
       "            color:  #000000;\n",
       "        }#T_4d8ef127_15cf_11ec_b595_548d5aef3c4brow5_col12,#T_4d8ef127_15cf_11ec_b595_548d5aef3c4brow10_col13,#T_4d8ef127_15cf_11ec_b595_548d5aef3c4brow12_col5,#T_4d8ef127_15cf_11ec_b595_548d5aef3c4brow13_col10{\n",
       "            background-color:  #8fb1fe;\n",
       "            color:  #000000;\n",
       "        }#T_4d8ef127_15cf_11ec_b595_548d5aef3c4brow7_col9,#T_4d8ef127_15cf_11ec_b595_548d5aef3c4brow9_col7{\n",
       "            background-color:  #7a9df8;\n",
       "            color:  #000000;\n",
       "        }#T_4d8ef127_15cf_11ec_b595_548d5aef3c4brow7_col10,#T_4d8ef127_15cf_11ec_b595_548d5aef3c4brow10_col7{\n",
       "            background-color:  #3b4cc0;\n",
       "            color:  #f1f1f1;\n",
       "        }#T_4d8ef127_15cf_11ec_b595_548d5aef3c4brow7_col12,#T_4d8ef127_15cf_11ec_b595_548d5aef3c4brow12_col7{\n",
       "            background-color:  #8db0fe;\n",
       "            color:  #000000;\n",
       "        }#T_4d8ef127_15cf_11ec_b595_548d5aef3c4brow10_col12,#T_4d8ef127_15cf_11ec_b595_548d5aef3c4brow12_col10{\n",
       "            background-color:  #5e7de7;\n",
       "            color:  #000000;\n",
       "        }#T_4d8ef127_15cf_11ec_b595_548d5aef3c4brow12_col13,#T_4d8ef127_15cf_11ec_b595_548d5aef3c4brow13_col12{\n",
       "            background-color:  #7093f3;\n",
       "            color:  #000000;\n",
       "        }</style><table id=\"T_4d8ef127_15cf_11ec_b595_548d5aef3c4b\" ><thead>    <tr>        <th class=\"blank level0\" ></th>        <th class=\"col_heading level0 col0\" >Breathing Problem</th>        <th class=\"col_heading level0 col1\" >Fever</th>        <th class=\"col_heading level0 col2\" >Dry Cough</th>        <th class=\"col_heading level0 col3\" >Sore throat</th>        <th class=\"col_heading level0 col4\" >Running Nose</th>        <th class=\"col_heading level0 col5\" >Asthma</th>        <th class=\"col_heading level0 col6\" >Chronic Lung Disease</th>        <th class=\"col_heading level0 col7\" >Headache</th>        <th class=\"col_heading level0 col8\" >Heart Disease</th>        <th class=\"col_heading level0 col9\" >Diabetes</th>        <th class=\"col_heading level0 col10\" >Hyper Tension</th>        <th class=\"col_heading level0 col11\" >Fatigue </th>        <th class=\"col_heading level0 col12\" >Gastrointestinal </th>        <th class=\"col_heading level0 col13\" >COVID-19</th>    </tr></thead><tbody>\n",
       "                <tr>\n",
       "                        <th id=\"T_4d8ef127_15cf_11ec_b595_548d5aef3c4blevel0_row0\" class=\"row_heading level0 row0\" >Breathing Problem</th>\n",
       "                        <td id=\"T_4d8ef127_15cf_11ec_b595_548d5aef3c4brow0_col0\" class=\"data row0 col0\" >1.000000</td>\n",
       "                        <td id=\"T_4d8ef127_15cf_11ec_b595_548d5aef3c4brow0_col1\" class=\"data row0 col1\" >0.089903</td>\n",
       "                        <td id=\"T_4d8ef127_15cf_11ec_b595_548d5aef3c4brow0_col2\" class=\"data row0 col2\" >0.159562</td>\n",
       "                        <td id=\"T_4d8ef127_15cf_11ec_b595_548d5aef3c4brow0_col3\" class=\"data row0 col3\" >0.303768</td>\n",
       "                        <td id=\"T_4d8ef127_15cf_11ec_b595_548d5aef3c4brow0_col4\" class=\"data row0 col4\" >0.055190</td>\n",
       "                        <td id=\"T_4d8ef127_15cf_11ec_b595_548d5aef3c4brow0_col5\" class=\"data row0 col5\" >0.075318</td>\n",
       "                        <td id=\"T_4d8ef127_15cf_11ec_b595_548d5aef3c4brow0_col6\" class=\"data row0 col6\" >-0.098291</td>\n",
       "                        <td id=\"T_4d8ef127_15cf_11ec_b595_548d5aef3c4brow0_col7\" class=\"data row0 col7\" >-0.062172</td>\n",
       "                        <td id=\"T_4d8ef127_15cf_11ec_b595_548d5aef3c4brow0_col8\" class=\"data row0 col8\" >-0.073366</td>\n",
       "                        <td id=\"T_4d8ef127_15cf_11ec_b595_548d5aef3c4brow0_col9\" class=\"data row0 col9\" >0.055427</td>\n",
       "                        <td id=\"T_4d8ef127_15cf_11ec_b595_548d5aef3c4brow0_col10\" class=\"data row0 col10\" >0.045256</td>\n",
       "                        <td id=\"T_4d8ef127_15cf_11ec_b595_548d5aef3c4brow0_col11\" class=\"data row0 col11\" >0.000561</td>\n",
       "                        <td id=\"T_4d8ef127_15cf_11ec_b595_548d5aef3c4brow0_col12\" class=\"data row0 col12\" >-0.075390</td>\n",
       "                        <td id=\"T_4d8ef127_15cf_11ec_b595_548d5aef3c4brow0_col13\" class=\"data row0 col13\" >0.443764</td>\n",
       "            </tr>\n",
       "            <tr>\n",
       "                        <th id=\"T_4d8ef127_15cf_11ec_b595_548d5aef3c4blevel0_row1\" class=\"row_heading level0 row1\" >Fever</th>\n",
       "                        <td id=\"T_4d8ef127_15cf_11ec_b595_548d5aef3c4brow1_col0\" class=\"data row1 col0\" >0.089903</td>\n",
       "                        <td id=\"T_4d8ef127_15cf_11ec_b595_548d5aef3c4brow1_col1\" class=\"data row1 col1\" >1.000000</td>\n",
       "                        <td id=\"T_4d8ef127_15cf_11ec_b595_548d5aef3c4brow1_col2\" class=\"data row1 col2\" >0.127580</td>\n",
       "                        <td id=\"T_4d8ef127_15cf_11ec_b595_548d5aef3c4brow1_col3\" class=\"data row1 col3\" >0.322235</td>\n",
       "                        <td id=\"T_4d8ef127_15cf_11ec_b595_548d5aef3c4brow1_col4\" class=\"data row1 col4\" >0.081758</td>\n",
       "                        <td id=\"T_4d8ef127_15cf_11ec_b595_548d5aef3c4brow1_col5\" class=\"data row1 col5\" >0.073953</td>\n",
       "                        <td id=\"T_4d8ef127_15cf_11ec_b595_548d5aef3c4brow1_col6\" class=\"data row1 col6\" >-0.025160</td>\n",
       "                        <td id=\"T_4d8ef127_15cf_11ec_b595_548d5aef3c4brow1_col7\" class=\"data row1 col7\" >-0.035416</td>\n",
       "                        <td id=\"T_4d8ef127_15cf_11ec_b595_548d5aef3c4brow1_col8\" class=\"data row1 col8\" >-0.031462</td>\n",
       "                        <td id=\"T_4d8ef127_15cf_11ec_b595_548d5aef3c4brow1_col9\" class=\"data row1 col9\" >0.050286</td>\n",
       "                        <td id=\"T_4d8ef127_15cf_11ec_b595_548d5aef3c4brow1_col10\" class=\"data row1 col10\" >0.079001</td>\n",
       "                        <td id=\"T_4d8ef127_15cf_11ec_b595_548d5aef3c4brow1_col11\" class=\"data row1 col11\" >-0.060458</td>\n",
       "                        <td id=\"T_4d8ef127_15cf_11ec_b595_548d5aef3c4brow1_col12\" class=\"data row1 col12\" >-0.008067</td>\n",
       "                        <td id=\"T_4d8ef127_15cf_11ec_b595_548d5aef3c4brow1_col13\" class=\"data row1 col13\" >0.352891</td>\n",
       "            </tr>\n",
       "            <tr>\n",
       "                        <th id=\"T_4d8ef127_15cf_11ec_b595_548d5aef3c4blevel0_row2\" class=\"row_heading level0 row2\" >Dry Cough</th>\n",
       "                        <td id=\"T_4d8ef127_15cf_11ec_b595_548d5aef3c4brow2_col0\" class=\"data row2 col0\" >0.159562</td>\n",
       "                        <td id=\"T_4d8ef127_15cf_11ec_b595_548d5aef3c4brow2_col1\" class=\"data row2 col1\" >0.127580</td>\n",
       "                        <td id=\"T_4d8ef127_15cf_11ec_b595_548d5aef3c4brow2_col2\" class=\"data row2 col2\" >1.000000</td>\n",
       "                        <td id=\"T_4d8ef127_15cf_11ec_b595_548d5aef3c4brow2_col3\" class=\"data row2 col3\" >0.213907</td>\n",
       "                        <td id=\"T_4d8ef127_15cf_11ec_b595_548d5aef3c4brow2_col4\" class=\"data row2 col4\" >-0.030763</td>\n",
       "                        <td id=\"T_4d8ef127_15cf_11ec_b595_548d5aef3c4brow2_col5\" class=\"data row2 col5\" >0.086843</td>\n",
       "                        <td id=\"T_4d8ef127_15cf_11ec_b595_548d5aef3c4brow2_col6\" class=\"data row2 col6\" >-0.043664</td>\n",
       "                        <td id=\"T_4d8ef127_15cf_11ec_b595_548d5aef3c4brow2_col7\" class=\"data row2 col7\" >-0.035912</td>\n",
       "                        <td id=\"T_4d8ef127_15cf_11ec_b595_548d5aef3c4brow2_col8\" class=\"data row2 col8\" >0.047566</td>\n",
       "                        <td id=\"T_4d8ef127_15cf_11ec_b595_548d5aef3c4brow2_col9\" class=\"data row2 col9\" >-0.006593</td>\n",
       "                        <td id=\"T_4d8ef127_15cf_11ec_b595_548d5aef3c4brow2_col10\" class=\"data row2 col10\" >0.081989</td>\n",
       "                        <td id=\"T_4d8ef127_15cf_11ec_b595_548d5aef3c4brow2_col11\" class=\"data row2 col11\" >-0.039909</td>\n",
       "                        <td id=\"T_4d8ef127_15cf_11ec_b595_548d5aef3c4brow2_col12\" class=\"data row2 col12\" >0.008251</td>\n",
       "                        <td id=\"T_4d8ef127_15cf_11ec_b595_548d5aef3c4brow2_col13\" class=\"data row2 col13\" >0.464292</td>\n",
       "            </tr>\n",
       "            <tr>\n",
       "                        <th id=\"T_4d8ef127_15cf_11ec_b595_548d5aef3c4blevel0_row3\" class=\"row_heading level0 row3\" >Sore throat</th>\n",
       "                        <td id=\"T_4d8ef127_15cf_11ec_b595_548d5aef3c4brow3_col0\" class=\"data row3 col0\" >0.303768</td>\n",
       "                        <td id=\"T_4d8ef127_15cf_11ec_b595_548d5aef3c4brow3_col1\" class=\"data row3 col1\" >0.322235</td>\n",
       "                        <td id=\"T_4d8ef127_15cf_11ec_b595_548d5aef3c4brow3_col2\" class=\"data row3 col2\" >0.213907</td>\n",
       "                        <td id=\"T_4d8ef127_15cf_11ec_b595_548d5aef3c4brow3_col3\" class=\"data row3 col3\" >1.000000</td>\n",
       "                        <td id=\"T_4d8ef127_15cf_11ec_b595_548d5aef3c4brow3_col4\" class=\"data row3 col4\" >0.039450</td>\n",
       "                        <td id=\"T_4d8ef127_15cf_11ec_b595_548d5aef3c4brow3_col5\" class=\"data row3 col5\" >0.081377</td>\n",
       "                        <td id=\"T_4d8ef127_15cf_11ec_b595_548d5aef3c4brow3_col6\" class=\"data row3 col6\" >-0.050440</td>\n",
       "                        <td id=\"T_4d8ef127_15cf_11ec_b595_548d5aef3c4brow3_col7\" class=\"data row3 col7\" >-0.015971</td>\n",
       "                        <td id=\"T_4d8ef127_15cf_11ec_b595_548d5aef3c4brow3_col8\" class=\"data row3 col8\" >0.002177</td>\n",
       "                        <td id=\"T_4d8ef127_15cf_11ec_b595_548d5aef3c4brow3_col9\" class=\"data row3 col9\" >0.001938</td>\n",
       "                        <td id=\"T_4d8ef127_15cf_11ec_b595_548d5aef3c4brow3_col10\" class=\"data row3 col10\" >0.042811</td>\n",
       "                        <td id=\"T_4d8ef127_15cf_11ec_b595_548d5aef3c4brow3_col11\" class=\"data row3 col11\" >-0.023290</td>\n",
       "                        <td id=\"T_4d8ef127_15cf_11ec_b595_548d5aef3c4brow3_col12\" class=\"data row3 col12\" >0.025886</td>\n",
       "                        <td id=\"T_4d8ef127_15cf_11ec_b595_548d5aef3c4brow3_col13\" class=\"data row3 col13\" >0.502848</td>\n",
       "            </tr>\n",
       "            <tr>\n",
       "                        <th id=\"T_4d8ef127_15cf_11ec_b595_548d5aef3c4blevel0_row4\" class=\"row_heading level0 row4\" >Running Nose</th>\n",
       "                        <td id=\"T_4d8ef127_15cf_11ec_b595_548d5aef3c4brow4_col0\" class=\"data row4 col0\" >0.055190</td>\n",
       "                        <td id=\"T_4d8ef127_15cf_11ec_b595_548d5aef3c4brow4_col1\" class=\"data row4 col1\" >0.081758</td>\n",
       "                        <td id=\"T_4d8ef127_15cf_11ec_b595_548d5aef3c4brow4_col2\" class=\"data row4 col2\" >-0.030763</td>\n",
       "                        <td id=\"T_4d8ef127_15cf_11ec_b595_548d5aef3c4brow4_col3\" class=\"data row4 col3\" >0.039450</td>\n",
       "                        <td id=\"T_4d8ef127_15cf_11ec_b595_548d5aef3c4brow4_col4\" class=\"data row4 col4\" >1.000000</td>\n",
       "                        <td id=\"T_4d8ef127_15cf_11ec_b595_548d5aef3c4brow4_col5\" class=\"data row4 col5\" >-0.022763</td>\n",
       "                        <td id=\"T_4d8ef127_15cf_11ec_b595_548d5aef3c4brow4_col6\" class=\"data row4 col6\" >-0.014376</td>\n",
       "                        <td id=\"T_4d8ef127_15cf_11ec_b595_548d5aef3c4brow4_col7\" class=\"data row4 col7\" >0.068479</td>\n",
       "                        <td id=\"T_4d8ef127_15cf_11ec_b595_548d5aef3c4brow4_col8\" class=\"data row4 col8\" >-0.056750</td>\n",
       "                        <td id=\"T_4d8ef127_15cf_11ec_b595_548d5aef3c4brow4_col9\" class=\"data row4 col9\" >0.042961</td>\n",
       "                        <td id=\"T_4d8ef127_15cf_11ec_b595_548d5aef3c4brow4_col10\" class=\"data row4 col10\" >-0.020445</td>\n",
       "                        <td id=\"T_4d8ef127_15cf_11ec_b595_548d5aef3c4brow4_col11\" class=\"data row4 col11\" >0.007026</td>\n",
       "                        <td id=\"T_4d8ef127_15cf_11ec_b595_548d5aef3c4brow4_col12\" class=\"data row4 col12\" >-0.014673</td>\n",
       "                        <td id=\"T_4d8ef127_15cf_11ec_b595_548d5aef3c4brow4_col13\" class=\"data row4 col13\" >-0.005657</td>\n",
       "            </tr>\n",
       "            <tr>\n",
       "                        <th id=\"T_4d8ef127_15cf_11ec_b595_548d5aef3c4blevel0_row5\" class=\"row_heading level0 row5\" >Asthma</th>\n",
       "                        <td id=\"T_4d8ef127_15cf_11ec_b595_548d5aef3c4brow5_col0\" class=\"data row5 col0\" >0.075318</td>\n",
       "                        <td id=\"T_4d8ef127_15cf_11ec_b595_548d5aef3c4brow5_col1\" class=\"data row5 col1\" >0.073953</td>\n",
       "                        <td id=\"T_4d8ef127_15cf_11ec_b595_548d5aef3c4brow5_col2\" class=\"data row5 col2\" >0.086843</td>\n",
       "                        <td id=\"T_4d8ef127_15cf_11ec_b595_548d5aef3c4brow5_col3\" class=\"data row5 col3\" >0.081377</td>\n",
       "                        <td id=\"T_4d8ef127_15cf_11ec_b595_548d5aef3c4brow5_col4\" class=\"data row5 col4\" >-0.022763</td>\n",
       "                        <td id=\"T_4d8ef127_15cf_11ec_b595_548d5aef3c4brow5_col5\" class=\"data row5 col5\" >1.000000</td>\n",
       "                        <td id=\"T_4d8ef127_15cf_11ec_b595_548d5aef3c4brow5_col6\" class=\"data row5 col6\" >-0.033771</td>\n",
       "                        <td id=\"T_4d8ef127_15cf_11ec_b595_548d5aef3c4brow5_col7\" class=\"data row5 col7\" >0.037064</td>\n",
       "                        <td id=\"T_4d8ef127_15cf_11ec_b595_548d5aef3c4brow5_col8\" class=\"data row5 col8\" >0.076783</td>\n",
       "                        <td id=\"T_4d8ef127_15cf_11ec_b595_548d5aef3c4brow5_col9\" class=\"data row5 col9\" >-0.012060</td>\n",
       "                        <td id=\"T_4d8ef127_15cf_11ec_b595_548d5aef3c4brow5_col10\" class=\"data row5 col10\" >0.017707</td>\n",
       "                        <td id=\"T_4d8ef127_15cf_11ec_b595_548d5aef3c4brow5_col11\" class=\"data row5 col11\" >0.006564</td>\n",
       "                        <td id=\"T_4d8ef127_15cf_11ec_b595_548d5aef3c4brow5_col12\" class=\"data row5 col12\" >0.101909</td>\n",
       "                        <td id=\"T_4d8ef127_15cf_11ec_b595_548d5aef3c4brow5_col13\" class=\"data row5 col13\" >0.089930</td>\n",
       "            </tr>\n",
       "            <tr>\n",
       "                        <th id=\"T_4d8ef127_15cf_11ec_b595_548d5aef3c4blevel0_row6\" class=\"row_heading level0 row6\" >Chronic Lung Disease</th>\n",
       "                        <td id=\"T_4d8ef127_15cf_11ec_b595_548d5aef3c4brow6_col0\" class=\"data row6 col0\" >-0.098291</td>\n",
       "                        <td id=\"T_4d8ef127_15cf_11ec_b595_548d5aef3c4brow6_col1\" class=\"data row6 col1\" >-0.025160</td>\n",
       "                        <td id=\"T_4d8ef127_15cf_11ec_b595_548d5aef3c4brow6_col2\" class=\"data row6 col2\" >-0.043664</td>\n",
       "                        <td id=\"T_4d8ef127_15cf_11ec_b595_548d5aef3c4brow6_col3\" class=\"data row6 col3\" >-0.050440</td>\n",
       "                        <td id=\"T_4d8ef127_15cf_11ec_b595_548d5aef3c4brow6_col4\" class=\"data row6 col4\" >-0.014376</td>\n",
       "                        <td id=\"T_4d8ef127_15cf_11ec_b595_548d5aef3c4brow6_col5\" class=\"data row6 col5\" >-0.033771</td>\n",
       "                        <td id=\"T_4d8ef127_15cf_11ec_b595_548d5aef3c4brow6_col6\" class=\"data row6 col6\" >1.000000</td>\n",
       "                        <td id=\"T_4d8ef127_15cf_11ec_b595_548d5aef3c4brow6_col7\" class=\"data row6 col7\" >-0.050480</td>\n",
       "                        <td id=\"T_4d8ef127_15cf_11ec_b595_548d5aef3c4brow6_col8\" class=\"data row6 col8\" >-0.039860</td>\n",
       "                        <td id=\"T_4d8ef127_15cf_11ec_b595_548d5aef3c4brow6_col9\" class=\"data row6 col9\" >0.046789</td>\n",
       "                        <td id=\"T_4d8ef127_15cf_11ec_b595_548d5aef3c4brow6_col10\" class=\"data row6 col10\" >-0.010331</td>\n",
       "                        <td id=\"T_4d8ef127_15cf_11ec_b595_548d5aef3c4brow6_col11\" class=\"data row6 col11\" >-0.047655</td>\n",
       "                        <td id=\"T_4d8ef127_15cf_11ec_b595_548d5aef3c4brow6_col12\" class=\"data row6 col12\" >-0.050333</td>\n",
       "                        <td id=\"T_4d8ef127_15cf_11ec_b595_548d5aef3c4brow6_col13\" class=\"data row6 col13\" >-0.056837</td>\n",
       "            </tr>\n",
       "            <tr>\n",
       "                        <th id=\"T_4d8ef127_15cf_11ec_b595_548d5aef3c4blevel0_row7\" class=\"row_heading level0 row7\" >Headache</th>\n",
       "                        <td id=\"T_4d8ef127_15cf_11ec_b595_548d5aef3c4brow7_col0\" class=\"data row7 col0\" >-0.062172</td>\n",
       "                        <td id=\"T_4d8ef127_15cf_11ec_b595_548d5aef3c4brow7_col1\" class=\"data row7 col1\" >-0.035416</td>\n",
       "                        <td id=\"T_4d8ef127_15cf_11ec_b595_548d5aef3c4brow7_col2\" class=\"data row7 col2\" >-0.035912</td>\n",
       "                        <td id=\"T_4d8ef127_15cf_11ec_b595_548d5aef3c4brow7_col3\" class=\"data row7 col3\" >-0.015971</td>\n",
       "                        <td id=\"T_4d8ef127_15cf_11ec_b595_548d5aef3c4brow7_col4\" class=\"data row7 col4\" >0.068479</td>\n",
       "                        <td id=\"T_4d8ef127_15cf_11ec_b595_548d5aef3c4brow7_col5\" class=\"data row7 col5\" >0.037064</td>\n",
       "                        <td id=\"T_4d8ef127_15cf_11ec_b595_548d5aef3c4brow7_col6\" class=\"data row7 col6\" >-0.050480</td>\n",
       "                        <td id=\"T_4d8ef127_15cf_11ec_b595_548d5aef3c4brow7_col7\" class=\"data row7 col7\" >1.000000</td>\n",
       "                        <td id=\"T_4d8ef127_15cf_11ec_b595_548d5aef3c4brow7_col8\" class=\"data row7 col8\" >0.048471</td>\n",
       "                        <td id=\"T_4d8ef127_15cf_11ec_b595_548d5aef3c4brow7_col9\" class=\"data row7 col9\" >0.032390</td>\n",
       "                        <td id=\"T_4d8ef127_15cf_11ec_b595_548d5aef3c4brow7_col10\" class=\"data row7 col10\" >-0.207489</td>\n",
       "                        <td id=\"T_4d8ef127_15cf_11ec_b595_548d5aef3c4brow7_col11\" class=\"data row7 col11\" >0.052035</td>\n",
       "                        <td id=\"T_4d8ef127_15cf_11ec_b595_548d5aef3c4brow7_col12\" class=\"data row7 col12\" >0.097778</td>\n",
       "                        <td id=\"T_4d8ef127_15cf_11ec_b595_548d5aef3c4brow7_col13\" class=\"data row7 col13\" >-0.027793</td>\n",
       "            </tr>\n",
       "            <tr>\n",
       "                        <th id=\"T_4d8ef127_15cf_11ec_b595_548d5aef3c4blevel0_row8\" class=\"row_heading level0 row8\" >Heart Disease</th>\n",
       "                        <td id=\"T_4d8ef127_15cf_11ec_b595_548d5aef3c4brow8_col0\" class=\"data row8 col0\" >-0.073366</td>\n",
       "                        <td id=\"T_4d8ef127_15cf_11ec_b595_548d5aef3c4brow8_col1\" class=\"data row8 col1\" >-0.031462</td>\n",
       "                        <td id=\"T_4d8ef127_15cf_11ec_b595_548d5aef3c4brow8_col2\" class=\"data row8 col2\" >0.047566</td>\n",
       "                        <td id=\"T_4d8ef127_15cf_11ec_b595_548d5aef3c4brow8_col3\" class=\"data row8 col3\" >0.002177</td>\n",
       "                        <td id=\"T_4d8ef127_15cf_11ec_b595_548d5aef3c4brow8_col4\" class=\"data row8 col4\" >-0.056750</td>\n",
       "                        <td id=\"T_4d8ef127_15cf_11ec_b595_548d5aef3c4brow8_col5\" class=\"data row8 col5\" >0.076783</td>\n",
       "                        <td id=\"T_4d8ef127_15cf_11ec_b595_548d5aef3c4brow8_col6\" class=\"data row8 col6\" >-0.039860</td>\n",
       "                        <td id=\"T_4d8ef127_15cf_11ec_b595_548d5aef3c4brow8_col7\" class=\"data row8 col7\" >0.048471</td>\n",
       "                        <td id=\"T_4d8ef127_15cf_11ec_b595_548d5aef3c4brow8_col8\" class=\"data row8 col8\" >1.000000</td>\n",
       "                        <td id=\"T_4d8ef127_15cf_11ec_b595_548d5aef3c4brow8_col9\" class=\"data row8 col9\" >-0.032956</td>\n",
       "                        <td id=\"T_4d8ef127_15cf_11ec_b595_548d5aef3c4brow8_col10\" class=\"data row8 col10\" >0.049139</td>\n",
       "                        <td id=\"T_4d8ef127_15cf_11ec_b595_548d5aef3c4brow8_col11\" class=\"data row8 col11\" >-0.058925</td>\n",
       "                        <td id=\"T_4d8ef127_15cf_11ec_b595_548d5aef3c4brow8_col12\" class=\"data row8 col12\" >0.004121</td>\n",
       "                        <td id=\"T_4d8ef127_15cf_11ec_b595_548d5aef3c4brow8_col13\" class=\"data row8 col13\" >0.027072</td>\n",
       "            </tr>\n",
       "            <tr>\n",
       "                        <th id=\"T_4d8ef127_15cf_11ec_b595_548d5aef3c4blevel0_row9\" class=\"row_heading level0 row9\" >Diabetes</th>\n",
       "                        <td id=\"T_4d8ef127_15cf_11ec_b595_548d5aef3c4brow9_col0\" class=\"data row9 col0\" >0.055427</td>\n",
       "                        <td id=\"T_4d8ef127_15cf_11ec_b595_548d5aef3c4brow9_col1\" class=\"data row9 col1\" >0.050286</td>\n",
       "                        <td id=\"T_4d8ef127_15cf_11ec_b595_548d5aef3c4brow9_col2\" class=\"data row9 col2\" >-0.006593</td>\n",
       "                        <td id=\"T_4d8ef127_15cf_11ec_b595_548d5aef3c4brow9_col3\" class=\"data row9 col3\" >0.001938</td>\n",
       "                        <td id=\"T_4d8ef127_15cf_11ec_b595_548d5aef3c4brow9_col4\" class=\"data row9 col4\" >0.042961</td>\n",
       "                        <td id=\"T_4d8ef127_15cf_11ec_b595_548d5aef3c4brow9_col5\" class=\"data row9 col5\" >-0.012060</td>\n",
       "                        <td id=\"T_4d8ef127_15cf_11ec_b595_548d5aef3c4brow9_col6\" class=\"data row9 col6\" >0.046789</td>\n",
       "                        <td id=\"T_4d8ef127_15cf_11ec_b595_548d5aef3c4brow9_col7\" class=\"data row9 col7\" >0.032390</td>\n",
       "                        <td id=\"T_4d8ef127_15cf_11ec_b595_548d5aef3c4brow9_col8\" class=\"data row9 col8\" >-0.032956</td>\n",
       "                        <td id=\"T_4d8ef127_15cf_11ec_b595_548d5aef3c4brow9_col9\" class=\"data row9 col9\" >1.000000</td>\n",
       "                        <td id=\"T_4d8ef127_15cf_11ec_b595_548d5aef3c4brow9_col10\" class=\"data row9 col10\" >0.042543</td>\n",
       "                        <td id=\"T_4d8ef127_15cf_11ec_b595_548d5aef3c4brow9_col11\" class=\"data row9 col11\" >-0.043903</td>\n",
       "                        <td id=\"T_4d8ef127_15cf_11ec_b595_548d5aef3c4brow9_col12\" class=\"data row9 col12\" >0.040651</td>\n",
       "                        <td id=\"T_4d8ef127_15cf_11ec_b595_548d5aef3c4brow9_col13\" class=\"data row9 col13\" >0.040627</td>\n",
       "            </tr>\n",
       "            <tr>\n",
       "                        <th id=\"T_4d8ef127_15cf_11ec_b595_548d5aef3c4blevel0_row10\" class=\"row_heading level0 row10\" >Hyper Tension</th>\n",
       "                        <td id=\"T_4d8ef127_15cf_11ec_b595_548d5aef3c4brow10_col0\" class=\"data row10 col0\" >0.045256</td>\n",
       "                        <td id=\"T_4d8ef127_15cf_11ec_b595_548d5aef3c4brow10_col1\" class=\"data row10 col1\" >0.079001</td>\n",
       "                        <td id=\"T_4d8ef127_15cf_11ec_b595_548d5aef3c4brow10_col2\" class=\"data row10 col2\" >0.081989</td>\n",
       "                        <td id=\"T_4d8ef127_15cf_11ec_b595_548d5aef3c4brow10_col3\" class=\"data row10 col3\" >0.042811</td>\n",
       "                        <td id=\"T_4d8ef127_15cf_11ec_b595_548d5aef3c4brow10_col4\" class=\"data row10 col4\" >-0.020445</td>\n",
       "                        <td id=\"T_4d8ef127_15cf_11ec_b595_548d5aef3c4brow10_col5\" class=\"data row10 col5\" >0.017707</td>\n",
       "                        <td id=\"T_4d8ef127_15cf_11ec_b595_548d5aef3c4brow10_col6\" class=\"data row10 col6\" >-0.010331</td>\n",
       "                        <td id=\"T_4d8ef127_15cf_11ec_b595_548d5aef3c4brow10_col7\" class=\"data row10 col7\" >-0.207489</td>\n",
       "                        <td id=\"T_4d8ef127_15cf_11ec_b595_548d5aef3c4brow10_col8\" class=\"data row10 col8\" >0.049139</td>\n",
       "                        <td id=\"T_4d8ef127_15cf_11ec_b595_548d5aef3c4brow10_col9\" class=\"data row10 col9\" >0.042543</td>\n",
       "                        <td id=\"T_4d8ef127_15cf_11ec_b595_548d5aef3c4brow10_col10\" class=\"data row10 col10\" >1.000000</td>\n",
       "                        <td id=\"T_4d8ef127_15cf_11ec_b595_548d5aef3c4brow10_col11\" class=\"data row10 col11\" >-0.027605</td>\n",
       "                        <td id=\"T_4d8ef127_15cf_11ec_b595_548d5aef3c4brow10_col12\" class=\"data row10 col12\" >-0.067972</td>\n",
       "                        <td id=\"T_4d8ef127_15cf_11ec_b595_548d5aef3c4brow10_col13\" class=\"data row10 col13\" >0.102575</td>\n",
       "            </tr>\n",
       "            <tr>\n",
       "                        <th id=\"T_4d8ef127_15cf_11ec_b595_548d5aef3c4blevel0_row11\" class=\"row_heading level0 row11\" >Fatigue </th>\n",
       "                        <td id=\"T_4d8ef127_15cf_11ec_b595_548d5aef3c4brow11_col0\" class=\"data row11 col0\" >0.000561</td>\n",
       "                        <td id=\"T_4d8ef127_15cf_11ec_b595_548d5aef3c4brow11_col1\" class=\"data row11 col1\" >-0.060458</td>\n",
       "                        <td id=\"T_4d8ef127_15cf_11ec_b595_548d5aef3c4brow11_col2\" class=\"data row11 col2\" >-0.039909</td>\n",
       "                        <td id=\"T_4d8ef127_15cf_11ec_b595_548d5aef3c4brow11_col3\" class=\"data row11 col3\" >-0.023290</td>\n",
       "                        <td id=\"T_4d8ef127_15cf_11ec_b595_548d5aef3c4brow11_col4\" class=\"data row11 col4\" >0.007026</td>\n",
       "                        <td id=\"T_4d8ef127_15cf_11ec_b595_548d5aef3c4brow11_col5\" class=\"data row11 col5\" >0.006564</td>\n",
       "                        <td id=\"T_4d8ef127_15cf_11ec_b595_548d5aef3c4brow11_col6\" class=\"data row11 col6\" >-0.047655</td>\n",
       "                        <td id=\"T_4d8ef127_15cf_11ec_b595_548d5aef3c4brow11_col7\" class=\"data row11 col7\" >0.052035</td>\n",
       "                        <td id=\"T_4d8ef127_15cf_11ec_b595_548d5aef3c4brow11_col8\" class=\"data row11 col8\" >-0.058925</td>\n",
       "                        <td id=\"T_4d8ef127_15cf_11ec_b595_548d5aef3c4brow11_col9\" class=\"data row11 col9\" >-0.043903</td>\n",
       "                        <td id=\"T_4d8ef127_15cf_11ec_b595_548d5aef3c4brow11_col10\" class=\"data row11 col10\" >-0.027605</td>\n",
       "                        <td id=\"T_4d8ef127_15cf_11ec_b595_548d5aef3c4brow11_col11\" class=\"data row11 col11\" >1.000000</td>\n",
       "                        <td id=\"T_4d8ef127_15cf_11ec_b595_548d5aef3c4brow11_col12\" class=\"data row11 col12\" >0.009356</td>\n",
       "                        <td id=\"T_4d8ef127_15cf_11ec_b595_548d5aef3c4brow11_col13\" class=\"data row11 col13\" >-0.044188</td>\n",
       "            </tr>\n",
       "            <tr>\n",
       "                        <th id=\"T_4d8ef127_15cf_11ec_b595_548d5aef3c4blevel0_row12\" class=\"row_heading level0 row12\" >Gastrointestinal </th>\n",
       "                        <td id=\"T_4d8ef127_15cf_11ec_b595_548d5aef3c4brow12_col0\" class=\"data row12 col0\" >-0.075390</td>\n",
       "                        <td id=\"T_4d8ef127_15cf_11ec_b595_548d5aef3c4brow12_col1\" class=\"data row12 col1\" >-0.008067</td>\n",
       "                        <td id=\"T_4d8ef127_15cf_11ec_b595_548d5aef3c4brow12_col2\" class=\"data row12 col2\" >0.008251</td>\n",
       "                        <td id=\"T_4d8ef127_15cf_11ec_b595_548d5aef3c4brow12_col3\" class=\"data row12 col3\" >0.025886</td>\n",
       "                        <td id=\"T_4d8ef127_15cf_11ec_b595_548d5aef3c4brow12_col4\" class=\"data row12 col4\" >-0.014673</td>\n",
       "                        <td id=\"T_4d8ef127_15cf_11ec_b595_548d5aef3c4brow12_col5\" class=\"data row12 col5\" >0.101909</td>\n",
       "                        <td id=\"T_4d8ef127_15cf_11ec_b595_548d5aef3c4brow12_col6\" class=\"data row12 col6\" >-0.050333</td>\n",
       "                        <td id=\"T_4d8ef127_15cf_11ec_b595_548d5aef3c4brow12_col7\" class=\"data row12 col7\" >0.097778</td>\n",
       "                        <td id=\"T_4d8ef127_15cf_11ec_b595_548d5aef3c4brow12_col8\" class=\"data row12 col8\" >0.004121</td>\n",
       "                        <td id=\"T_4d8ef127_15cf_11ec_b595_548d5aef3c4brow12_col9\" class=\"data row12 col9\" >0.040651</td>\n",
       "                        <td id=\"T_4d8ef127_15cf_11ec_b595_548d5aef3c4brow12_col10\" class=\"data row12 col10\" >-0.067972</td>\n",
       "                        <td id=\"T_4d8ef127_15cf_11ec_b595_548d5aef3c4brow12_col11\" class=\"data row12 col11\" >0.009356</td>\n",
       "                        <td id=\"T_4d8ef127_15cf_11ec_b595_548d5aef3c4brow12_col12\" class=\"data row12 col12\" >1.000000</td>\n",
       "                        <td id=\"T_4d8ef127_15cf_11ec_b595_548d5aef3c4brow12_col13\" class=\"data row12 col13\" >-0.003367</td>\n",
       "            </tr>\n",
       "            <tr>\n",
       "                        <th id=\"T_4d8ef127_15cf_11ec_b595_548d5aef3c4blevel0_row13\" class=\"row_heading level0 row13\" >COVID-19</th>\n",
       "                        <td id=\"T_4d8ef127_15cf_11ec_b595_548d5aef3c4brow13_col0\" class=\"data row13 col0\" >0.443764</td>\n",
       "                        <td id=\"T_4d8ef127_15cf_11ec_b595_548d5aef3c4brow13_col1\" class=\"data row13 col1\" >0.352891</td>\n",
       "                        <td id=\"T_4d8ef127_15cf_11ec_b595_548d5aef3c4brow13_col2\" class=\"data row13 col2\" >0.464292</td>\n",
       "                        <td id=\"T_4d8ef127_15cf_11ec_b595_548d5aef3c4brow13_col3\" class=\"data row13 col3\" >0.502848</td>\n",
       "                        <td id=\"T_4d8ef127_15cf_11ec_b595_548d5aef3c4brow13_col4\" class=\"data row13 col4\" >-0.005657</td>\n",
       "                        <td id=\"T_4d8ef127_15cf_11ec_b595_548d5aef3c4brow13_col5\" class=\"data row13 col5\" >0.089930</td>\n",
       "                        <td id=\"T_4d8ef127_15cf_11ec_b595_548d5aef3c4brow13_col6\" class=\"data row13 col6\" >-0.056837</td>\n",
       "                        <td id=\"T_4d8ef127_15cf_11ec_b595_548d5aef3c4brow13_col7\" class=\"data row13 col7\" >-0.027793</td>\n",
       "                        <td id=\"T_4d8ef127_15cf_11ec_b595_548d5aef3c4brow13_col8\" class=\"data row13 col8\" >0.027072</td>\n",
       "                        <td id=\"T_4d8ef127_15cf_11ec_b595_548d5aef3c4brow13_col9\" class=\"data row13 col9\" >0.040627</td>\n",
       "                        <td id=\"T_4d8ef127_15cf_11ec_b595_548d5aef3c4brow13_col10\" class=\"data row13 col10\" >0.102575</td>\n",
       "                        <td id=\"T_4d8ef127_15cf_11ec_b595_548d5aef3c4brow13_col11\" class=\"data row13 col11\" >-0.044188</td>\n",
       "                        <td id=\"T_4d8ef127_15cf_11ec_b595_548d5aef3c4brow13_col12\" class=\"data row13 col12\" >-0.003367</td>\n",
       "                        <td id=\"T_4d8ef127_15cf_11ec_b595_548d5aef3c4brow13_col13\" class=\"data row13 col13\" >1.000000</td>\n",
       "            </tr>\n",
       "    </tbody></table>"
      ],
      "text/plain": [
       "<pandas.io.formats.style.Styler at 0x22800410760>"
      ]
     },
     "execution_count": 16,
     "metadata": {},
     "output_type": "execute_result"
    }
   ],
   "source": [
    "corr=covid_df.corr()\n",
    "corr.style.background_gradient(cmap='coolwarm',axis=None)"
   ]
  },
  {
   "cell_type": "code",
   "execution_count": 11,
   "metadata": {},
   "outputs": [],
   "source": [
    "X=covid_df.drop([\"COVID-19\"], axis=1)\n",
    "y=covid_df[\"COVID-19\"]"
   ]
  },
  {
   "cell_type": "code",
   "execution_count": 12,
   "metadata": {},
   "outputs": [],
   "source": [
    "X_train, X_test, y_train, y_test = train_test_split(X,y, random_state=42)"
   ]
  },
  {
   "cell_type": "code",
   "execution_count": 24,
   "metadata": {},
   "outputs": [
    {
     "name": "stdout",
     "output_type": "stream",
     "text": [
      "Random Forest Training Score: 0.981840490797546\n",
      "Random Forest Testing Score: 0.9823399558498896\n",
      "\n",
      "Logistic Regresion Training Score: 0.9158282208588957\n",
      "Logistic Regression Testing Score: 0.9102281089036056\n",
      "\n",
      "Decision Tree Testing Score: 0.981840490797546\n",
      "Decision Tree Testing Score: 0.9823399558498896\n"
     ]
    }
   ],
   "source": [
    "#Random Forest Classifier\n",
    "rfc = RandomForestClassifier().fit(X_train, y_train)\n",
    "print(f'Random Forest Training Score: {rfc.score(X_train, y_train)}')\n",
    "print(f'Random Forest Testing Score: {rfc.score(X_test, y_test)}')\n",
    "\n",
    "print('')\n",
    "#Logistic Regression\n",
    "lr = LogisticRegression().fit(X_train, y_train)\n",
    "print(f'Logistic Regresion Training Score: {lr.score(X_train, y_train)}')\n",
    "print(f'Logistic Regression Testing Score: {lr.score(X_test, y_test)}')\n",
    "\n",
    "print('')\n",
    "#Decison Tree \n",
    "DT = DecisionTreeClassifier().fit(X_train, y_train)\n",
    "print(f'Decision Tree Testing Score: {DT.score(X_train, y_train)}')\n",
    "print(f'Decision Tree Testing Score: {DT.score(X_test, y_test)}')"
   ]
  },
  {
   "cell_type": "markdown",
   "metadata": {},
   "source": [
    "#### Parameter Tuning"
   ]
  },
  {
   "cell_type": "code",
   "execution_count": 16,
   "metadata": {},
   "outputs": [
    {
     "name": "stdout",
     "output_type": "stream",
     "text": [
      "Training Score: 0.981840490797546\n",
      "Testing Score: 0.9823399558498896\n",
      "\n",
      "Decision Tree Testing Score: 0.9445398773006135\n",
      "Decision Tree Testing Score: 0.9403973509933775\n",
      "\n",
      "Logistic Regression Training Score: 0.9158282208588957\n",
      "Logistic Regression Testing Score: 0.9102281089036056\n"
     ]
    }
   ],
   "source": [
    "#Random Forest\n",
    "random_forest = RandomForestClassifier(random_state=1, n_estimators=500).fit(X_train, y_train)\n",
    "print(f'Training Score: {random_forest.score(X_train, y_train)}')\n",
    "print(f'Testing Score: {random_forest.score(X_test, y_test)}')\n",
    "\n",
    "print('')\n",
    "\n",
    "#Decison Tree\n",
    "Decision_Tree = DecisionTreeClassifier(min_samples_leaf=20, random_state=42, criterion=\"entropy\").fit(X_train, y_train)\n",
    "print(f'Decision Tree Testing Score: {Decision_Tree.score(X_train, y_train)}')\n",
    "print(f'Decision Tree Testing Score: {Decision_Tree.score(X_test, y_test)}')\n",
    "\n",
    "print('')\n",
    "#Logistic Regression\n",
    "LR1 = LogisticRegression().fit(X_train, y_train)\n",
    "print(f'Logistic Regression Training Score: {LR1.score(X_train, y_train)}')\n",
    "print(f'Logistic Regression Testing Score: {LR1.score(X_test, y_test)}')"
   ]
  },
  {
   "cell_type": "markdown",
   "metadata": {},
   "source": [
    "#### Grid Search"
   ]
  },
  {
   "cell_type": "code",
   "execution_count": 17,
   "metadata": {},
   "outputs": [
    {
     "name": "stdout",
     "output_type": "stream",
     "text": [
      "RandomForestClassifier(bootstrap=True, ccp_alpha=0.0, class_weight=None,\n",
      "                       criterion='gini', max_depth=15, max_features='auto',\n",
      "                       max_leaf_nodes=None, max_samples=None,\n",
      "                       min_impurity_decrease=0.0, min_impurity_split=None,\n",
      "                       min_samples_leaf=1, min_samples_split=2,\n",
      "                       min_weight_fraction_leaf=0.0, n_estimators=27,\n",
      "                       n_jobs=None, oob_score=False, random_state=None,\n",
      "                       verbose=0, warm_start=False)\n"
     ]
    }
   ],
   "source": [
    "params = {\n",
    "    \"max_depth\":[15,20,25], \n",
    "    \"n_estimators\":[27,30,33],\n",
    "    \"criterion\":[\"gini\", \"entropy\"],\n",
    "}\n",
    "\n",
    "rfc = RandomForestClassifier()\n",
    "\n",
    "rf_reg = GridSearchCV(rfc, params, cv = 10, n_jobs =10)\n",
    "rf_reg.fit(X_train, y_train)\n",
    "print(rf_reg.best_estimator_)"
   ]
  },
  {
   "cell_type": "code",
   "execution_count": 18,
   "metadata": {},
   "outputs": [
    {
     "name": "stdout",
     "output_type": "stream",
     "text": [
      "[0.97058824 0.97426471 0.97794118 0.95588235 0.97416974]\n"
     ]
    }
   ],
   "source": [
    "rfc_tuned = RandomForestClassifier(max_depth=15, n_estimators=27)\n",
    "rfc_tuned.fit(X_train, y_train)\n",
    "score = cross_val_score(rfc,X_test,y_test,n_jobs=1,scoring=\"accuracy\")\n",
    "print(score)"
   ]
  },
  {
   "cell_type": "code",
   "execution_count": null,
   "metadata": {},
   "outputs": [],
   "source": [
    "# Model is best without parameter tuning"
   ]
  },
  {
   "cell_type": "markdown",
   "metadata": {},
   "source": [
    "#### More Modeling"
   ]
  },
  {
   "cell_type": "code",
   "execution_count": 19,
   "metadata": {},
   "outputs": [
    {
     "name": "stdout",
     "output_type": "stream",
     "text": [
      "Model Accuracy: 93.15673289183223\n"
     ]
    }
   ],
   "source": [
    "#KNeighbors\n",
    "from sklearn.neighbors import KNeighborsClassifier\n",
    "knn=KNeighborsClassifier(n_neighbors=20)\n",
    "knn.fit(X_train, y_train)\n",
    "y_pred = knn.predict(X_test)\n",
    "knn_accuracy = knn.score(X_test, y_test)*100\n",
    "print(f'Model Accuracy: {knn_accuracy}')"
   ]
  },
  {
   "cell_type": "code",
   "execution_count": 20,
   "metadata": {},
   "outputs": [
    {
     "name": "stdout",
     "output_type": "stream",
     "text": [
      "Model Accuracy: 90.13980868285503\n"
     ]
    }
   ],
   "source": [
    "from sklearn.naive_bayes import GaussianNB\n",
    "model=GaussianNB()\n",
    "model.fit(X_train, y_train)\n",
    "gaussian_accuracy = model.score(X_test, y_test) *100\n",
    "print(f'Model Accuracy: {gaussian_accuracy}')\n"
   ]
  },
  {
   "cell_type": "code",
   "execution_count": 21,
   "metadata": {},
   "outputs": [
    {
     "name": "stdout",
     "output_type": "stream",
     "text": [
      "Model Accuracy: 90.13980868285503\n"
     ]
    }
   ],
   "source": [
    "#SVM\n",
    "from sklearn import svm\n",
    "svm_model = svm.SVC(kernel='linear')\n",
    "svm_model.fit(X_train, y_train)\n",
    "y_pred=svm_model.predict(X_test)\n",
    "svm_model_accuracy = model.score(X_test, y_test) *100\n",
    "print(f'Model Accuracy: {svm_model_accuracy}')\n"
   ]
  },
  {
   "cell_type": "markdown",
   "metadata": {},
   "source": [
    "## Score Check"
   ]
  },
  {
   "cell_type": "code",
   "execution_count": 25,
   "metadata": {},
   "outputs": [],
   "source": [
    "lr_accuracy = lr.score(X_test, y_test) *100\n",
    "rf_accuracy = rfc.score(X_test, y_test) *100\n",
    "dt_accuracy = DT.score(X_test, y_test) *100"
   ]
  },
  {
   "cell_type": "code",
   "execution_count": 28,
   "metadata": {},
   "outputs": [],
   "source": [
    "model_scores = {'Models': ['Logistic Regression', 'KNeighbors Classifier', 'Gaussian Naive Bayes', ' SVM','Random Forest','Decision Tree'], \n",
    "                'Scores': [lr_accuracy, knn_accuracy, gaussian_accuracy, svm_model_accuracy,rf_accuracy,dt_accuracy]} "
   ]
  },
  {
   "cell_type": "code",
   "execution_count": 29,
   "metadata": {},
   "outputs": [
    {
     "data": {
      "text/html": [
       "<div>\n",
       "<style scoped>\n",
       "    .dataframe tbody tr th:only-of-type {\n",
       "        vertical-align: middle;\n",
       "    }\n",
       "\n",
       "    .dataframe tbody tr th {\n",
       "        vertical-align: top;\n",
       "    }\n",
       "\n",
       "    .dataframe thead th {\n",
       "        text-align: right;\n",
       "    }\n",
       "</style>\n",
       "<table border=\"1\" class=\"dataframe\">\n",
       "  <thead>\n",
       "    <tr style=\"text-align: right;\">\n",
       "      <th></th>\n",
       "      <th>Models</th>\n",
       "      <th>Scores</th>\n",
       "    </tr>\n",
       "  </thead>\n",
       "  <tbody>\n",
       "    <tr>\n",
       "      <td>4</td>\n",
       "      <td>Random Forest</td>\n",
       "      <td>98.233996</td>\n",
       "    </tr>\n",
       "    <tr>\n",
       "      <td>5</td>\n",
       "      <td>Decision Tree</td>\n",
       "      <td>98.233996</td>\n",
       "    </tr>\n",
       "    <tr>\n",
       "      <td>1</td>\n",
       "      <td>KNeighbors Classifier</td>\n",
       "      <td>93.156733</td>\n",
       "    </tr>\n",
       "    <tr>\n",
       "      <td>0</td>\n",
       "      <td>Logistic Regression</td>\n",
       "      <td>91.022811</td>\n",
       "    </tr>\n",
       "    <tr>\n",
       "      <td>2</td>\n",
       "      <td>Gaussian Naive Bayes</td>\n",
       "      <td>90.139809</td>\n",
       "    </tr>\n",
       "    <tr>\n",
       "      <td>3</td>\n",
       "      <td>SVM</td>\n",
       "      <td>90.139809</td>\n",
       "    </tr>\n",
       "  </tbody>\n",
       "</table>\n",
       "</div>"
      ],
      "text/plain": [
       "                  Models     Scores\n",
       "4          Random Forest  98.233996\n",
       "5          Decision Tree  98.233996\n",
       "1  KNeighbors Classifier  93.156733\n",
       "0    Logistic Regression  91.022811\n",
       "2   Gaussian Naive Bayes  90.139809\n",
       "3                    SVM  90.139809"
      ]
     },
     "execution_count": 29,
     "metadata": {},
     "output_type": "execute_result"
    }
   ],
   "source": [
    "scores_df=pd.DataFrame(model_scores)\n",
    "scores_df.sort_values(by=['Scores'], ascending=False,inplace=True)\n",
    "  \n",
    "scores_df"
   ]
  },
  {
   "cell_type": "markdown",
   "metadata": {},
   "source": [
    "### Random Forest Score"
   ]
  },
  {
   "cell_type": "code",
   "execution_count": 30,
   "metadata": {},
   "outputs": [
    {
     "name": "stdout",
     "output_type": "stream",
     "text": [
      "Accuracy: 98.23%\n",
      "AUC:  0.9772832572832572\n",
      "[[ 251    8]\n",
      " [  16 1084]]\n",
      "              precision    recall  f1-score   support\n",
      "\n",
      "           0       0.94      0.97      0.95       259\n",
      "           1       0.99      0.99      0.99      1100\n",
      "\n",
      "    accuracy                           0.98      1359\n",
      "   macro avg       0.97      0.98      0.97      1359\n",
      "weighted avg       0.98      0.98      0.98      1359\n",
      "\n"
     ]
    }
   ],
   "source": [
    "rf_pred=rfc.predict(X_test)\n",
    "\n",
    "accuracy = accuracy_score(y_test, rf_pred)\n",
    "print(\"Accuracy: %.2f%%\" % (accuracy * 100.0))\n",
    "\n",
    "fpr, tpr, thresholds = roc_curve(y_test, rf_pred, pos_label=1)\n",
    "print(\"AUC: \", auc(fpr, tpr))\n",
    "print(confusion_matrix(y_test, rf_pred))\n",
    "print(classification_report(y_test,rf_pred))"
   ]
  },
  {
   "cell_type": "markdown",
   "metadata": {},
   "source": [
    "### LR Score"
   ]
  },
  {
   "cell_type": "code",
   "execution_count": 31,
   "metadata": {},
   "outputs": [
    {
     "name": "stdout",
     "output_type": "stream",
     "text": [
      "Accuracy: 91.02%\n",
      "AUC:  0.8058055458055459\n",
      "[[ 165   94]\n",
      " [  28 1072]]\n",
      "              precision    recall  f1-score   support\n",
      "\n",
      "           0       0.85      0.64      0.73       259\n",
      "           1       0.92      0.97      0.95      1100\n",
      "\n",
      "    accuracy                           0.91      1359\n",
      "   macro avg       0.89      0.81      0.84      1359\n",
      "weighted avg       0.91      0.91      0.90      1359\n",
      "\n"
     ]
    }
   ],
   "source": [
    "lr_pred=lr.predict(X_test)\n",
    "\n",
    "accuracy = accuracy_score(y_test, lr_pred)\n",
    "print(\"Accuracy: %.2f%%\" % (accuracy * 100.0))\n",
    "\n",
    "fpr, tpr, thresholds = roc_curve(y_test, lr_pred, pos_label=1)\n",
    "print(\"AUC: \", auc(fpr, tpr))\n",
    "print(confusion_matrix(y_test, lr_pred))\n",
    "print(classification_report(y_test,lr_pred))"
   ]
  },
  {
   "cell_type": "markdown",
   "metadata": {},
   "source": [
    "### KNN Score"
   ]
  },
  {
   "cell_type": "code",
   "execution_count": 32,
   "metadata": {},
   "outputs": [
    {
     "name": "stdout",
     "output_type": "stream",
     "text": [
      "Accuracy: 93.16%\n",
      "AUC:  0.9075447525447525\n",
      "[[ 225   34]\n",
      " [  59 1041]]\n",
      "              precision    recall  f1-score   support\n",
      "\n",
      "           0       0.79      0.87      0.83       259\n",
      "           1       0.97      0.95      0.96      1100\n",
      "\n",
      "    accuracy                           0.93      1359\n",
      "   macro avg       0.88      0.91      0.89      1359\n",
      "weighted avg       0.93      0.93      0.93      1359\n",
      "\n"
     ]
    }
   ],
   "source": [
    "knn_pred=knn.predict(X_test)\n",
    "\n",
    "accuracy = accuracy_score(y_test, knn_pred)\n",
    "print(\"Accuracy: %.2f%%\" % (accuracy * 100.0))\n",
    "\n",
    "fpr, tpr, thresholds = roc_curve(y_test, knn_pred, pos_label=1)\n",
    "print(\"AUC: \", auc(fpr, tpr))\n",
    "print(confusion_matrix(y_test, knn_pred))\n",
    "print(classification_report(y_test,knn_pred))"
   ]
  },
  {
   "cell_type": "markdown",
   "metadata": {},
   "source": [
    "### Gaussian Score"
   ]
  },
  {
   "cell_type": "code",
   "execution_count": 33,
   "metadata": {},
   "outputs": [
    {
     "name": "stdout",
     "output_type": "stream",
     "text": [
      "Accuracy: 90.14%\n",
      "AUC:  0.8638171288171288\n",
      "[[ 208   51]\n",
      " [  83 1017]]\n",
      "              precision    recall  f1-score   support\n",
      "\n",
      "           0       0.71      0.80      0.76       259\n",
      "           1       0.95      0.92      0.94      1100\n",
      "\n",
      "    accuracy                           0.90      1359\n",
      "   macro avg       0.83      0.86      0.85      1359\n",
      "weighted avg       0.91      0.90      0.90      1359\n",
      "\n"
     ]
    }
   ],
   "source": [
    "g_pred=model.predict(X_test)\n",
    "\n",
    "accuracy = accuracy_score(y_test, g_pred)\n",
    "print(\"Accuracy: %.2f%%\" % (accuracy * 100.0))\n",
    "\n",
    "fpr, tpr, thresholds = roc_curve(y_test, g_pred, pos_label=1)\n",
    "print(\"AUC: \", auc(fpr, tpr))\n",
    "print(confusion_matrix(y_test, g_pred))\n",
    "print(classification_report(y_test,g_pred))"
   ]
  },
  {
   "cell_type": "markdown",
   "metadata": {},
   "source": [
    "### SVM Score"
   ]
  },
  {
   "cell_type": "code",
   "execution_count": 34,
   "metadata": {},
   "outputs": [
    {
     "name": "stdout",
     "output_type": "stream",
     "text": [
      "Accuracy: 92.57%\n",
      "AUC:  0.8433941733941734\n",
      "[[ 184   75]\n",
      " [  26 1074]]\n",
      "              precision    recall  f1-score   support\n",
      "\n",
      "           0       0.88      0.71      0.78       259\n",
      "           1       0.93      0.98      0.96      1100\n",
      "\n",
      "    accuracy                           0.93      1359\n",
      "   macro avg       0.91      0.84      0.87      1359\n",
      "weighted avg       0.92      0.93      0.92      1359\n",
      "\n"
     ]
    }
   ],
   "source": [
    "svm_pred=svm_model.predict(X_test)\n",
    "\n",
    "accuracy = accuracy_score(y_test, svm_pred)\n",
    "print(\"Accuracy: %.2f%%\" % (accuracy * 100.0))\n",
    "\n",
    "fpr, tpr, thresholds = roc_curve(y_test, svm_pred, pos_label=1)\n",
    "print(\"AUC: \", auc(fpr, tpr))\n",
    "print(confusion_matrix(y_test, svm_pred))\n",
    "print(classification_report(y_test,svm_pred))"
   ]
  },
  {
   "cell_type": "code",
   "execution_count": null,
   "metadata": {},
   "outputs": [],
   "source": [
    "#Random Forest has the highest score with an accuracy of .98 and a recall of .97. This model tends to have high accuracy prediction and can handle large numbers of features due to the embedded feature selection in the model generation process.\n",
    "#We are using recall as our metric because we need the percentage of actual positive results predicted correctly.\n",
    "#In the confusion Matrix Random Forest has the least amount of False positives and False negatives compared to the other models. \n"
   ]
  },
  {
   "cell_type": "code",
   "execution_count": 35,
   "metadata": {},
   "outputs": [
    {
     "data": {
      "text/html": [
       "\n",
       "    <style>\n",
       "    table.eli5-weights tr:hover {\n",
       "        filter: brightness(85%);\n",
       "    }\n",
       "</style>\n",
       "\n",
       "\n",
       "\n",
       "    \n",
       "\n",
       "    \n",
       "\n",
       "    \n",
       "\n",
       "    \n",
       "\n",
       "    \n",
       "\n",
       "    \n",
       "\n",
       "\n",
       "    \n",
       "\n",
       "    \n",
       "\n",
       "    \n",
       "\n",
       "    \n",
       "\n",
       "    \n",
       "\n",
       "    \n",
       "\n",
       "\n",
       "    \n",
       "\n",
       "    \n",
       "\n",
       "    \n",
       "\n",
       "    \n",
       "\n",
       "    \n",
       "        <table class=\"eli5-weights eli5-feature-importances\" style=\"border-collapse: collapse; border: none; margin-top: 0em; table-layout: auto;\">\n",
       "    <thead>\n",
       "    <tr style=\"border: none;\">\n",
       "        <th style=\"padding: 0 1em 0 0.5em; text-align: right; border: none;\">Weight</th>\n",
       "        <th style=\"padding: 0 0.5em 0 0.5em; text-align: left; border: none;\">Feature</th>\n",
       "    </tr>\n",
       "    </thead>\n",
       "    <tbody>\n",
       "    \n",
       "        <tr style=\"background-color: hsl(120, 100.00%, 80.00%); border: none;\">\n",
       "            <td style=\"padding: 0 1em 0 0.5em; text-align: right; border: none;\">\n",
       "                0.1255\n",
       "                \n",
       "                    &plusmn; 0.0077\n",
       "                \n",
       "            </td>\n",
       "            <td style=\"padding: 0 0.5em 0 0.5em; text-align: left; border: none;\">\n",
       "                Breathing<span style=\"background-color: hsl(120, 80%, 70%); margin: 0 0.1em 0 0.1em\" title=\"A space symbol\">&emsp;</span>Problem\n",
       "            </td>\n",
       "        </tr>\n",
       "    \n",
       "        <tr style=\"background-color: hsl(120, 100.00%, 84.77%); border: none;\">\n",
       "            <td style=\"padding: 0 1em 0 0.5em; text-align: right; border: none;\">\n",
       "                0.0851\n",
       "                \n",
       "                    &plusmn; 0.0113\n",
       "                \n",
       "            </td>\n",
       "            <td style=\"padding: 0 0.5em 0 0.5em; text-align: left; border: none;\">\n",
       "                Dry<span style=\"background-color: hsl(120, 80%, 70%); margin: 0 0.1em 0 0.1em\" title=\"A space symbol\">&emsp;</span>Cough\n",
       "            </td>\n",
       "        </tr>\n",
       "    \n",
       "        <tr style=\"background-color: hsl(120, 100.00%, 89.69%); border: none;\">\n",
       "            <td style=\"padding: 0 1em 0 0.5em; text-align: right; border: none;\">\n",
       "                0.0487\n",
       "                \n",
       "                    &plusmn; 0.0067\n",
       "                \n",
       "            </td>\n",
       "            <td style=\"padding: 0 0.5em 0 0.5em; text-align: left; border: none;\">\n",
       "                Fever\n",
       "            </td>\n",
       "        </tr>\n",
       "    \n",
       "        <tr style=\"background-color: hsl(120, 100.00%, 90.33%); border: none;\">\n",
       "            <td style=\"padding: 0 1em 0 0.5em; text-align: right; border: none;\">\n",
       "                0.0444\n",
       "                \n",
       "                    &plusmn; 0.0089\n",
       "                \n",
       "            </td>\n",
       "            <td style=\"padding: 0 0.5em 0 0.5em; text-align: left; border: none;\">\n",
       "                Sore<span style=\"background-color: hsl(120, 80%, 70%); margin: 0 0.1em 0 0.1em\" title=\"A space symbol\">&emsp;</span>throat\n",
       "            </td>\n",
       "        </tr>\n",
       "    \n",
       "        <tr style=\"background-color: hsl(120, 100.00%, 93.99%); border: none;\">\n",
       "            <td style=\"padding: 0 1em 0 0.5em; text-align: right; border: none;\">\n",
       "                0.0225\n",
       "                \n",
       "                    &plusmn; 0.0070\n",
       "                \n",
       "            </td>\n",
       "            <td style=\"padding: 0 0.5em 0 0.5em; text-align: left; border: none;\">\n",
       "                Gastrointestinal<span style=\"background-color: hsl(120, 80%, 70%); margin: 0 0 0 0.1em\" title=\"A space symbol\">&emsp;</span>\n",
       "            </td>\n",
       "        </tr>\n",
       "    \n",
       "        <tr style=\"background-color: hsl(120, 100.00%, 94.16%); border: none;\">\n",
       "            <td style=\"padding: 0 1em 0 0.5em; text-align: right; border: none;\">\n",
       "                0.0216\n",
       "                \n",
       "                    &plusmn; 0.0071\n",
       "                \n",
       "            </td>\n",
       "            <td style=\"padding: 0 0.5em 0 0.5em; text-align: left; border: none;\">\n",
       "                Fatigue<span style=\"background-color: hsl(120, 80%, 70%); margin: 0 0 0 0.1em\" title=\"A space symbol\">&emsp;</span>\n",
       "            </td>\n",
       "        </tr>\n",
       "    \n",
       "        <tr style=\"background-color: hsl(120, 100.00%, 94.50%); border: none;\">\n",
       "            <td style=\"padding: 0 1em 0 0.5em; text-align: right; border: none;\">\n",
       "                0.0199\n",
       "                \n",
       "                    &plusmn; 0.0044\n",
       "                \n",
       "            </td>\n",
       "            <td style=\"padding: 0 0.5em 0 0.5em; text-align: left; border: none;\">\n",
       "                Heart<span style=\"background-color: hsl(120, 80%, 70%); margin: 0 0.1em 0 0.1em\" title=\"A space symbol\">&emsp;</span>Disease\n",
       "            </td>\n",
       "        </tr>\n",
       "    \n",
       "        <tr style=\"background-color: hsl(120, 100.00%, 94.61%); border: none;\">\n",
       "            <td style=\"padding: 0 1em 0 0.5em; text-align: right; border: none;\">\n",
       "                0.0193\n",
       "                \n",
       "                    &plusmn; 0.0043\n",
       "                \n",
       "            </td>\n",
       "            <td style=\"padding: 0 0.5em 0 0.5em; text-align: left; border: none;\">\n",
       "                Hyper<span style=\"background-color: hsl(120, 80%, 70%); margin: 0 0.1em 0 0.1em\" title=\"A space symbol\">&emsp;</span>Tension\n",
       "            </td>\n",
       "        </tr>\n",
       "    \n",
       "        <tr style=\"background-color: hsl(120, 100.00%, 94.96%); border: none;\">\n",
       "            <td style=\"padding: 0 1em 0 0.5em; text-align: right; border: none;\">\n",
       "                0.0175\n",
       "                \n",
       "                    &plusmn; 0.0031\n",
       "                \n",
       "            </td>\n",
       "            <td style=\"padding: 0 0.5em 0 0.5em; text-align: left; border: none;\">\n",
       "                Asthma\n",
       "            </td>\n",
       "        </tr>\n",
       "    \n",
       "        <tr style=\"background-color: hsl(120, 100.00%, 95.42%); border: none;\">\n",
       "            <td style=\"padding: 0 1em 0 0.5em; text-align: right; border: none;\">\n",
       "                0.0153\n",
       "                \n",
       "                    &plusmn; 0.0049\n",
       "                \n",
       "            </td>\n",
       "            <td style=\"padding: 0 0.5em 0 0.5em; text-align: left; border: none;\">\n",
       "                Chronic<span style=\"background-color: hsl(120, 80%, 70%); margin: 0 0.1em 0 0.1em\" title=\"A space symbol\">&emsp;</span>Lung<span style=\"background-color: hsl(120, 80%, 70%); margin: 0 0.1em 0 0.1em\" title=\"A space symbol\">&emsp;</span>Disease\n",
       "            </td>\n",
       "        </tr>\n",
       "    \n",
       "        <tr style=\"background-color: hsl(120, 100.00%, 95.67%); border: none;\">\n",
       "            <td style=\"padding: 0 1em 0 0.5em; text-align: right; border: none;\">\n",
       "                0.0141\n",
       "                \n",
       "                    &plusmn; 0.0069\n",
       "                \n",
       "            </td>\n",
       "            <td style=\"padding: 0 0.5em 0 0.5em; text-align: left; border: none;\">\n",
       "                Running<span style=\"background-color: hsl(120, 80%, 70%); margin: 0 0.1em 0 0.1em\" title=\"A space symbol\">&emsp;</span>Nose\n",
       "            </td>\n",
       "        </tr>\n",
       "    \n",
       "        <tr style=\"background-color: hsl(120, 100.00%, 96.77%); border: none;\">\n",
       "            <td style=\"padding: 0 1em 0 0.5em; text-align: right; border: none;\">\n",
       "                0.0093\n",
       "                \n",
       "                    &plusmn; 0.0055\n",
       "                \n",
       "            </td>\n",
       "            <td style=\"padding: 0 0.5em 0 0.5em; text-align: left; border: none;\">\n",
       "                Diabetes\n",
       "            </td>\n",
       "        </tr>\n",
       "    \n",
       "        <tr style=\"background-color: hsl(120, 100.00%, 97.37%); border: none;\">\n",
       "            <td style=\"padding: 0 1em 0 0.5em; text-align: right; border: none;\">\n",
       "                0.0069\n",
       "                \n",
       "                    &plusmn; 0.0020\n",
       "                \n",
       "            </td>\n",
       "            <td style=\"padding: 0 0.5em 0 0.5em; text-align: left; border: none;\">\n",
       "                Headache\n",
       "            </td>\n",
       "        </tr>\n",
       "    \n",
       "    \n",
       "    </tbody>\n",
       "</table>\n",
       "    \n",
       "\n",
       "    \n",
       "\n",
       "\n",
       "    \n",
       "\n",
       "    \n",
       "\n",
       "    \n",
       "\n",
       "    \n",
       "\n",
       "    \n",
       "\n",
       "    \n",
       "\n",
       "\n",
       "\n"
      ],
      "text/plain": [
       "<IPython.core.display.HTML object>"
      ]
     },
     "execution_count": 35,
     "metadata": {},
     "output_type": "execute_result"
    }
   ],
   "source": [
    "ranfor=RandomForestClassifier().fit(X_train, y_train)\n",
    "perm = PermutationImportance(ranfor).fit(X_test, y_test)\n",
    "eli5.show_weights(perm, feature_names = X_test.columns.tolist())"
   ]
  },
  {
   "cell_type": "code",
   "execution_count": null,
   "metadata": {},
   "outputs": [],
   "source": [
    "#Top features for Covid symptoms are Breathing Problems, Dry cough, and a sore throat"
   ]
  }
 ],
 "metadata": {
  "kernelspec": {
   "display_name": "Python 3",
   "language": "python",
   "name": "python3"
  },
  "language_info": {
   "codemirror_mode": {
    "name": "ipython",
    "version": 3
   },
   "file_extension": ".py",
   "mimetype": "text/x-python",
   "name": "python",
   "nbconvert_exporter": "python",
   "pygments_lexer": "ipython3",
   "version": "3.7.4"
  },
  "varInspector": {
   "cols": {
    "lenName": 16,
    "lenType": 16,
    "lenVar": 40
   },
   "kernels_config": {
    "python": {
     "delete_cmd_postfix": "",
     "delete_cmd_prefix": "del ",
     "library": "var_list.py",
     "varRefreshCmd": "print(var_dic_list())"
    },
    "r": {
     "delete_cmd_postfix": ") ",
     "delete_cmd_prefix": "rm(",
     "library": "var_list.r",
     "varRefreshCmd": "cat(var_dic_list()) "
    }
   },
   "types_to_exclude": [
    "module",
    "function",
    "builtin_function_or_method",
    "instance",
    "_Feature"
   ],
   "window_display": false
  }
 },
 "nbformat": 4,
 "nbformat_minor": 2
}
