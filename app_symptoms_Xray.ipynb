{
  "nbformat": 4,
  "nbformat_minor": 0,
  "metadata": {
    "colab": {
      "name": "app_symptoms_Xray.ipynb",
      "provenance": [],
      "collapsed_sections": [],
      "authorship_tag": "ABX9TyPD0AWyVT6bIL1wh5XhEQkX",
      "include_colab_link": true
    },
    "kernelspec": {
      "display_name": "Python 3",
      "name": "python3"
    },
    "language_info": {
      "name": "python"
    }
  },
  "cells": [
    {
      "cell_type": "markdown",
      "metadata": {
        "id": "view-in-github",
        "colab_type": "text"
      },
      "source": [
        "<a href=\"https://colab.research.google.com/github/Jackelyneg/covid-19-image-classification/blob/main/app_symptoms_Xray.ipynb\" target=\"_parent\"><img src=\"https://colab.research.google.com/assets/colab-badge.svg\" alt=\"Open In Colab\"/></a>"
      ]
    },
    {
      "cell_type": "code",
      "metadata": {
        "id": "kBgxvFUbBg1g",
        "colab": {
          "base_uri": "https://localhost:8080/"
        },
        "outputId": "91c23deb-7b25-412b-c54f-6463b9ab16fb"
      },
      "source": [
        "!pip install flask-ngrok\n",
        "!pip install flask-bootstrap"
      ],
      "execution_count": 1,
      "outputs": [
        {
          "output_type": "stream",
          "name": "stdout",
          "text": [
            "Collecting flask-ngrok\n",
            "  Downloading flask_ngrok-0.0.25-py3-none-any.whl (3.1 kB)\n",
            "Requirement already satisfied: requests in /usr/local/lib/python3.7/dist-packages (from flask-ngrok) (2.23.0)\n",
            "Requirement already satisfied: Flask>=0.8 in /usr/local/lib/python3.7/dist-packages (from flask-ngrok) (1.1.4)\n",
            "Requirement already satisfied: Jinja2<3.0,>=2.10.1 in /usr/local/lib/python3.7/dist-packages (from Flask>=0.8->flask-ngrok) (2.11.3)\n",
            "Requirement already satisfied: itsdangerous<2.0,>=0.24 in /usr/local/lib/python3.7/dist-packages (from Flask>=0.8->flask-ngrok) (1.1.0)\n",
            "Requirement already satisfied: click<8.0,>=5.1 in /usr/local/lib/python3.7/dist-packages (from Flask>=0.8->flask-ngrok) (7.1.2)\n",
            "Requirement already satisfied: Werkzeug<2.0,>=0.15 in /usr/local/lib/python3.7/dist-packages (from Flask>=0.8->flask-ngrok) (1.0.1)\n",
            "Requirement already satisfied: MarkupSafe>=0.23 in /usr/local/lib/python3.7/dist-packages (from Jinja2<3.0,>=2.10.1->Flask>=0.8->flask-ngrok) (2.0.1)\n",
            "Requirement already satisfied: chardet<4,>=3.0.2 in /usr/local/lib/python3.7/dist-packages (from requests->flask-ngrok) (3.0.4)\n",
            "Requirement already satisfied: certifi>=2017.4.17 in /usr/local/lib/python3.7/dist-packages (from requests->flask-ngrok) (2021.5.30)\n",
            "Requirement already satisfied: urllib3!=1.25.0,!=1.25.1,<1.26,>=1.21.1 in /usr/local/lib/python3.7/dist-packages (from requests->flask-ngrok) (1.24.3)\n",
            "Requirement already satisfied: idna<3,>=2.5 in /usr/local/lib/python3.7/dist-packages (from requests->flask-ngrok) (2.10)\n",
            "Installing collected packages: flask-ngrok\n",
            "Successfully installed flask-ngrok-0.0.25\n",
            "Collecting flask-bootstrap\n",
            "  Downloading Flask-Bootstrap-3.3.7.1.tar.gz (456 kB)\n",
            "\u001b[K     |████████████████████████████████| 456 kB 36.5 MB/s \n",
            "\u001b[?25hRequirement already satisfied: Flask>=0.8 in /usr/local/lib/python3.7/dist-packages (from flask-bootstrap) (1.1.4)\n",
            "Collecting dominate\n",
            "  Downloading dominate-2.6.0-py2.py3-none-any.whl (29 kB)\n",
            "Collecting visitor\n",
            "  Downloading visitor-0.1.3.tar.gz (3.3 kB)\n",
            "Requirement already satisfied: Werkzeug<2.0,>=0.15 in /usr/local/lib/python3.7/dist-packages (from Flask>=0.8->flask-bootstrap) (1.0.1)\n",
            "Requirement already satisfied: itsdangerous<2.0,>=0.24 in /usr/local/lib/python3.7/dist-packages (from Flask>=0.8->flask-bootstrap) (1.1.0)\n",
            "Requirement already satisfied: Jinja2<3.0,>=2.10.1 in /usr/local/lib/python3.7/dist-packages (from Flask>=0.8->flask-bootstrap) (2.11.3)\n",
            "Requirement already satisfied: click<8.0,>=5.1 in /usr/local/lib/python3.7/dist-packages (from Flask>=0.8->flask-bootstrap) (7.1.2)\n",
            "Requirement already satisfied: MarkupSafe>=0.23 in /usr/local/lib/python3.7/dist-packages (from Jinja2<3.0,>=2.10.1->Flask>=0.8->flask-bootstrap) (2.0.1)\n",
            "Building wheels for collected packages: flask-bootstrap, visitor\n",
            "  Building wheel for flask-bootstrap (setup.py) ... \u001b[?25l\u001b[?25hdone\n",
            "  Created wheel for flask-bootstrap: filename=Flask_Bootstrap-3.3.7.1-py3-none-any.whl size=460124 sha256=2463866bf15064ae411372f8a76dda7485addeb009ce9ec9bc19cae99cb72af5\n",
            "  Stored in directory: /root/.cache/pip/wheels/67/a2/d6/50d039c9b59b4caca6d7b53839c8100354a52ab7553d2456eb\n",
            "  Building wheel for visitor (setup.py) ... \u001b[?25l\u001b[?25hdone\n",
            "  Created wheel for visitor: filename=visitor-0.1.3-py3-none-any.whl size=3943 sha256=a15af353032551bed84ffff9284eaa75c092e3cef1f4428378aff06260d8dc7c\n",
            "  Stored in directory: /root/.cache/pip/wheels/64/34/11/053f47218984c9a31a00f911ed98dda036b867481dcc527a12\n",
            "Successfully built flask-bootstrap visitor\n",
            "Installing collected packages: visitor, dominate, flask-bootstrap\n",
            "Successfully installed dominate-2.6.0 flask-bootstrap-3.3.7.1 visitor-0.1.3\n"
          ]
        }
      ]
    },
    {
      "cell_type": "code",
      "metadata": {
        "id": "o2p5iVP-BjaK"
      },
      "source": [
        "from flask_ngrok import run_with_ngrok\n",
        "import numpy as np\n",
        "import tensorflow as tf\n",
        "from flask import Flask,jsonify,make_response,request,render_template,flash,redirect,url_for\n",
        "from werkzeug.utils import secure_filename\n",
        "from tensorflow.keras.models import load_model\n",
        "import pickle\n",
        "import os"
      ],
      "execution_count": 2,
      "outputs": []
    },
    {
      "cell_type": "code",
      "metadata": {
        "colab": {
          "base_uri": "https://localhost:8080/"
        },
        "id": "Oy_wOEzcBmYr",
        "outputId": "ebbca733-1b0b-458f-9acc-6a9b3f1ffebc"
      },
      "source": [
        "\n",
        "from google.colab import drive\n",
        "drive.mount('/content/drive')"
      ],
      "execution_count": 3,
      "outputs": [
        {
          "output_type": "stream",
          "name": "stdout",
          "text": [
            "Mounted at /content/drive\n"
          ]
        }
      ]
    },
    {
      "cell_type": "code",
      "metadata": {
        "id": "buRBykI1-Ibo"
      },
      "source": [
        "UPLOAD_FOLDER = '/content/drive/MyDrive/Colab Notebooks/project4/static'\n",
        "ALLOWED_EXTENSIONS = {'jpg','jpeg'}\n"
      ],
      "execution_count": 5,
      "outputs": []
    },
    {
      "cell_type": "code",
      "metadata": {
        "colab": {
          "base_uri": "https://localhost:8080/"
        },
        "id": "OkpMaEASBpab",
        "outputId": "1fe303a6-bdba-43ea-9f35-5fb0031d6c12"
      },
      "source": [
        "\n",
        "\n",
        "\n",
        "from flask import Flask, request, jsonify, render_template,url_for\n",
        "import pickle\n",
        "import folium\n",
        "from math import cos, asin, sqrt, pi\n",
        "import pandas as pd\n",
        "import folium.plugins\n",
        "folium.plugins.MarkerCluster()\n",
        "\n",
        "from flask_ngrok import run_with_ngrok\n",
        "app = Flask(__name__, template_folder=\"/content/drive/MyDrive/Colab Notebooks/project4/templates\",static_folder=\"/content/drive/MyDrive/Colab Notebooks/project4/static\" )\n",
        "app.config['SESSION_TYPE'] = 'memcached'\n",
        "app.config['SECRET_KEY'] = 'super secret key'\n",
        "\n",
        "run_with_ngrok(app)\n",
        "# @app.route(\"/\")\n",
        "# def home():\n",
        "#   return render_template('index.html')\n",
        "\n",
        "\n",
        "app.config['UPLOAD_FOLDER'] = UPLOAD_FOLDER\n",
        "def allowed_file(filename):\n",
        "    print('.' in filename and \\\n",
        "           filename.rsplit('.', 1)[1].lower() in ALLOWED_EXTENSIONS)\n",
        "    return '.' in filename and \\\n",
        "           filename.rsplit('.', 1)[1].lower() in ALLOWED_EXTENSIONS\n",
        "@app.route(\"/\")\n",
        "def home():\n",
        "  return render_template('index.html')\n",
        "\n",
        "@app.route('/page2', methods=['GET', 'POST'])\n",
        "def upload_file():\n",
        "\n",
        "    if request.method == 'POST':\n",
        "        # check if the post request has the file part\n",
        "        if 'file' not in request.files:\n",
        "            flash('No file part')\n",
        "            return redirect(request.url)\n",
        "        file = request.files['file']\n",
        "        # If the user does not select a file, the browser submits an\n",
        "        # empty file without a filename.\n",
        "        if file.filename == '':\n",
        "            flash('No selected file')\n",
        "            return redirect(request.url)\n",
        "        if file and allowed_file(file.filename):\n",
        "            filename = secure_filename(file.filename)\n",
        "            file.save(os.path.join(app.config['UPLOAD_FOLDER'], filename))\n",
        "            predictions=download_file(name=filename)\n",
        "            \n",
        "\n",
        "            full_filename=url_for('static',filename = filename)\n",
        "\n",
        "            print(full_filename)\n",
        "            return render_template(\"xray.html\",predictions_text=predictions,filename=full_filename) \n",
        "            #return redirect(url_for('download_file', name=filename))\n",
        "    return render_template(\"xray.html\")       \n",
        "       \n",
        "\n",
        "\n",
        "from flask import send_from_directory\n",
        "\n",
        "@app.route('/uploads/<name>')\n",
        "def download_file(name):\n",
        "      \n",
        "     return xraypred(name)\n",
        "#@app.route(\"/getxraypredictions\")\n",
        "def xraypred(fileName):\n",
        "\n",
        "  model = load_model(\"/content/drive/MyDrive/project4data/mymodel.h5\")\n",
        "  from tensorflow.keras.preprocessing import image\n",
        "  filepath=\"/content/drive/MyDrive/Colab Notebooks/project4/static\"+\"/\"+fileName\n",
        "  print(filepath)\n",
        " \n",
        "  image_size = (256, 256,1)\n",
        "  im = image.load_img(filepath, target_size=image_size, color_mode=\"grayscale\")\n",
        "  \n",
        "  from tensorflow.keras.preprocessing.image import img_to_array\n",
        "\n",
        "  image = img_to_array(im)\n",
        "  img = image.flatten().reshape( -1,256, 256,1)\n",
        "  #plt.imshow(img.reshape(256, 256))\n",
        "  img = 1 - img\n",
        "  #plt.imshow(img.reshape(256, 256), cmap=plt.cm.Greys)\n",
        "  predictions = model.predict(img)\n",
        "  predicted= np.argmax(predictions,axis=1)\n",
        "  if predicted ==0:\n",
        "    predicted_string=\"The person has Covid\"\n",
        "  if predicted ==1:\n",
        "    predicted_string=\"the person does not have Covid\"\n",
        "  #print(predicted_string)\n",
        "  #predictions_string=np.array_str(predicted)\n",
        "  \n",
        "    \n",
        "  return (predicted_string)\n",
        "  \n",
        "\n",
        "model = pickle.load(open(\"/content/drive/MyDrive/Colab Notebooks/project4/model2.pkl\", 'rb'))  # file path may be different\n",
        "\n",
        "@app.route('/symptoms')\n",
        "def symptoms():\n",
        "    return render_template('symptoms1.html')\n",
        "@app.route('/predict', methods=['POST'])\n",
        "def predict():\n",
        "    int_features = [int(x) for x in request.form.values()]\n",
        "    final_features=[np.array(int_features)]\n",
        "    prediction=model.predict(final_features)\n",
        "    output=round(prediction[0],2)\n",
        "    if prediction == 1:\n",
        "        pred = \"Your symptoms show Covid detection, please consult a Doctor.\"\n",
        "    elif prediction == 0:\n",
        "        pred = \"You don't have Covid.\"\n",
        "    output = pred\n",
        "    return render_template('symptoms1.html', prediction_text='COVID Results {}'.format(output))\n",
        "\n",
        "\n",
        "@app.route('/map',methods=['GET','POST'])\n",
        "def drawmap():\n",
        "  zipcode=request.form.get('zipcode')\n",
        "  \n",
        "  #data=pd.read_csv(\"/content/drive/MyDrive/data.csv\")\n",
        "  hosp_df=pd.read_csv('/content/drive/MyDrive/Colab Notebooks/testMap/hospital_zip.csv')\n",
        "  hosp_df=(hosp_df[[\"hospital_name\", \"address\", \"city\", \"state\", \"zip\", \"LAT\", \"LNG\"]])\n",
        "  hosp_df['zip'] = hosp_df['zip'].apply(lambda x: '{0:0>5}'.format(x))\n",
        "  \n",
        "  for i, row in hosp_df.iterrows():\n",
        "   \n",
        "    if zipcode == row['zip']:\n",
        "        lat2=row['LAT']\n",
        "        long2=row['LNG']\n",
        "      \n",
        "  # p=pi/180\n",
        "  # results=[]\n",
        "  # zips = []\n",
        "  # lats = []\n",
        "  # longs = []\n",
        "  # for i, row in data.iterrows():\n",
        "  #   #hospital=hosp_df['hospital_name'][i]\n",
        "  #   lat1=row['latitude']\n",
        "  #   long1=row['longitude']\n",
        "  #   zip_code=row['zip']\n",
        "  #   a = 0.5 - cos((lat2-lat1)*p)/2 + cos(lat1*p) * cos(lat2*p) * (1-cos((long2-long1)*p))/2\n",
        "  #   result=12742*asin(sqrt(a))\n",
        "  #   results.append(result)\n",
        "  #   zips.append(zip_code)\n",
        "  #   lats.append(lat1)\n",
        "  #   longs.append(long1)\n",
        "\n",
        "\n",
        "  p=pi/180\n",
        "  results=[]\n",
        "  zips = []\n",
        "  lats = []\n",
        "  longs = []\n",
        "  hospitals = []\n",
        "  addresses= []\n",
        "  cities = []\n",
        "  states = []\n",
        "\n",
        "  for i, row in hosp_df.iterrows():\n",
        "      lat1=row['LAT']\n",
        "      long1=row['LNG']\n",
        "      hospital=hosp_df['hospital_name'][i]\n",
        "      address=hosp_df['address'][i]\n",
        "      city=hosp_df['city'][i]\n",
        "      state=hosp_df['state'][i]\n",
        "      zip_code=row['zip']\n",
        "      a = 0.5 - cos((lat2-lat1)*p)/2 + cos(lat1*p) * cos(lat2*p) * (1-cos((long2-long1)*p))/2\n",
        "      result=12742*asin(sqrt(a))\n",
        "      results.append(result)\n",
        "      zips.append(zip_code)\n",
        "      lats.append(lat1)\n",
        "      longs.append(long1)\n",
        "      hospitals.append(hospital)\n",
        "      #print(hospitals)\n",
        "      addresses.append(address)\n",
        "      cities.append(city)\n",
        "      states.append(state)\n",
        "    \n",
        "  df = pd.DataFrame(list(zip(results, zips, lats, longs, hospitals, addresses, cities, states)),\n",
        "               columns =['distance', 'zip_codes', 'latitude', 'longitude', 'hospital', 'address', 'city', 'state'])\n",
        "  fifteen_miles = df[df['distance']<= 15]\n",
        "  import folium.plugins\n",
        "  \n",
        "\n",
        "  #Base Map\n",
        "  usa = [37.090240, -95.712891]\n",
        "  Map_object = folium.Map(location=usa, zoom_start=4)\n",
        "  print(Map_object)\n",
        "  \n",
        "  for i in range(0, len(fifteen_miles)):\n",
        "    folium.Marker([fifteen_miles.iloc[i][\"latitude\"], fifteen_miles.iloc[i][\"longitude\"]], popup=fifteen_miles.iloc[i][\"hospital\"]).add_to(Map_object)\n",
        "\n",
        "  #folium.plugins.MarkerCluster()\n",
        "  folium.plugins.marker_cluster.MarkerCluster\n",
        "  from folium.plugins import MarkerCluster\n",
        "\n",
        "\n",
        "  \n",
        "  marker_cluster = MarkerCluster().add_to(Map_object)\n",
        "  #marker_cluster = folium.plugins.MarkerCluster()(\"hopitals\").add_to(Map)\n",
        "\n",
        "# # Load locally stored colchester public toilets data\n",
        "\n",
        "  for i in range(0, len(fifteen_miles)):\n",
        "    folium.Marker([fifteen_miles.iloc[i][\"latitude\"], fifteen_miles.iloc[i][\"longitude\"]], popup=fifteen_miles.iloc[i][\"zip_codes\"]).add_to(marker_cluster)\n",
        "  \n",
        "\n",
        "  print(Map_object._repr_html_())\n",
        "  return Map_object._repr_html_()\n",
        "\n",
        "\n",
        "\n",
        "\n",
        "\n",
        "    \n",
        "\n",
        "  \n",
        "app.run()\n"
      ],
      "execution_count": 11,
      "outputs": [
        {
          "output_type": "stream",
          "name": "stdout",
          "text": [
            " * Serving Flask app \"__main__\" (lazy loading)\n",
            " * Environment: production\n",
            "\u001b[31m   WARNING: This is a development server. Do not use it in a production deployment.\u001b[0m\n",
            "\u001b[2m   Use a production WSGI server instead.\u001b[0m\n",
            " * Debug mode: off\n"
          ]
        },
        {
          "output_type": "stream",
          "name": "stderr",
          "text": [
            "/usr/local/lib/python3.7/dist-packages/sklearn/base.py:318: UserWarning: Trying to unpickle estimator DecisionTreeClassifier from version 0.21.3 when using version 0.22.2.post1. This might lead to breaking code or invalid results. Use at your own risk.\n",
            "  UserWarning)\n",
            "/usr/local/lib/python3.7/dist-packages/sklearn/base.py:318: UserWarning: Trying to unpickle estimator RandomForestClassifier from version 0.21.3 when using version 0.22.2.post1. This might lead to breaking code or invalid results. Use at your own risk.\n",
            "  UserWarning)\n",
            " * Running on http://127.0.0.1:5000/ (Press CTRL+C to quit)\n"
          ]
        },
        {
          "output_type": "stream",
          "name": "stdout",
          "text": [
            " * Running on http://538a-35-186-175-173.ngrok.io\n",
            " * Traffic stats available on http://127.0.0.1:4040\n"
          ]
        },
        {
          "output_type": "stream",
          "name": "stderr",
          "text": [
            "127.0.0.1 - - [22/Sep/2021 01:31:32] \"\u001b[37mGET / HTTP/1.1\u001b[0m\" 200 -\n",
            "127.0.0.1 - - [22/Sep/2021 01:31:32] \"\u001b[33mGET /content/drive/MyDrive/Colab%20Notebooks/project4/assets/js/markerclusterer_compiled.js HTTP/1.1\u001b[0m\" 404 -\n",
            "127.0.0.1 - - [22/Sep/2021 01:31:33] \"\u001b[33mGET /content/drive/MyDrive/Colab%20Notebooks/project4/assets/js/markerclusterer_compiled.js HTTP/1.1\u001b[0m\" 404 -\n",
            "127.0.0.1 - - [22/Sep/2021 01:31:33] \"\u001b[33mGET /favicon.ico HTTP/1.1\u001b[0m\" 404 -\n",
            "127.0.0.1 - - [22/Sep/2021 01:31:34] \"\u001b[37mGET /symptoms HTTP/1.1\u001b[0m\" 200 -\n",
            "127.0.0.1 - - [22/Sep/2021 01:31:34] \"\u001b[33mGET /static/css/style.css HTTP/1.1\u001b[0m\" 404 -\n",
            "127.0.0.1 - - [22/Sep/2021 01:31:39] \"\u001b[37mPOST /map HTTP/1.1\u001b[0m\" 200 -\n"
          ]
        },
        {
          "output_type": "stream",
          "name": "stdout",
          "text": [
            "<folium.folium.Map object at 0x7ff2be00e490>\n",
            "<div style=\"width:100%;\"><div style=\"position:relative;width:100%;height:0;padding-bottom:60%;\"><span style=\"color:#565656\">Make this Notebook Trusted to load map: File -> Trust Notebook</span><iframe src=\"about:blank\" style=\"position:absolute;width:100%;height:100%;left:0;top:0;border:none !important;\" data-html=%3C%21DOCTYPE%20html%3E%0A%3Chead%3E%20%20%20%20%0A%20%20%20%20%3Cmeta%20http-equiv%3D%22content-type%22%20content%3D%22text/html%3B%20charset%3DUTF-8%22%20/%3E%0A%20%20%20%20%3Cscript%3EL_PREFER_CANVAS%3Dfalse%3B%20L_NO_TOUCH%3Dfalse%3B%20L_DISABLE_3D%3Dfalse%3B%3C/script%3E%0A%20%20%20%20%3Cscript%20src%3D%22https%3A//cdn.jsdelivr.net/npm/leaflet%401.4.0/dist/leaflet.js%22%3E%3C/script%3E%0A%20%20%20%20%3Cscript%20src%3D%22https%3A//code.jquery.com/jquery-1.12.4.min.js%22%3E%3C/script%3E%0A%20%20%20%20%3Cscript%20src%3D%22https%3A//maxcdn.bootstrapcdn.com/bootstrap/3.2.0/js/bootstrap.min.js%22%3E%3C/script%3E%0A%20%20%20%20%3Cscript%20src%3D%22https%3A//cdnjs.cloudflare.com/ajax/libs/Leaflet.awesome-markers/2.0.2/leaflet.awesome-markers.js%22%3E%3C/script%3E%0A%20%20%20%20%3Clink%20rel%3D%22stylesheet%22%20href%3D%22https%3A//cdn.jsdelivr.net/npm/leaflet%401.4.0/dist/leaflet.css%22/%3E%0A%20%20%20%20%3Clink%20rel%3D%22stylesheet%22%20href%3D%22https%3A//maxcdn.bootstrapcdn.com/bootstrap/3.2.0/css/bootstrap.min.css%22/%3E%0A%20%20%20%20%3Clink%20rel%3D%22stylesheet%22%20href%3D%22https%3A//maxcdn.bootstrapcdn.com/bootstrap/3.2.0/css/bootstrap-theme.min.css%22/%3E%0A%20%20%20%20%3Clink%20rel%3D%22stylesheet%22%20href%3D%22https%3A//maxcdn.bootstrapcdn.com/font-awesome/4.6.3/css/font-awesome.min.css%22/%3E%0A%20%20%20%20%3Clink%20rel%3D%22stylesheet%22%20href%3D%22https%3A//cdnjs.cloudflare.com/ajax/libs/Leaflet.awesome-markers/2.0.2/leaflet.awesome-markers.css%22/%3E%0A%20%20%20%20%3Clink%20rel%3D%22stylesheet%22%20href%3D%22https%3A//rawcdn.githack.com/python-visualization/folium/master/folium/templates/leaflet.awesome.rotate.css%22/%3E%0A%20%20%20%20%3Cstyle%3Ehtml%2C%20body%20%7Bwidth%3A%20100%25%3Bheight%3A%20100%25%3Bmargin%3A%200%3Bpadding%3A%200%3B%7D%3C/style%3E%0A%20%20%20%20%3Cstyle%3E%23map%20%7Bposition%3Aabsolute%3Btop%3A0%3Bbottom%3A0%3Bright%3A0%3Bleft%3A0%3B%7D%3C/style%3E%0A%20%20%20%20%0A%20%20%20%20%3Cmeta%20name%3D%22viewport%22%20content%3D%22width%3Ddevice-width%2C%0A%20%20%20%20%20%20%20%20initial-scale%3D1.0%2C%20maximum-scale%3D1.0%2C%20user-scalable%3Dno%22%20/%3E%0A%20%20%20%20%3Cstyle%3E%23map_f9c4c64be9a54bdaae21b5fa0a5fe988%20%7B%0A%20%20%20%20%20%20%20%20position%3A%20relative%3B%0A%20%20%20%20%20%20%20%20width%3A%20100.0%25%3B%0A%20%20%20%20%20%20%20%20height%3A%20100.0%25%3B%0A%20%20%20%20%20%20%20%20left%3A%200.0%25%3B%0A%20%20%20%20%20%20%20%20top%3A%200.0%25%3B%0A%20%20%20%20%20%20%20%20%7D%0A%20%20%20%20%3C/style%3E%0A%20%20%20%20%3Cscript%20src%3D%22https%3A//cdnjs.cloudflare.com/ajax/libs/leaflet.markercluster/1.1.0/leaflet.markercluster.js%22%3E%3C/script%3E%0A%20%20%20%20%3Clink%20rel%3D%22stylesheet%22%20href%3D%22https%3A//cdnjs.cloudflare.com/ajax/libs/leaflet.markercluster/1.1.0/MarkerCluster.css%22/%3E%0A%20%20%20%20%3Clink%20rel%3D%22stylesheet%22%20href%3D%22https%3A//cdnjs.cloudflare.com/ajax/libs/leaflet.markercluster/1.1.0/MarkerCluster.Default.css%22/%3E%0A%3C/head%3E%0A%3Cbody%3E%20%20%20%20%0A%20%20%20%20%0A%20%20%20%20%3Cdiv%20class%3D%22folium-map%22%20id%3D%22map_f9c4c64be9a54bdaae21b5fa0a5fe988%22%20%3E%3C/div%3E%0A%3C/body%3E%0A%3Cscript%3E%20%20%20%20%0A%20%20%20%20%0A%20%20%20%20%0A%20%20%20%20%20%20%20%20var%20bounds%20%3D%20null%3B%0A%20%20%20%20%0A%0A%20%20%20%20var%20map_f9c4c64be9a54bdaae21b5fa0a5fe988%20%3D%20L.map%28%0A%20%20%20%20%20%20%20%20%27map_f9c4c64be9a54bdaae21b5fa0a5fe988%27%2C%20%7B%0A%20%20%20%20%20%20%20%20center%3A%20%5B37.09024%2C%20-95.712891%5D%2C%0A%20%20%20%20%20%20%20%20zoom%3A%204%2C%0A%20%20%20%20%20%20%20%20maxBounds%3A%20bounds%2C%0A%20%20%20%20%20%20%20%20layers%3A%20%5B%5D%2C%0A%20%20%20%20%20%20%20%20worldCopyJump%3A%20false%2C%0A%20%20%20%20%20%20%20%20crs%3A%20L.CRS.EPSG3857%2C%0A%20%20%20%20%20%20%20%20zoomControl%3A%20true%2C%0A%20%20%20%20%20%20%20%20%7D%29%3B%0A%0A%0A%20%20%20%20%0A%20%20%20%20var%20tile_layer_fdaa2483d0aa4773ac0253bc56b6d770%20%3D%20L.tileLayer%28%0A%20%20%20%20%20%20%20%20%27https%3A//%7Bs%7D.tile.openstreetmap.org/%7Bz%7D/%7Bx%7D/%7By%7D.png%27%2C%0A%20%20%20%20%20%20%20%20%7B%0A%20%20%20%20%20%20%20%20%22attribution%22%3A%20null%2C%0A%20%20%20%20%20%20%20%20%22detectRetina%22%3A%20false%2C%0A%20%20%20%20%20%20%20%20%22maxNativeZoom%22%3A%2018%2C%0A%20%20%20%20%20%20%20%20%22maxZoom%22%3A%2018%2C%0A%20%20%20%20%20%20%20%20%22minZoom%22%3A%200%2C%0A%20%20%20%20%20%20%20%20%22noWrap%22%3A%20false%2C%0A%20%20%20%20%20%20%20%20%22opacity%22%3A%201%2C%0A%20%20%20%20%20%20%20%20%22subdomains%22%3A%20%22abc%22%2C%0A%20%20%20%20%20%20%20%20%22tms%22%3A%20false%0A%7D%29.addTo%28map_f9c4c64be9a54bdaae21b5fa0a5fe988%29%3B%0A%20%20%20%20%0A%20%20%20%20%20%20%20%20var%20marker_8690e1220d54466aa053c03619a2d08d%20%3D%20L.marker%28%0A%20%20%20%20%20%20%20%20%20%20%20%20%5B40.632647999999996%2C%20-74.116148%5D%2C%0A%20%20%20%20%20%20%20%20%20%20%20%20%7B%0A%20%20%20%20%20%20%20%20%20%20%20%20%20%20%20%20icon%3A%20new%20L.Icon.Default%28%29%2C%0A%20%20%20%20%20%20%20%20%20%20%20%20%20%20%20%20%7D%0A%20%20%20%20%20%20%20%20%20%20%20%20%29.addTo%28map_f9c4c64be9a54bdaae21b5fa0a5fe988%29%3B%0A%20%20%20%20%20%20%20%20%0A%20%20%20%20%0A%20%20%20%20%20%20%20%20%20%20%20%20var%20popup_3112e7a31b954bc6a22486e27fbe6acb%20%3D%20L.popup%28%7BmaxWidth%3A%20%27100%25%27%0A%20%20%20%20%20%20%20%20%20%20%20%20%0A%20%20%20%20%20%20%20%20%20%20%20%20%7D%29%3B%0A%0A%20%20%20%20%20%20%20%20%20%20%20%20%0A%20%20%20%20%20%20%20%20%20%20%20%20%20%20%20%20var%20html_b5954149f5c14db8b5eb315571d4fc3a%20%3D%20%24%28%60%3Cdiv%20id%3D%22html_b5954149f5c14db8b5eb315571d4fc3a%22%20style%3D%22width%3A%20100.0%25%3B%20height%3A%20100.0%25%3B%22%3ERICHMOND%20UNIVERSITY%20MEDICAL%20CENTER%3C/div%3E%60%29%5B0%5D%3B%0A%20%20%20%20%20%20%20%20%20%20%20%20%20%20%20%20popup_3112e7a31b954bc6a22486e27fbe6acb.setContent%28html_b5954149f5c14db8b5eb315571d4fc3a%29%3B%0A%20%20%20%20%20%20%20%20%20%20%20%20%0A%0A%20%20%20%20%20%20%20%20%20%20%20%20marker_8690e1220d54466aa053c03619a2d08d.bindPopup%28popup_3112e7a31b954bc6a22486e27fbe6acb%29%0A%20%20%20%20%20%20%20%20%20%20%20%20%3B%0A%0A%20%20%20%20%20%20%20%20%20%20%20%20%0A%20%20%20%20%20%20%20%20%0A%20%20%20%20%0A%20%20%20%20%20%20%20%20var%20marker_150831398891442ca181521f2ccf3abc%20%3D%20L.marker%28%0A%20%20%20%20%20%20%20%20%20%20%20%20%5B40.662688%2C%20-73.98674%5D%2C%0A%20%20%20%20%20%20%20%20%20%20%20%20%7B%0A%20%20%20%20%20%20%20%20%20%20%20%20%20%20%20%20icon%3A%20new%20L.Icon.Default%28%29%2C%0A%20%20%20%20%20%20%20%20%20%20%20%20%20%20%20%20%7D%0A%20%20%20%20%20%20%20%20%20%20%20%20%29.addTo%28map_f9c4c64be9a54bdaae21b5fa0a5fe988%29%3B%0A%20%20%20%20%20%20%20%20%0A%20%20%20%20%0A%20%20%20%20%20%20%20%20%20%20%20%20var%20popup_23e3a48bbc9f489aac047571af191492%20%3D%20L.popup%28%7BmaxWidth%3A%20%27100%25%27%0A%20%20%20%20%20%20%20%20%20%20%20%20%0A%20%20%20%20%20%20%20%20%20%20%20%20%7D%29%3B%0A%0A%20%20%20%20%20%20%20%20%20%20%20%20%0A%20%20%20%20%20%20%20%20%20%20%20%20%20%20%20%20var%20html_81c633e0b9ed4ca3b55bf58be1454ca2%20%3D%20%24%28%60%3Cdiv%20id%3D%22html_81c633e0b9ed4ca3b55bf58be1454ca2%22%20style%3D%22width%3A%20100.0%25%3B%20height%3A%20100.0%25%3B%22%3ENEW%20YORK-PRESBYTERIAN%20BROOKLYN%20METHODIST%20HOSPITAL%3C/div%3E%60%29%5B0%5D%3B%0A%20%20%20%20%20%20%20%20%20%20%20%20%20%20%20%20popup_23e3a48bbc9f489aac047571af191492.setContent%28html_81c633e0b9ed4ca3b55bf58be1454ca2%29%3B%0A%20%20%20%20%20%20%20%20%20%20%20%20%0A%0A%20%20%20%20%20%20%20%20%20%20%20%20marker_150831398891442ca181521f2ccf3abc.bindPopup%28popup_23e3a48bbc9f489aac047571af191492%29%0A%20%20%20%20%20%20%20%20%20%20%20%20%3B%0A%0A%20%20%20%20%20%20%20%20%20%20%20%20%0A%20%20%20%20%20%20%20%20%0A%20%20%20%20%0A%20%20%20%20%20%20%20%20var%20marker_c7dafcfa04f64ff29674a4f511d932dc%20%3D%20L.marker%28%0A%20%20%20%20%20%20%20%20%20%20%20%20%5B40.734924%2C%20-74.071875%5D%2C%0A%20%20%20%20%20%20%20%20%20%20%20%20%7B%0A%20%20%20%20%20%20%20%20%20%20%20%20%20%20%20%20icon%3A%20new%20L.Icon.Default%28%29%2C%0A%20%20%20%20%20%20%20%20%20%20%20%20%20%20%20%20%7D%0A%20%20%20%20%20%20%20%20%20%20%20%20%29.addTo%28map_f9c4c64be9a54bdaae21b5fa0a5fe988%29%3B%0A%20%20%20%20%20%20%20%20%0A%20%20%20%20%0A%20%20%20%20%20%20%20%20%20%20%20%20var%20popup_36213cdf517548b2ac5b5220df13bd3c%20%3D%20L.popup%28%7BmaxWidth%3A%20%27100%25%27%0A%20%20%20%20%20%20%20%20%20%20%20%20%0A%20%20%20%20%20%20%20%20%20%20%20%20%7D%29%3B%0A%0A%20%20%20%20%20%20%20%20%20%20%20%20%0A%20%20%20%20%20%20%20%20%20%20%20%20%20%20%20%20var%20html_90db6b8a604244629c2970a6263f5683%20%3D%20%24%28%60%3Cdiv%20id%3D%22html_90db6b8a604244629c2970a6263f5683%22%20style%3D%22width%3A%20100.0%25%3B%20height%3A%20100.0%25%3B%22%3ECAREPOINT%20HEALTH-CHRIST%20HOSPITAL%3C/div%3E%60%29%5B0%5D%3B%0A%20%20%20%20%20%20%20%20%20%20%20%20%20%20%20%20popup_36213cdf517548b2ac5b5220df13bd3c.setContent%28html_90db6b8a604244629c2970a6263f5683%29%3B%0A%20%20%20%20%20%20%20%20%20%20%20%20%0A%0A%20%20%20%20%20%20%20%20%20%20%20%20marker_c7dafcfa04f64ff29674a4f511d932dc.bindPopup%28popup_36213cdf517548b2ac5b5220df13bd3c%29%0A%20%20%20%20%20%20%20%20%20%20%20%20%3B%0A%0A%20%20%20%20%20%20%20%20%20%20%20%20%0A%20%20%20%20%20%20%20%20%0A%20%20%20%20%0A%20%20%20%20%20%20%20%20var%20marker_484cffe2cf9649348a17954c895de330%20%3D%20L.marker%28%0A%20%20%20%20%20%20%20%20%20%20%20%20%5B40.769258%2C%20-73.958751%5D%2C%0A%20%20%20%20%20%20%20%20%20%20%20%20%7B%0A%20%20%20%20%20%20%20%20%20%20%20%20%20%20%20%20icon%3A%20new%20L.Icon.Default%28%29%2C%0A%20%20%20%20%20%20%20%20%20%20%20%20%20%20%20%20%7D%0A%20%20%20%20%20%20%20%20%20%20%20%20%29.addTo%28map_f9c4c64be9a54bdaae21b5fa0a5fe988%29%3B%0A%20%20%20%20%20%20%20%20%0A%20%20%20%20%0A%20%20%20%20%20%20%20%20%20%20%20%20var%20popup_946519db2ffd4fc0a40ccf34aad6680b%20%3D%20L.popup%28%7BmaxWidth%3A%20%27100%25%27%0A%20%20%20%20%20%20%20%20%20%20%20%20%0A%20%20%20%20%20%20%20%20%20%20%20%20%7D%29%3B%0A%0A%20%20%20%20%20%20%20%20%20%20%20%20%0A%20%20%20%20%20%20%20%20%20%20%20%20%20%20%20%20var%20html_ba400f442aba4c0a814356add9ad4c2e%20%3D%20%24%28%60%3Cdiv%20id%3D%22html_ba400f442aba4c0a814356add9ad4c2e%22%20style%3D%22width%3A%20100.0%25%3B%20height%3A%20100.0%25%3B%22%3ELENOX%20HILL%20HOSPITAL%3C/div%3E%60%29%5B0%5D%3B%0A%20%20%20%20%20%20%20%20%20%20%20%20%20%20%20%20popup_946519db2ffd4fc0a40ccf34aad6680b.setContent%28html_ba400f442aba4c0a814356add9ad4c2e%29%3B%0A%20%20%20%20%20%20%20%20%20%20%20%20%0A%0A%20%20%20%20%20%20%20%20%20%20%20%20marker_484cffe2cf9649348a17954c895de330.bindPopup%28popup_946519db2ffd4fc0a40ccf34aad6680b%29%0A%20%20%20%20%20%20%20%20%20%20%20%20%3B%0A%0A%20%20%20%20%20%20%20%20%20%20%20%20%0A%20%20%20%20%20%20%20%20%0A%20%20%20%20%0A%20%20%20%20%20%20%20%20var%20marker_1c3a26e1165d4abca6905f8756fb4c88%20%3D%20L.marker%28%0A%20%20%20%20%20%20%20%20%20%20%20%20%5B40.745224%2C%20-73.978297%5D%2C%0A%20%20%20%20%20%20%20%20%20%20%20%20%7B%0A%20%20%20%20%20%20%20%20%20%20%20%20%20%20%20%20icon%3A%20new%20L.Icon.Default%28%29%2C%0A%20%20%20%20%20%20%20%20%20%20%20%20%20%20%20%20%7D%0A%20%20%20%20%20%20%20%20%20%20%20%20%29.addTo%28map_f9c4c64be9a54bdaae21b5fa0a5fe988%29%3B%0A%20%20%20%20%20%20%20%20%0A%20%20%20%20%0A%20%20%20%20%20%20%20%20%20%20%20%20var%20popup_f411a0c78c3a4fb9b6a21f4b093e00eb%20%3D%20L.popup%28%7BmaxWidth%3A%20%27100%25%27%0A%20%20%20%20%20%20%20%20%20%20%20%20%0A%20%20%20%20%20%20%20%20%20%20%20%20%7D%29%3B%0A%0A%20%20%20%20%20%20%20%20%20%20%20%20%0A%20%20%20%20%20%20%20%20%20%20%20%20%20%20%20%20var%20html_ebdec9e05d8f41c08ec5d13de584c30e%20%3D%20%24%28%60%3Cdiv%20id%3D%22html_ebdec9e05d8f41c08ec5d13de584c30e%22%20style%3D%22width%3A%20100.0%25%3B%20height%3A%20100.0%25%3B%22%3EBELLEVUE%20HOSPITAL%20CENTER%3C/div%3E%60%29%5B0%5D%3B%0A%20%20%20%20%20%20%20%20%20%20%20%20%20%20%20%20popup_f411a0c78c3a4fb9b6a21f4b093e00eb.setContent%28html_ebdec9e05d8f41c08ec5d13de584c30e%29%3B%0A%20%20%20%20%20%20%20%20%20%20%20%20%0A%0A%20%20%20%20%20%20%20%20%20%20%20%20marker_1c3a26e1165d4abca6905f8756fb4c88.bindPopup%28popup_f411a0c78c3a4fb9b6a21f4b093e00eb%29%0A%20%20%20%20%20%20%20%20%20%20%20%20%3B%0A%0A%20%20%20%20%20%20%20%20%20%20%20%20%0A%20%20%20%20%20%20%20%20%0A%20%20%20%20%0A%20%20%20%20%20%20%20%20var%20marker_8f6fc676786a4e6187115cdbf311ced0%20%3D%20L.marker%28%0A%20%20%20%20%20%20%20%20%20%20%20%20%5B40.709361%2C%20-74.209662%5D%2C%0A%20%20%20%20%20%20%20%20%20%20%20%20%7B%0A%20%20%20%20%20%20%20%20%20%20%20%20%20%20%20%20icon%3A%20new%20L.Icon.Default%28%29%2C%0A%20%20%20%20%20%20%20%20%20%20%20%20%20%20%20%20%7D%0A%20%20%20%20%20%20%20%20%20%20%20%20%29.addTo%28map_f9c4c64be9a54bdaae21b5fa0a5fe988%29%3B%0A%20%20%20%20%20%20%20%20%0A%20%20%20%20%0A%20%20%20%20%20%20%20%20%20%20%20%20var%20popup_ab44d233f7d4403699bbfcb8d02e3c80%20%3D%20L.popup%28%7BmaxWidth%3A%20%27100%25%27%0A%20%20%20%20%20%20%20%20%20%20%20%20%0A%20%20%20%20%20%20%20%20%20%20%20%20%7D%29%3B%0A%0A%20%20%20%20%20%20%20%20%20%20%20%20%0A%20%20%20%20%20%20%20%20%20%20%20%20%20%20%20%20var%20html_cbb5e9d3b3fb40da869d9539bb7a79d4%20%3D%20%24%28%60%3Cdiv%20id%3D%22html_cbb5e9d3b3fb40da869d9539bb7a79d4%22%20style%3D%22width%3A%20100.0%25%3B%20height%3A%20100.0%25%3B%22%3ENEWARK%20BETH%20ISRAEL%20MEDICAL%20CENTER%3C/div%3E%60%29%5B0%5D%3B%0A%20%20%20%20%20%20%20%20%20%20%20%20%20%20%20%20popup_ab44d233f7d4403699bbfcb8d02e3c80.setContent%28html_cbb5e9d3b3fb40da869d9539bb7a79d4%29%3B%0A%20%20%20%20%20%20%20%20%20%20%20%20%0A%0A%20%20%20%20%20%20%20%20%20%20%20%20marker_8f6fc676786a4e6187115cdbf311ced0.bindPopup%28popup_ab44d233f7d4403699bbfcb8d02e3c80%29%0A%20%20%20%20%20%20%20%20%20%20%20%20%3B%0A%0A%20%20%20%20%20%20%20%20%20%20%20%20%0A%20%20%20%20%20%20%20%20%0A%20%20%20%20%0A%20%20%20%20%20%20%20%20var%20marker_52c52c89831e4848b4840bb08dfad08c%20%3D%20L.marker%28%0A%20%20%20%20%20%20%20%20%20%20%20%20%5B40.704159999999995%2C%20-73.921139%5D%2C%0A%20%20%20%20%20%20%20%20%20%20%20%20%7B%0A%20%20%20%20%20%20%20%20%20%20%20%20%20%20%20%20icon%3A%20new%20L.Icon.Default%28%29%2C%0A%20%20%20%20%20%20%20%20%20%20%20%20%20%20%20%20%7D%0A%20%20%20%20%20%20%20%20%20%20%20%20%29.addTo%28map_f9c4c64be9a54bdaae21b5fa0a5fe988%29%3B%0A%20%20%20%20%20%20%20%20%0A%20%20%20%20%0A%20%20%20%20%20%20%20%20%20%20%20%20var%20popup_c261aeeb4d2b4abab13df913a27a1e72%20%3D%20L.popup%28%7BmaxWidth%3A%20%27100%25%27%0A%20%20%20%20%20%20%20%20%20%20%20%20%0A%20%20%20%20%20%20%20%20%20%20%20%20%7D%29%3B%0A%0A%20%20%20%20%20%20%20%20%20%20%20%20%0A%20%20%20%20%20%20%20%20%20%20%20%20%20%20%20%20var%20html_5cc32328804c466b990c2df82e496a20%20%3D%20%24%28%60%3Cdiv%20id%3D%22html_5cc32328804c466b990c2df82e496a20%22%20style%3D%22width%3A%20100.0%25%3B%20height%3A%20100.0%25%3B%22%3EWYCKOFF%20HEIGHTS%20MEDICAL%20CENTER%3C/div%3E%60%29%5B0%5D%3B%0A%20%20%20%20%20%20%20%20%20%20%20%20%20%20%20%20popup_c261aeeb4d2b4abab13df913a27a1e72.setContent%28html_5cc32328804c466b990c2df82e496a20%29%3B%0A%20%20%20%20%20%20%20%20%20%20%20%20%0A%0A%20%20%20%20%20%20%20%20%20%20%20%20marker_52c52c89831e4848b4840bb08dfad08c.bindPopup%28popup_c261aeeb4d2b4abab13df913a27a1e72%29%0A%20%20%20%20%20%20%20%20%20%20%20%20%3B%0A%0A%20%20%20%20%20%20%20%20%20%20%20%20%0A%20%20%20%20%20%20%20%20%0A%20%20%20%20%0A%20%20%20%20%20%20%20%20var%20marker_cf665d7a0c2c4e04aa0e2e097bc88bf3%20%3D%20L.marker%28%0A%20%20%20%20%20%20%20%20%20%20%20%20%5B40.745224%2C%20-73.978297%5D%2C%0A%20%20%20%20%20%20%20%20%20%20%20%20%7B%0A%20%20%20%20%20%20%20%20%20%20%20%20%20%20%20%20icon%3A%20new%20L.Icon.Default%28%29%2C%0A%20%20%20%20%20%20%20%20%20%20%20%20%20%20%20%20%7D%0A%20%20%20%20%20%20%20%20%20%20%20%20%29.addTo%28map_f9c4c64be9a54bdaae21b5fa0a5fe988%29%3B%0A%20%20%20%20%20%20%20%20%0A%20%20%20%20%0A%20%20%20%20%20%20%20%20%20%20%20%20var%20popup_7586627f2b634f6ba29f5859d4e1adf2%20%3D%20L.popup%28%7BmaxWidth%3A%20%27100%25%27%0A%20%20%20%20%20%20%20%20%20%20%20%20%0A%20%20%20%20%20%20%20%20%20%20%20%20%7D%29%3B%0A%0A%20%20%20%20%20%20%20%20%20%20%20%20%0A%20%20%20%20%20%20%20%20%20%20%20%20%20%20%20%20var%20html_91b76fcde4c94ce99986b842a2822a7a%20%3D%20%24%28%60%3Cdiv%20id%3D%22html_91b76fcde4c94ce99986b842a2822a7a%22%20style%3D%22width%3A%20100.0%25%3B%20height%3A%20100.0%25%3B%22%3ENYU%20LANGONE%20HOSPITALS%3C/div%3E%60%29%5B0%5D%3B%0A%20%20%20%20%20%20%20%20%20%20%20%20%20%20%20%20popup_7586627f2b634f6ba29f5859d4e1adf2.setContent%28html_91b76fcde4c94ce99986b842a2822a7a%29%3B%0A%20%20%20%20%20%20%20%20%20%20%20%20%0A%0A%20%20%20%20%20%20%20%20%20%20%20%20marker_cf665d7a0c2c4e04aa0e2e097bc88bf3.bindPopup%28popup_7586627f2b634f6ba29f5859d4e1adf2%29%0A%20%20%20%20%20%20%20%20%20%20%20%20%3B%0A%0A%20%20%20%20%20%20%20%20%20%20%20%20%0A%20%20%20%20%20%20%20%20%0A%20%20%20%20%0A%20%20%20%20%20%20%20%20var%20marker_f75d4c4b9d884982bffb005524211cce%20%3D%20L.marker%28%0A%20%20%20%20%20%20%20%20%20%20%20%20%5B40.764612%2C%20-73.963122%5D%2C%0A%20%20%20%20%20%20%20%20%20%20%20%20%7B%0A%20%20%20%20%20%20%20%20%20%20%20%20%20%20%20%20icon%3A%20new%20L.Icon.Default%28%29%2C%0A%20%20%20%20%20%20%20%20%20%20%20%20%20%20%20%20%7D%0A%20%20%20%20%20%20%20%20%20%20%20%20%29.addTo%28map_f9c4c64be9a54bdaae21b5fa0a5fe988%29%3B%0A%20%20%20%20%20%20%20%20%0A%20%20%20%20%0A%20%20%20%20%20%20%20%20%20%20%20%20var%20popup_d41dda331566458a94d3c1830a9df5f9%20%3D%20L.popup%28%7BmaxWidth%3A%20%27100%25%27%0A%20%20%20%20%20%20%20%20%20%20%20%20%0A%20%20%20%20%20%20%20%20%20%20%20%20%7D%29%3B%0A%0A%20%20%20%20%20%20%20%20%20%20%20%20%0A%20%20%20%20%20%20%20%20%20%20%20%20%20%20%20%20var%20html_69db9cbc88fe4a11b9f47b2824ccb46e%20%3D%20%24%28%60%3Cdiv%20id%3D%22html_69db9cbc88fe4a11b9f47b2824ccb46e%22%20style%3D%22width%3A%20100.0%25%3B%20height%3A%20100.0%25%3B%22%3ENEW%20YORK-PRESBYTERIAN%20HOSPITAL%3C/div%3E%60%29%5B0%5D%3B%0A%20%20%20%20%20%20%20%20%20%20%20%20%20%20%20%20popup_d41dda331566458a94d3c1830a9df5f9.setContent%28html_69db9cbc88fe4a11b9f47b2824ccb46e%29%3B%0A%20%20%20%20%20%20%20%20%20%20%20%20%0A%0A%20%20%20%20%20%20%20%20%20%20%20%20marker_f75d4c4b9d884982bffb005524211cce.bindPopup%28popup_d41dda331566458a94d3c1830a9df5f9%29%0A%20%20%20%20%20%20%20%20%20%20%20%20%3B%0A%0A%20%20%20%20%20%20%20%20%20%20%20%20%0A%20%20%20%20%20%20%20%20%0A%20%20%20%20%0A%20%20%20%20%20%20%20%20var%20marker_ef412f9db0a9482e8323298da1d8993a%20%3D%20L.marker%28%0A%20%20%20%20%20%20%20%20%20%20%20%20%5B40.812957%2C%20-73.937376%5D%2C%0A%20%20%20%20%20%20%20%20%20%20%20%20%7B%0A%20%20%20%20%20%20%20%20%20%20%20%20%20%20%20%20icon%3A%20new%20L.Icon.Default%28%29%2C%0A%20%20%20%20%20%20%20%20%20%20%20%20%20%20%20%20%7D%0A%20%20%20%20%20%20%20%20%20%20%20%20%29.addTo%28map_f9c4c64be9a54bdaae21b5fa0a5fe988%29%3B%0A%20%20%20%20%20%20%20%20%0A%20%20%20%20%0A%20%20%20%20%20%20%20%20%20%20%20%20var%20popup_9f4ce65f1674498dbbf8e4cce46a3cdd%20%3D%20L.popup%28%7BmaxWidth%3A%20%27100%25%27%0A%20%20%20%20%20%20%20%20%20%20%20%20%0A%20%20%20%20%20%20%20%20%20%20%20%20%7D%29%3B%0A%0A%20%20%20%20%20%20%20%20%20%20%20%20%0A%20%20%20%20%20%20%20%20%20%20%20%20%20%20%20%20var%20html_87de8b7fa2064a29a8b0a6bf7c503205%20%3D%20%24%28%60%3Cdiv%20id%3D%22html_87de8b7fa2064a29a8b0a6bf7c503205%22%20style%3D%22width%3A%20100.0%25%3B%20height%3A%20100.0%25%3B%22%3EHARLEM%20HOSPITAL%20CENTER%3C/div%3E%60%29%5B0%5D%3B%0A%20%20%20%20%20%20%20%20%20%20%20%20%20%20%20%20popup_9f4ce65f1674498dbbf8e4cce46a3cdd.setContent%28html_87de8b7fa2064a29a8b0a6bf7c503205%29%3B%0A%20%20%20%20%20%20%20%20%20%20%20%20%0A%0A%20%20%20%20%20%20%20%20%20%20%20%20marker_ef412f9db0a9482e8323298da1d8993a.bindPopup%28popup_9f4ce65f1674498dbbf8e4cce46a3cdd%29%0A%20%20%20%20%20%20%20%20%20%20%20%20%3B%0A%0A%20%20%20%20%20%20%20%20%20%20%20%20%0A%20%20%20%20%20%20%20%20%0A%20%20%20%20%0A%20%20%20%20%20%20%20%20var%20marker_af5f57ee6e6148d48f1f57baed3d46b3%20%3D%20L.marker%28%0A%20%20%20%20%20%20%20%20%20%20%20%20%5B40.649591%2C%20-73.934371%5D%2C%0A%20%20%20%20%20%20%20%20%20%20%20%20%7B%0A%20%20%20%20%20%20%20%20%20%20%20%20%20%20%20%20icon%3A%20new%20L.Icon.Default%28%29%2C%0A%20%20%20%20%20%20%20%20%20%20%20%20%20%20%20%20%7D%0A%20%20%20%20%20%20%20%20%20%20%20%20%29.addTo%28map_f9c4c64be9a54bdaae21b5fa0a5fe988%29%3B%0A%20%20%20%20%20%20%20%20%0A%20%20%20%20%0A%20%20%20%20%20%20%20%20%20%20%20%20var%20popup_f8ee7a9ec29443258d1bc4f3ecb0f470%20%3D%20L.popup%28%7BmaxWidth%3A%20%27100%25%27%0A%20%20%20%20%20%20%20%20%20%20%20%20%0A%20%20%20%20%20%20%20%20%20%20%20%20%7D%29%3B%0A%0A%20%20%20%20%20%20%20%20%20%20%20%20%0A%20%20%20%20%20%20%20%20%20%20%20%20%20%20%20%20var%20html_4b2486771c2b45b09fd6ba6e879a6ab6%20%3D%20%24%28%60%3Cdiv%20id%3D%22html_4b2486771c2b45b09fd6ba6e879a6ab6%22%20style%3D%22width%3A%20100.0%25%3B%20height%3A%20100.0%25%3B%22%3EKINGS%20COUNTY%20HOSPITAL%20CENTER%3C/div%3E%60%29%5B0%5D%3B%0A%20%20%20%20%20%20%20%20%20%20%20%20%20%20%20%20popup_f8ee7a9ec29443258d1bc4f3ecb0f470.setContent%28html_4b2486771c2b45b09fd6ba6e879a6ab6%29%3B%0A%20%20%20%20%20%20%20%20%20%20%20%20%0A%0A%20%20%20%20%20%20%20%20%20%20%20%20marker_af5f57ee6e6148d48f1f57baed3d46b3.bindPopup%28popup_f8ee7a9ec29443258d1bc4f3ecb0f470%29%0A%20%20%20%20%20%20%20%20%20%20%20%20%3B%0A%0A%20%20%20%20%20%20%20%20%20%20%20%20%0A%20%20%20%20%20%20%20%20%0A%20%20%20%20%0A%20%20%20%20%20%20%20%20var%20marker_7f3f2bd56bc24466879282dc29908d9c%20%3D%20L.marker%28%0A%20%20%20%20%20%20%20%20%20%20%20%20%5B40.719389%2C%20-74.04646899999999%5D%2C%0A%20%20%20%20%20%20%20%20%20%20%20%20%7B%0A%20%20%20%20%20%20%20%20%20%20%20%20%20%20%20%20icon%3A%20new%20L.Icon.Default%28%29%2C%0A%20%20%20%20%20%20%20%20%20%20%20%20%20%20%20%20%7D%0A%20%20%20%20%20%20%20%20%20%20%20%20%29.addTo%28map_f9c4c64be9a54bdaae21b5fa0a5fe988%29%3B%0A%20%20%20%20%20%20%20%20%0A%20%20%20%20%0A%20%20%20%20%20%20%20%20%20%20%20%20var%20popup_91aaaf63107444f381db8ba916d31958%20%3D%20L.popup%28%7BmaxWidth%3A%20%27100%25%27%0A%20%20%20%20%20%20%20%20%20%20%20%20%0A%20%20%20%20%20%20%20%20%20%20%20%20%7D%29%3B%0A%0A%20%20%20%20%20%20%20%20%20%20%20%20%0A%20%20%20%20%20%20%20%20%20%20%20%20%20%20%20%20var%20html_878e8d0212504bb08fd0ca2fdb75c996%20%3D%20%24%28%60%3Cdiv%20id%3D%22html_878e8d0212504bb08fd0ca2fdb75c996%22%20style%3D%22width%3A%20100.0%25%3B%20height%3A%20100.0%25%3B%22%3EJERSEY%20CITY%20MEDICAL%20CENTER%3C/div%3E%60%29%5B0%5D%3B%0A%20%20%20%20%20%20%20%20%20%20%20%20%20%20%20%20popup_91aaaf63107444f381db8ba916d31958.setContent%28html_878e8d0212504bb08fd0ca2fdb75c996%29%3B%0A%20%20%20%20%20%20%20%20%20%20%20%20%0A%0A%20%20%20%20%20%20%20%20%20%20%20%20marker_7f3f2bd56bc24466879282dc29908d9c.bindPopup%28popup_91aaaf63107444f381db8ba916d31958%29%0A%20%20%20%20%20%20%20%20%20%20%20%20%3B%0A%0A%20%20%20%20%20%20%20%20%20%20%20%20%0A%20%20%20%20%20%20%20%20%0A%20%20%20%20%0A%20%20%20%20%20%20%20%20%20%20%20%20var%20marker_cluster_5dad7bab8be64f55b6dc64a539807f09%20%3D%20L.markerClusterGroup%28%7B%7D%29%3B%0A%20%20%20%20%20%20%20%20%20%20%20%20map_f9c4c64be9a54bdaae21b5fa0a5fe988.addLayer%28marker_cluster_5dad7bab8be64f55b6dc64a539807f09%29%3B%0A%20%20%20%20%20%20%20%20%20%20%20%20%0A%20%20%20%20%0A%20%20%20%20%20%20%20%20var%20marker_d44f46a39e2941b0b4f503e32444e261%20%3D%20L.marker%28%0A%20%20%20%20%20%20%20%20%20%20%20%20%5B40.632647999999996%2C%20-74.116148%5D%2C%0A%20%20%20%20%20%20%20%20%20%20%20%20%7B%0A%20%20%20%20%20%20%20%20%20%20%20%20%20%20%20%20icon%3A%20new%20L.Icon.Default%28%29%2C%0A%20%20%20%20%20%20%20%20%20%20%20%20%20%20%20%20%7D%0A%20%20%20%20%20%20%20%20%20%20%20%20%29.addTo%28marker_cluster_5dad7bab8be64f55b6dc64a539807f09%29%3B%0A%20%20%20%20%20%20%20%20%0A%20%20%20%20%0A%20%20%20%20%20%20%20%20%20%20%20%20var%20popup_3375fb25bf9346b1a7bad675507b7b0a%20%3D%20L.popup%28%7BmaxWidth%3A%20%27100%25%27%0A%20%20%20%20%20%20%20%20%20%20%20%20%0A%20%20%20%20%20%20%20%20%20%20%20%20%7D%29%3B%0A%0A%20%20%20%20%20%20%20%20%20%20%20%20%0A%20%20%20%20%20%20%20%20%20%20%20%20%20%20%20%20var%20html_9592f5e79a9249e8a9bca3bec47b9a03%20%3D%20%24%28%60%3Cdiv%20id%3D%22html_9592f5e79a9249e8a9bca3bec47b9a03%22%20style%3D%22width%3A%20100.0%25%3B%20height%3A%20100.0%25%3B%22%3E10310%3C/div%3E%60%29%5B0%5D%3B%0A%20%20%20%20%20%20%20%20%20%20%20%20%20%20%20%20popup_3375fb25bf9346b1a7bad675507b7b0a.setContent%28html_9592f5e79a9249e8a9bca3bec47b9a03%29%3B%0A%20%20%20%20%20%20%20%20%20%20%20%20%0A%0A%20%20%20%20%20%20%20%20%20%20%20%20marker_d44f46a39e2941b0b4f503e32444e261.bindPopup%28popup_3375fb25bf9346b1a7bad675507b7b0a%29%0A%20%20%20%20%20%20%20%20%20%20%20%20%3B%0A%0A%20%20%20%20%20%20%20%20%20%20%20%20%0A%20%20%20%20%20%20%20%20%0A%20%20%20%20%0A%20%20%20%20%20%20%20%20var%20marker_be1c77df038740f18a95f4eb016a57af%20%3D%20L.marker%28%0A%20%20%20%20%20%20%20%20%20%20%20%20%5B40.662688%2C%20-73.98674%5D%2C%0A%20%20%20%20%20%20%20%20%20%20%20%20%7B%0A%20%20%20%20%20%20%20%20%20%20%20%20%20%20%20%20icon%3A%20new%20L.Icon.Default%28%29%2C%0A%20%20%20%20%20%20%20%20%20%20%20%20%20%20%20%20%7D%0A%20%20%20%20%20%20%20%20%20%20%20%20%29.addTo%28marker_cluster_5dad7bab8be64f55b6dc64a539807f09%29%3B%0A%20%20%20%20%20%20%20%20%0A%20%20%20%20%0A%20%20%20%20%20%20%20%20%20%20%20%20var%20popup_64ef465b4546419ca08fbb117cf9222a%20%3D%20L.popup%28%7BmaxWidth%3A%20%27100%25%27%0A%20%20%20%20%20%20%20%20%20%20%20%20%0A%20%20%20%20%20%20%20%20%20%20%20%20%7D%29%3B%0A%0A%20%20%20%20%20%20%20%20%20%20%20%20%0A%20%20%20%20%20%20%20%20%20%20%20%20%20%20%20%20var%20html_97d737ef9caa467ea323d4263a1ffa9a%20%3D%20%24%28%60%3Cdiv%20id%3D%22html_97d737ef9caa467ea323d4263a1ffa9a%22%20style%3D%22width%3A%20100.0%25%3B%20height%3A%20100.0%25%3B%22%3E11215%3C/div%3E%60%29%5B0%5D%3B%0A%20%20%20%20%20%20%20%20%20%20%20%20%20%20%20%20popup_64ef465b4546419ca08fbb117cf9222a.setContent%28html_97d737ef9caa467ea323d4263a1ffa9a%29%3B%0A%20%20%20%20%20%20%20%20%20%20%20%20%0A%0A%20%20%20%20%20%20%20%20%20%20%20%20marker_be1c77df038740f18a95f4eb016a57af.bindPopup%28popup_64ef465b4546419ca08fbb117cf9222a%29%0A%20%20%20%20%20%20%20%20%20%20%20%20%3B%0A%0A%20%20%20%20%20%20%20%20%20%20%20%20%0A%20%20%20%20%20%20%20%20%0A%20%20%20%20%0A%20%20%20%20%20%20%20%20var%20marker_e05bd303e08b4709bf0337603a63fabe%20%3D%20L.marker%28%0A%20%20%20%20%20%20%20%20%20%20%20%20%5B40.734924%2C%20-74.071875%5D%2C%0A%20%20%20%20%20%20%20%20%20%20%20%20%7B%0A%20%20%20%20%20%20%20%20%20%20%20%20%20%20%20%20icon%3A%20new%20L.Icon.Default%28%29%2C%0A%20%20%20%20%20%20%20%20%20%20%20%20%20%20%20%20%7D%0A%20%20%20%20%20%20%20%20%20%20%20%20%29.addTo%28marker_cluster_5dad7bab8be64f55b6dc64a539807f09%29%3B%0A%20%20%20%20%20%20%20%20%0A%20%20%20%20%0A%20%20%20%20%20%20%20%20%20%20%20%20var%20popup_556c455e65204217bee1847b31f02999%20%3D%20L.popup%28%7BmaxWidth%3A%20%27100%25%27%0A%20%20%20%20%20%20%20%20%20%20%20%20%0A%20%20%20%20%20%20%20%20%20%20%20%20%7D%29%3B%0A%0A%20%20%20%20%20%20%20%20%20%20%20%20%0A%20%20%20%20%20%20%20%20%20%20%20%20%20%20%20%20var%20html_b99467bcdf1e4a64ab17295cce29c995%20%3D%20%24%28%60%3Cdiv%20id%3D%22html_b99467bcdf1e4a64ab17295cce29c995%22%20style%3D%22width%3A%20100.0%25%3B%20height%3A%20100.0%25%3B%22%3E07306%3C/div%3E%60%29%5B0%5D%3B%0A%20%20%20%20%20%20%20%20%20%20%20%20%20%20%20%20popup_556c455e65204217bee1847b31f02999.setContent%28html_b99467bcdf1e4a64ab17295cce29c995%29%3B%0A%20%20%20%20%20%20%20%20%20%20%20%20%0A%0A%20%20%20%20%20%20%20%20%20%20%20%20marker_e05bd303e08b4709bf0337603a63fabe.bindPopup%28popup_556c455e65204217bee1847b31f02999%29%0A%20%20%20%20%20%20%20%20%20%20%20%20%3B%0A%0A%20%20%20%20%20%20%20%20%20%20%20%20%0A%20%20%20%20%20%20%20%20%0A%20%20%20%20%0A%20%20%20%20%20%20%20%20var%20marker_5bd402b8bf864cd88426ae4f794c73b9%20%3D%20L.marker%28%0A%20%20%20%20%20%20%20%20%20%20%20%20%5B40.769258%2C%20-73.958751%5D%2C%0A%20%20%20%20%20%20%20%20%20%20%20%20%7B%0A%20%20%20%20%20%20%20%20%20%20%20%20%20%20%20%20icon%3A%20new%20L.Icon.Default%28%29%2C%0A%20%20%20%20%20%20%20%20%20%20%20%20%20%20%20%20%7D%0A%20%20%20%20%20%20%20%20%20%20%20%20%29.addTo%28marker_cluster_5dad7bab8be64f55b6dc64a539807f09%29%3B%0A%20%20%20%20%20%20%20%20%0A%20%20%20%20%0A%20%20%20%20%20%20%20%20%20%20%20%20var%20popup_3975b422fb3d405da020c030cd854acc%20%3D%20L.popup%28%7BmaxWidth%3A%20%27100%25%27%0A%20%20%20%20%20%20%20%20%20%20%20%20%0A%20%20%20%20%20%20%20%20%20%20%20%20%7D%29%3B%0A%0A%20%20%20%20%20%20%20%20%20%20%20%20%0A%20%20%20%20%20%20%20%20%20%20%20%20%20%20%20%20var%20html_e2250a48d3644955854e532ec98a52cd%20%3D%20%24%28%60%3Cdiv%20id%3D%22html_e2250a48d3644955854e532ec98a52cd%22%20style%3D%22width%3A%20100.0%25%3B%20height%3A%20100.0%25%3B%22%3E10021%3C/div%3E%60%29%5B0%5D%3B%0A%20%20%20%20%20%20%20%20%20%20%20%20%20%20%20%20popup_3975b422fb3d405da020c030cd854acc.setContent%28html_e2250a48d3644955854e532ec98a52cd%29%3B%0A%20%20%20%20%20%20%20%20%20%20%20%20%0A%0A%20%20%20%20%20%20%20%20%20%20%20%20marker_5bd402b8bf864cd88426ae4f794c73b9.bindPopup%28popup_3975b422fb3d405da020c030cd854acc%29%0A%20%20%20%20%20%20%20%20%20%20%20%20%3B%0A%0A%20%20%20%20%20%20%20%20%20%20%20%20%0A%20%20%20%20%20%20%20%20%0A%20%20%20%20%0A%20%20%20%20%20%20%20%20var%20marker_e8c4812de6624978b50dfeaaf10fac6e%20%3D%20L.marker%28%0A%20%20%20%20%20%20%20%20%20%20%20%20%5B40.745224%2C%20-73.978297%5D%2C%0A%20%20%20%20%20%20%20%20%20%20%20%20%7B%0A%20%20%20%20%20%20%20%20%20%20%20%20%20%20%20%20icon%3A%20new%20L.Icon.Default%28%29%2C%0A%20%20%20%20%20%20%20%20%20%20%20%20%20%20%20%20%7D%0A%20%20%20%20%20%20%20%20%20%20%20%20%29.addTo%28marker_cluster_5dad7bab8be64f55b6dc64a539807f09%29%3B%0A%20%20%20%20%20%20%20%20%0A%20%20%20%20%0A%20%20%20%20%20%20%20%20%20%20%20%20var%20popup_75f2b8c0f744467582b482dabef7fee2%20%3D%20L.popup%28%7BmaxWidth%3A%20%27100%25%27%0A%20%20%20%20%20%20%20%20%20%20%20%20%0A%20%20%20%20%20%20%20%20%20%20%20%20%7D%29%3B%0A%0A%20%20%20%20%20%20%20%20%20%20%20%20%0A%20%20%20%20%20%20%20%20%20%20%20%20%20%20%20%20var%20html_b88bc278a7a24d30906cf42ca2061fa0%20%3D%20%24%28%60%3Cdiv%20id%3D%22html_b88bc278a7a24d30906cf42ca2061fa0%22%20style%3D%22width%3A%20100.0%25%3B%20height%3A%20100.0%25%3B%22%3E10016%3C/div%3E%60%29%5B0%5D%3B%0A%20%20%20%20%20%20%20%20%20%20%20%20%20%20%20%20popup_75f2b8c0f744467582b482dabef7fee2.setContent%28html_b88bc278a7a24d30906cf42ca2061fa0%29%3B%0A%20%20%20%20%20%20%20%20%20%20%20%20%0A%0A%20%20%20%20%20%20%20%20%20%20%20%20marker_e8c4812de6624978b50dfeaaf10fac6e.bindPopup%28popup_75f2b8c0f744467582b482dabef7fee2%29%0A%20%20%20%20%20%20%20%20%20%20%20%20%3B%0A%0A%20%20%20%20%20%20%20%20%20%20%20%20%0A%20%20%20%20%20%20%20%20%0A%20%20%20%20%0A%20%20%20%20%20%20%20%20var%20marker_2b37c029440b41e8be5d5cbbb79d7e3e%20%3D%20L.marker%28%0A%20%20%20%20%20%20%20%20%20%20%20%20%5B40.709361%2C%20-74.209662%5D%2C%0A%20%20%20%20%20%20%20%20%20%20%20%20%7B%0A%20%20%20%20%20%20%20%20%20%20%20%20%20%20%20%20icon%3A%20new%20L.Icon.Default%28%29%2C%0A%20%20%20%20%20%20%20%20%20%20%20%20%20%20%20%20%7D%0A%20%20%20%20%20%20%20%20%20%20%20%20%29.addTo%28marker_cluster_5dad7bab8be64f55b6dc64a539807f09%29%3B%0A%20%20%20%20%20%20%20%20%0A%20%20%20%20%0A%20%20%20%20%20%20%20%20%20%20%20%20var%20popup_2dc8c868fc524bdba87c1b0ec541d363%20%3D%20L.popup%28%7BmaxWidth%3A%20%27100%25%27%0A%20%20%20%20%20%20%20%20%20%20%20%20%0A%20%20%20%20%20%20%20%20%20%20%20%20%7D%29%3B%0A%0A%20%20%20%20%20%20%20%20%20%20%20%20%0A%20%20%20%20%20%20%20%20%20%20%20%20%20%20%20%20var%20html_7be35815cea64755b8447046e12af917%20%3D%20%24%28%60%3Cdiv%20id%3D%22html_7be35815cea64755b8447046e12af917%22%20style%3D%22width%3A%20100.0%25%3B%20height%3A%20100.0%25%3B%22%3E07112%3C/div%3E%60%29%5B0%5D%3B%0A%20%20%20%20%20%20%20%20%20%20%20%20%20%20%20%20popup_2dc8c868fc524bdba87c1b0ec541d363.setContent%28html_7be35815cea64755b8447046e12af917%29%3B%0A%20%20%20%20%20%20%20%20%20%20%20%20%0A%0A%20%20%20%20%20%20%20%20%20%20%20%20marker_2b37c029440b41e8be5d5cbbb79d7e3e.bindPopup%28popup_2dc8c868fc524bdba87c1b0ec541d363%29%0A%20%20%20%20%20%20%20%20%20%20%20%20%3B%0A%0A%20%20%20%20%20%20%20%20%20%20%20%20%0A%20%20%20%20%20%20%20%20%0A%20%20%20%20%0A%20%20%20%20%20%20%20%20var%20marker_01bce9b9f4c84f35869f2172668f6b87%20%3D%20L.marker%28%0A%20%20%20%20%20%20%20%20%20%20%20%20%5B40.704159999999995%2C%20-73.921139%5D%2C%0A%20%20%20%20%20%20%20%20%20%20%20%20%7B%0A%20%20%20%20%20%20%20%20%20%20%20%20%20%20%20%20icon%3A%20new%20L.Icon.Default%28%29%2C%0A%20%20%20%20%20%20%20%20%20%20%20%20%20%20%20%20%7D%0A%20%20%20%20%20%20%20%20%20%20%20%20%29.addTo%28marker_cluster_5dad7bab8be64f55b6dc64a539807f09%29%3B%0A%20%20%20%20%20%20%20%20%0A%20%20%20%20%0A%20%20%20%20%20%20%20%20%20%20%20%20var%20popup_1c32dc8bd2e14b599941e8ba4a696195%20%3D%20L.popup%28%7BmaxWidth%3A%20%27100%25%27%0A%20%20%20%20%20%20%20%20%20%20%20%20%0A%20%20%20%20%20%20%20%20%20%20%20%20%7D%29%3B%0A%0A%20%20%20%20%20%20%20%20%20%20%20%20%0A%20%20%20%20%20%20%20%20%20%20%20%20%20%20%20%20var%20html_528302bff2a3411f99fb743ca2a86f35%20%3D%20%24%28%60%3Cdiv%20id%3D%22html_528302bff2a3411f99fb743ca2a86f35%22%20style%3D%22width%3A%20100.0%25%3B%20height%3A%20100.0%25%3B%22%3E11237%3C/div%3E%60%29%5B0%5D%3B%0A%20%20%20%20%20%20%20%20%20%20%20%20%20%20%20%20popup_1c32dc8bd2e14b599941e8ba4a696195.setContent%28html_528302bff2a3411f99fb743ca2a86f35%29%3B%0A%20%20%20%20%20%20%20%20%20%20%20%20%0A%0A%20%20%20%20%20%20%20%20%20%20%20%20marker_01bce9b9f4c84f35869f2172668f6b87.bindPopup%28popup_1c32dc8bd2e14b599941e8ba4a696195%29%0A%20%20%20%20%20%20%20%20%20%20%20%20%3B%0A%0A%20%20%20%20%20%20%20%20%20%20%20%20%0A%20%20%20%20%20%20%20%20%0A%20%20%20%20%0A%20%20%20%20%20%20%20%20var%20marker_0c176de7744143d0bc39b242da711af3%20%3D%20L.marker%28%0A%20%20%20%20%20%20%20%20%20%20%20%20%5B40.745224%2C%20-73.978297%5D%2C%0A%20%20%20%20%20%20%20%20%20%20%20%20%7B%0A%20%20%20%20%20%20%20%20%20%20%20%20%20%20%20%20icon%3A%20new%20L.Icon.Default%28%29%2C%0A%20%20%20%20%20%20%20%20%20%20%20%20%20%20%20%20%7D%0A%20%20%20%20%20%20%20%20%20%20%20%20%29.addTo%28marker_cluster_5dad7bab8be64f55b6dc64a539807f09%29%3B%0A%20%20%20%20%20%20%20%20%0A%20%20%20%20%0A%20%20%20%20%20%20%20%20%20%20%20%20var%20popup_5cbd3559e69c416eaa057b3446100ada%20%3D%20L.popup%28%7BmaxWidth%3A%20%27100%25%27%0A%20%20%20%20%20%20%20%20%20%20%20%20%0A%20%20%20%20%20%20%20%20%20%20%20%20%7D%29%3B%0A%0A%20%20%20%20%20%20%20%20%20%20%20%20%0A%20%20%20%20%20%20%20%20%20%20%20%20%20%20%20%20var%20html_6dd4c32eaf4447c6a531c4ead34024bb%20%3D%20%24%28%60%3Cdiv%20id%3D%22html_6dd4c32eaf4447c6a531c4ead34024bb%22%20style%3D%22width%3A%20100.0%25%3B%20height%3A%20100.0%25%3B%22%3E10016%3C/div%3E%60%29%5B0%5D%3B%0A%20%20%20%20%20%20%20%20%20%20%20%20%20%20%20%20popup_5cbd3559e69c416eaa057b3446100ada.setContent%28html_6dd4c32eaf4447c6a531c4ead34024bb%29%3B%0A%20%20%20%20%20%20%20%20%20%20%20%20%0A%0A%20%20%20%20%20%20%20%20%20%20%20%20marker_0c176de7744143d0bc39b242da711af3.bindPopup%28popup_5cbd3559e69c416eaa057b3446100ada%29%0A%20%20%20%20%20%20%20%20%20%20%20%20%3B%0A%0A%20%20%20%20%20%20%20%20%20%20%20%20%0A%20%20%20%20%20%20%20%20%0A%20%20%20%20%0A%20%20%20%20%20%20%20%20var%20marker_5ea531b014594708a598d48d45b75017%20%3D%20L.marker%28%0A%20%20%20%20%20%20%20%20%20%20%20%20%5B40.764612%2C%20-73.963122%5D%2C%0A%20%20%20%20%20%20%20%20%20%20%20%20%7B%0A%20%20%20%20%20%20%20%20%20%20%20%20%20%20%20%20icon%3A%20new%20L.Icon.Default%28%29%2C%0A%20%20%20%20%20%20%20%20%20%20%20%20%20%20%20%20%7D%0A%20%20%20%20%20%20%20%20%20%20%20%20%29.addTo%28marker_cluster_5dad7bab8be64f55b6dc64a539807f09%29%3B%0A%20%20%20%20%20%20%20%20%0A%20%20%20%20%0A%20%20%20%20%20%20%20%20%20%20%20%20var%20popup_59ac1962d4914820b1e4625c7aa01237%20%3D%20L.popup%28%7BmaxWidth%3A%20%27100%25%27%0A%20%20%20%20%20%20%20%20%20%20%20%20%0A%20%20%20%20%20%20%20%20%20%20%20%20%7D%29%3B%0A%0A%20%20%20%20%20%20%20%20%20%20%20%20%0A%20%20%20%20%20%20%20%20%20%20%20%20%20%20%20%20var%20html_ed8da37d613f4dd98a185161c4ee1654%20%3D%20%24%28%60%3Cdiv%20id%3D%22html_ed8da37d613f4dd98a185161c4ee1654%22%20style%3D%22width%3A%20100.0%25%3B%20height%3A%20100.0%25%3B%22%3E10065%3C/div%3E%60%29%5B0%5D%3B%0A%20%20%20%20%20%20%20%20%20%20%20%20%20%20%20%20popup_59ac1962d4914820b1e4625c7aa01237.setContent%28html_ed8da37d613f4dd98a185161c4ee1654%29%3B%0A%20%20%20%20%20%20%20%20%20%20%20%20%0A%0A%20%20%20%20%20%20%20%20%20%20%20%20marker_5ea531b014594708a598d48d45b75017.bindPopup%28popup_59ac1962d4914820b1e4625c7aa01237%29%0A%20%20%20%20%20%20%20%20%20%20%20%20%3B%0A%0A%20%20%20%20%20%20%20%20%20%20%20%20%0A%20%20%20%20%20%20%20%20%0A%20%20%20%20%0A%20%20%20%20%20%20%20%20var%20marker_ca3fe7f5808a4ce9878164390fbece85%20%3D%20L.marker%28%0A%20%20%20%20%20%20%20%20%20%20%20%20%5B40.812957%2C%20-73.937376%5D%2C%0A%20%20%20%20%20%20%20%20%20%20%20%20%7B%0A%20%20%20%20%20%20%20%20%20%20%20%20%20%20%20%20icon%3A%20new%20L.Icon.Default%28%29%2C%0A%20%20%20%20%20%20%20%20%20%20%20%20%20%20%20%20%7D%0A%20%20%20%20%20%20%20%20%20%20%20%20%29.addTo%28marker_cluster_5dad7bab8be64f55b6dc64a539807f09%29%3B%0A%20%20%20%20%20%20%20%20%0A%20%20%20%20%0A%20%20%20%20%20%20%20%20%20%20%20%20var%20popup_c40a4e0d015d4351b91c5bbf0ef2f66c%20%3D%20L.popup%28%7BmaxWidth%3A%20%27100%25%27%0A%20%20%20%20%20%20%20%20%20%20%20%20%0A%20%20%20%20%20%20%20%20%20%20%20%20%7D%29%3B%0A%0A%20%20%20%20%20%20%20%20%20%20%20%20%0A%20%20%20%20%20%20%20%20%20%20%20%20%20%20%20%20var%20html_a5be12287e2a4ba893dfcefe867dde62%20%3D%20%24%28%60%3Cdiv%20id%3D%22html_a5be12287e2a4ba893dfcefe867dde62%22%20style%3D%22width%3A%20100.0%25%3B%20height%3A%20100.0%25%3B%22%3E10037%3C/div%3E%60%29%5B0%5D%3B%0A%20%20%20%20%20%20%20%20%20%20%20%20%20%20%20%20popup_c40a4e0d015d4351b91c5bbf0ef2f66c.setContent%28html_a5be12287e2a4ba893dfcefe867dde62%29%3B%0A%20%20%20%20%20%20%20%20%20%20%20%20%0A%0A%20%20%20%20%20%20%20%20%20%20%20%20marker_ca3fe7f5808a4ce9878164390fbece85.bindPopup%28popup_c40a4e0d015d4351b91c5bbf0ef2f66c%29%0A%20%20%20%20%20%20%20%20%20%20%20%20%3B%0A%0A%20%20%20%20%20%20%20%20%20%20%20%20%0A%20%20%20%20%20%20%20%20%0A%20%20%20%20%0A%20%20%20%20%20%20%20%20var%20marker_fb2293a602094765b26ec722ce075ac4%20%3D%20L.marker%28%0A%20%20%20%20%20%20%20%20%20%20%20%20%5B40.649591%2C%20-73.934371%5D%2C%0A%20%20%20%20%20%20%20%20%20%20%20%20%7B%0A%20%20%20%20%20%20%20%20%20%20%20%20%20%20%20%20icon%3A%20new%20L.Icon.Default%28%29%2C%0A%20%20%20%20%20%20%20%20%20%20%20%20%20%20%20%20%7D%0A%20%20%20%20%20%20%20%20%20%20%20%20%29.addTo%28marker_cluster_5dad7bab8be64f55b6dc64a539807f09%29%3B%0A%20%20%20%20%20%20%20%20%0A%20%20%20%20%0A%20%20%20%20%20%20%20%20%20%20%20%20var%20popup_d68a2a0b4d0e488ba52797ee5aea93d9%20%3D%20L.popup%28%7BmaxWidth%3A%20%27100%25%27%0A%20%20%20%20%20%20%20%20%20%20%20%20%0A%20%20%20%20%20%20%20%20%20%20%20%20%7D%29%3B%0A%0A%20%20%20%20%20%20%20%20%20%20%20%20%0A%20%20%20%20%20%20%20%20%20%20%20%20%20%20%20%20var%20html_a4ec34a7399b4ff0a49e81c7de69055f%20%3D%20%24%28%60%3Cdiv%20id%3D%22html_a4ec34a7399b4ff0a49e81c7de69055f%22%20style%3D%22width%3A%20100.0%25%3B%20height%3A%20100.0%25%3B%22%3E11203%3C/div%3E%60%29%5B0%5D%3B%0A%20%20%20%20%20%20%20%20%20%20%20%20%20%20%20%20popup_d68a2a0b4d0e488ba52797ee5aea93d9.setContent%28html_a4ec34a7399b4ff0a49e81c7de69055f%29%3B%0A%20%20%20%20%20%20%20%20%20%20%20%20%0A%0A%20%20%20%20%20%20%20%20%20%20%20%20marker_fb2293a602094765b26ec722ce075ac4.bindPopup%28popup_d68a2a0b4d0e488ba52797ee5aea93d9%29%0A%20%20%20%20%20%20%20%20%20%20%20%20%3B%0A%0A%20%20%20%20%20%20%20%20%20%20%20%20%0A%20%20%20%20%20%20%20%20%0A%20%20%20%20%0A%20%20%20%20%20%20%20%20var%20marker_11847a5ff5004be1b038a09dd064aab4%20%3D%20L.marker%28%0A%20%20%20%20%20%20%20%20%20%20%20%20%5B40.719389%2C%20-74.04646899999999%5D%2C%0A%20%20%20%20%20%20%20%20%20%20%20%20%7B%0A%20%20%20%20%20%20%20%20%20%20%20%20%20%20%20%20icon%3A%20new%20L.Icon.Default%28%29%2C%0A%20%20%20%20%20%20%20%20%20%20%20%20%20%20%20%20%7D%0A%20%20%20%20%20%20%20%20%20%20%20%20%29.addTo%28marker_cluster_5dad7bab8be64f55b6dc64a539807f09%29%3B%0A%20%20%20%20%20%20%20%20%0A%20%20%20%20%0A%20%20%20%20%20%20%20%20%20%20%20%20var%20popup_31d124a84a394aa7b83f3b7a24982875%20%3D%20L.popup%28%7BmaxWidth%3A%20%27100%25%27%0A%20%20%20%20%20%20%20%20%20%20%20%20%0A%20%20%20%20%20%20%20%20%20%20%20%20%7D%29%3B%0A%0A%20%20%20%20%20%20%20%20%20%20%20%20%0A%20%20%20%20%20%20%20%20%20%20%20%20%20%20%20%20var%20html_9bdb69f4fda04fe48f2a62e8a57c4903%20%3D%20%24%28%60%3Cdiv%20id%3D%22html_9bdb69f4fda04fe48f2a62e8a57c4903%22%20style%3D%22width%3A%20100.0%25%3B%20height%3A%20100.0%25%3B%22%3E07302%3C/div%3E%60%29%5B0%5D%3B%0A%20%20%20%20%20%20%20%20%20%20%20%20%20%20%20%20popup_31d124a84a394aa7b83f3b7a24982875.setContent%28html_9bdb69f4fda04fe48f2a62e8a57c4903%29%3B%0A%20%20%20%20%20%20%20%20%20%20%20%20%0A%0A%20%20%20%20%20%20%20%20%20%20%20%20marker_11847a5ff5004be1b038a09dd064aab4.bindPopup%28popup_31d124a84a394aa7b83f3b7a24982875%29%0A%20%20%20%20%20%20%20%20%20%20%20%20%3B%0A%0A%20%20%20%20%20%20%20%20%20%20%20%20%0A%20%20%20%20%20%20%20%20%0A%3C/script%3E onload=\"this.contentDocument.open();this.contentDocument.write(    decodeURIComponent(this.getAttribute('data-html')));this.contentDocument.close();\" allowfullscreen webkitallowfullscreen mozallowfullscreen></iframe></div></div>\n"
          ]
        }
      ]
    }
  ]
}